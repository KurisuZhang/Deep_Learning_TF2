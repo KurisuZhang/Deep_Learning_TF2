{
  "nbformat": 4,
  "nbformat_minor": 0,
  "metadata": {
    "colab": {
      "name": "低阶API.ipynb",
      "provenance": [],
      "collapsed_sections": [],
      "toc_visible": true
    },
    "kernelspec": {
      "name": "python3",
      "display_name": "Python 3"
    }
  },
  "cells": [
    {
      "cell_type": "markdown",
      "metadata": {
        "id": "5aSn5AW92Nvl",
        "colab_type": "text"
      },
      "source": [
        "# 低阶API"
      ]
    },
    {
      "cell_type": "markdown",
      "metadata": {
        "id": "JBzOSJEdsFjj",
        "colab_type": "text"
      },
      "source": [
        "![](https://raw.githubusercontent.com/LinCheungS/PicGo_Image_Storage/master/2020-1/20200503045512.png)"
      ]
    },
    {
      "cell_type": "markdown",
      "metadata": {
        "id": "-AM7bZCQ2UiR",
        "colab_type": "text"
      },
      "source": [
        "## 张量的操作"
      ]
    },
    {
      "cell_type": "markdown",
      "metadata": {
        "id": "b7Q5bky32dPb",
        "colab_type": "text"
      },
      "source": [
        "### 创建张量"
      ]
    },
    {
      "cell_type": "code",
      "metadata": {
        "id": "cWvAjpx32T94",
        "colab_type": "code",
        "colab": {}
      },
      "source": [
        "import tensorflow as tf\n",
        "import numpy as np"
      ],
      "execution_count": 0,
      "outputs": []
    },
    {
      "cell_type": "code",
      "metadata": {
        "id": "KKViphMF2kSD",
        "colab_type": "code",
        "outputId": "f8f23d5a-734c-4079-e72c-f97f161d7931",
        "colab": {
          "base_uri": "https://localhost:8080/",
          "height": 35
        }
      },
      "source": [
        "\"\"\"构建constant\"\"\"\n",
        "\n",
        "# 使用constant\n",
        "a = tf.constant([1,2,3],dtype = tf.float32)\n",
        "print(a)\n",
        "# 使用range\n",
        "b = tf.range(1,10,delta = 2)\n",
        "# 使用linspace\n",
        "c = tf.linspace(0.0,3.14,10)\n",
        "# 使用 zeros 和 ones\n",
        "d = tf.zeros([3,3])\n",
        "# 使用fill, 任意一个数\n",
        "e = tf.fill([3,3],5)\n",
        "# 正态分布随机\n",
        "f = tf.random.normal([3,3],mean=0.0,stddev=1.0)\n",
        "# 特殊矩阵\n",
        "I = tf.eye(3,3)\n",
        "# 对角阵\n",
        "t = tf.linalg.diag([1,2,3])"
      ],
      "execution_count": 0,
      "outputs": [
        {
          "output_type": "stream",
          "text": [
            "tf.Tensor([1. 2. 3.], shape=(3,), dtype=float32)\n"
          ],
          "name": "stdout"
        }
      ]
    },
    {
      "cell_type": "code",
      "metadata": {
        "id": "6wxEDkgfCzGo",
        "colab_type": "code",
        "outputId": "f1525285-4206-4786-f814-0ba194c29535",
        "colab": {
          "base_uri": "https://localhost:8080/",
          "height": 52
        }
      },
      "source": [
        "\"\"\"string编码解码\"\"\"\n",
        "# 构建 constant string array\n",
        "t = tf.constant([\"cafe\", \"coffee\", \"咖啡\"])\n",
        "print(tf.strings.length(t, unit=\"UTF8_CHAR\"))\n",
        "r = tf.strings.unicode_decode(t, \"UTF8\")\n",
        "print(r)"
      ],
      "execution_count": 0,
      "outputs": [
        {
          "output_type": "stream",
          "text": [
            "tf.Tensor([4 6 2], shape=(3,), dtype=int32)\n",
            "<tf.RaggedTensor [[99, 97, 102, 101], [99, 111, 102, 102, 101, 101], [21654, 21857]]>\n"
          ],
          "name": "stdout"
        }
      ]
    },
    {
      "cell_type": "code",
      "metadata": {
        "id": "aiXuBg7eD9zZ",
        "colab_type": "code",
        "outputId": "565c1c07-8d71-4ecd-be16-89c93343534f",
        "colab": {
          "base_uri": "https://localhost:8080/",
          "height": 156
        }
      },
      "source": [
        "\"\"\"ragged tensor\"\"\"\n",
        "# 构建维度不一致的ragged tensor shape[4,None]\n",
        "r = tf.ragged.constant([[11, 12], \n",
        "                        [21, 22, 23],\n",
        "                        [],\n",
        "                        [41]])\n",
        "# 索引操作, 拿到22\n",
        "print(r[1:2,1:2])\n",
        "# 合并拼接操作\n",
        "r2 = tf.ragged.constant([[51, 52], \n",
        "                         [], \n",
        "                         [71]])\n",
        "print(tf.concat([r, r2], axis = 0))\n",
        "r3 = tf.ragged.constant([[13, 14],\n",
        "                         [15], \n",
        "                         [], \n",
        "                         [42, 43]])\n",
        "print(tf.concat([r, r3], axis = 1))\n",
        "# 转换成普通tensor\n",
        "print(r.to_tensor())"
      ],
      "execution_count": 0,
      "outputs": [
        {
          "output_type": "stream",
          "text": [
            "<tf.RaggedTensor [[22]]>\n",
            "<tf.RaggedTensor [[11, 12], [21, 22, 23], [], [41], [51, 52], [], [71]]>\n",
            "<tf.RaggedTensor [[11, 12, 13, 14], [21, 22, 23, 15], [], [41, 42, 43]]>\n",
            "tf.Tensor(\n",
            "[[11 12  0]\n",
            " [21 22 23]\n",
            " [ 0  0  0]\n",
            " [41  0  0]], shape=(4, 3), dtype=int32)\n"
          ],
          "name": "stdout"
        }
      ]
    },
    {
      "cell_type": "code",
      "metadata": {
        "id": "4ACAvgD3FCWj",
        "colab_type": "code",
        "outputId": "df01bb25-3657-496a-cd67-fee9976d5338",
        "colab": {
          "base_uri": "https://localhost:8080/",
          "height": 156
        }
      },
      "source": [
        "\"\"\"sparse tensor\"\"\"\n",
        "# sparse tensor把ragged tensor的空位填0\n",
        "s = tf.SparseTensor(indices = [[0, 1], [1, 0], [2, 3]], # 位置\n",
        "                    values = [1., 2., 3.], # 依次将位置上填上值\n",
        "                    dense_shape = [3, 4]) # 维度\n",
        "# 如果位置的循序不是从大到小,需要reorder\n",
        "s = tf.sparse.reorder(s)\n",
        "# 转成普通的tensor\n",
        "print(tf.sparse.to_dense(s))\n",
        "# 乘法操作\n",
        "s2 = s * 2.0\n",
        "# 矩阵乘法\n",
        "s4 = tf.constant([[10., 20.],\n",
        "                  [30., 40.],\n",
        "                  [50., 60.],\n",
        "                  [70., 80.]])\n",
        "print(tf.sparse.sparse_dense_matmul(s, s4))"
      ],
      "execution_count": 0,
      "outputs": [
        {
          "output_type": "stream",
          "text": [
            "tf.Tensor(\n",
            "[[0. 1. 0. 0.]\n",
            " [2. 0. 0. 0.]\n",
            " [0. 0. 0. 3.]], shape=(3, 4), dtype=float32)\n",
            "tf.Tensor(\n",
            "[[ 30.  40.]\n",
            " [ 20.  40.]\n",
            " [210. 240.]], shape=(3, 2), dtype=float32)\n"
          ],
          "name": "stdout"
        }
      ]
    },
    {
      "cell_type": "code",
      "metadata": {
        "id": "A7qUZ5enKH-h",
        "colab_type": "code",
        "outputId": "7e11a20a-6247-4312-a850-391c073ef58b",
        "colab": {
          "base_uri": "https://localhost:8080/",
          "height": 260
        }
      },
      "source": [
        "\"\"\"Variables\"\"\"\n",
        "# 构建变量\n",
        "v = tf.Variable([[1., 2., 3.], [4., 5., 6.]])\n",
        "print(v)\n",
        "# 拿到tensor,和numpy的形式\n",
        "print(v.value(),\"\\n\",v.numpy())\n",
        "# 赋值操作\n",
        "v.assign(2*v)\n",
        "print(v.numpy())\n",
        "v[0, 1].assign(42)\n",
        "print(v.numpy())\n",
        "v[1].assign([7., 8., 9.])\n",
        "print(v.numpy())"
      ],
      "execution_count": 0,
      "outputs": [
        {
          "output_type": "stream",
          "text": [
            "<tf.Variable 'Variable:0' shape=(2, 3) dtype=float32, numpy=\n",
            "array([[1., 2., 3.],\n",
            "       [4., 5., 6.]], dtype=float32)>\n",
            "tf.Tensor(\n",
            "[[1. 2. 3.]\n",
            " [4. 5. 6.]], shape=(2, 3), dtype=float32) \n",
            " [[1. 2. 3.]\n",
            " [4. 5. 6.]]\n",
            "[[ 2.  4.  6.]\n",
            " [ 8. 10. 12.]]\n",
            "[[ 2. 42.  6.]\n",
            " [ 8. 10. 12.]]\n",
            "[[ 2. 42.  6.]\n",
            " [ 7.  8.  9.]]\n"
          ],
          "name": "stdout"
        }
      ]
    },
    {
      "cell_type": "markdown",
      "metadata": {
        "id": "rRNKsW2f4Ek7",
        "colab_type": "text"
      },
      "source": [
        "### 索引切片"
      ]
    },
    {
      "cell_type": "code",
      "metadata": {
        "id": "wnx47pEY2oZm",
        "colab_type": "code",
        "outputId": "3919e760-a6d5-4b80-842b-b9d59d0f6aab",
        "colab": {
          "base_uri": "https://localhost:8080/",
          "height": 121
        }
      },
      "source": [
        "# 使用seed创建随机张量\n",
        "tf.random.set_seed(666)\n",
        "t = tf.random.uniform([5,5],minval=0,maxval=10,dtype=tf.int32)\n",
        "print(t)"
      ],
      "execution_count": 0,
      "outputs": [
        {
          "output_type": "stream",
          "text": [
            "tf.Tensor(\n",
            "[[5 6 5 6 8]\n",
            " [9 1 0 2 1]\n",
            " [8 1 2 5 5]\n",
            " [5 5 7 3 7]\n",
            " [4 1 8 3 0]], shape=(5, 5), dtype=int32)\n"
          ],
          "name": "stdout"
        }
      ]
    },
    {
      "cell_type": "code",
      "metadata": {
        "id": "YwQH0sR84T16",
        "colab_type": "code",
        "outputId": "2d2d32ea-9a62-49aa-8d38-576b4f684e8c",
        "colab": {
          "base_uri": "https://localhost:8080/",
          "height": 173
        }
      },
      "source": [
        "\"\"\"行列操作\"\"\"\n",
        "#第0行\n",
        "tf.print(t[0])\n",
        "#倒数第一行\n",
        "tf.print(t[-1])\n",
        "#第1行第3列\n",
        "tf.print(t[1,3])\n",
        "#第1行至第3行\n",
        "tf.print(t[1:4,:])\n",
        "# 第1行至最后一行\n",
        "# 第0列到最后一列每隔两列取一列\n",
        "tf.print(t[1:4,:4:2])"
      ],
      "execution_count": 0,
      "outputs": [
        {
          "output_type": "stream",
          "text": [
            "[5 6 5 6 8]\n",
            "[4 1 8 3 0]\n",
            "2\n",
            "[[9 1 0 2 1]\n",
            " [8 1 2 5 5]\n",
            " [5 5 7 3 7]]\n",
            "[[9 0]\n",
            " [8 2]\n",
            " [5 7]]\n"
          ],
          "name": "stdout"
        }
      ]
    },
    {
      "cell_type": "code",
      "metadata": {
        "id": "zuov4G5150Ks",
        "colab_type": "code",
        "outputId": "8c13097e-7abb-400b-afc8-6ac56d3fd83f",
        "colab": {
          "base_uri": "https://localhost:8080/",
          "height": 52
        }
      },
      "source": [
        "#对变量来说，还可以使用索引和切片修改部分元素\n",
        "x = tf.Variable([[1,2],[3,4]],dtype = tf.float32)\n",
        "x[1,:].assign(tf.constant([0.0,0.0]))\n",
        "tf.print(x)"
      ],
      "execution_count": 0,
      "outputs": [
        {
          "output_type": "stream",
          "text": [
            "[[1 2]\n",
            " [0 0]]\n"
          ],
          "name": "stdout"
        }
      ]
    },
    {
      "cell_type": "code",
      "metadata": {
        "id": "R_39lxJ151YD",
        "colab_type": "code",
        "outputId": "7dab9cc8-eb23-489b-c46e-372b7d335608",
        "colab": {
          "base_uri": "https://localhost:8080/",
          "height": 35
        }
      },
      "source": [
        "#省略号可以表示多个冒号\n",
        "tf.print(x[...,1])"
      ],
      "execution_count": 0,
      "outputs": [
        {
          "output_type": "stream",
          "text": [
            "[2 0]\n"
          ],
          "name": "stdout"
        }
      ]
    },
    {
      "cell_type": "code",
      "metadata": {
        "id": "JnForXpS559Q",
        "colab_type": "code",
        "outputId": "388a963a-137a-4717-d71c-eff87014774d",
        "colab": {
          "base_uri": "https://localhost:8080/",
          "height": 329
        }
      },
      "source": [
        "\"\"\"对于不规则的切片提取\"\"\"\n",
        "# 生成数据\n",
        "# 3个班级，每个4个学生，每个5门成绩\n",
        "scores = tf.random.uniform((3,4,5),minval=0,maxval=100,dtype=tf.int32)\n",
        "\n",
        "# 抽取每个班级第0个学生，第3个学生的全部成绩\n",
        "p = tf.gather(scores,[0,3],axis=1)\n",
        "print(\"抽取每个班级第0个学生，第3个学生的全部成绩\")\n",
        "tf.print(p)\n",
        "# 抽取每个班级第0个学生，第2个学生的第1门课程，第3门课程成绩\n",
        "q = tf.gather(tf.gather(scores,[0,2],axis=1),[1,3],axis=2)\n",
        "print(\"抽取每个班级第0个学生，第2个学生的第1门课程，第3门课程成绩\")\n",
        "tf.print(q)"
      ],
      "execution_count": 0,
      "outputs": [
        {
          "output_type": "stream",
          "text": [
            "抽取每个班级第0个学生，第3个学生的全部成绩\n",
            "[[[4 86 55 34 29]\n",
            "  [31 61 62 19 73]]\n",
            "\n",
            " [[69 77 18 79 60]\n",
            "  [27 49 26 2 78]]\n",
            "\n",
            " [[54 23 9 69 33]\n",
            "  [55 48 10 55 38]]]\n",
            "抽取每个班级第0个学生，第2个学生的第1门课程，第3门课程成绩\n",
            "[[[86 34]\n",
            "  [75 45]]\n",
            "\n",
            " [[77 79]\n",
            "  [23 49]]\n",
            "\n",
            " [[23 69]\n",
            "  [37 39]]]\n"
          ],
          "name": "stdout"
        }
      ]
    },
    {
      "cell_type": "code",
      "metadata": {
        "id": "sPMiqiIY6Vbz",
        "colab_type": "code",
        "outputId": "e5ed4f98-f174-4201-e7c9-795bd3d6e9f5",
        "colab": {
          "base_uri": "https://localhost:8080/",
          "height": 312
        }
      },
      "source": [
        "\"\"\"利用tf.boolean_mask可以实现布尔索引\"\"\"\n",
        "# 全部大于80\n",
        "scores_boolean_great_80 = scores>80\n",
        "print(scores_boolean_great_80,\"\\n\")\n",
        "# 第0个班级,第0个人大于80\n",
        "scores_boolean_great_80 = scores[0,0,...]>80\n",
        "print(scores_boolean_great_80)"
      ],
      "execution_count": 0,
      "outputs": [
        {
          "output_type": "stream",
          "text": [
            "tf.Tensor(\n",
            "[[[False  True False False False]\n",
            "  [ True  True False  True False]\n",
            "  [False False False False False]\n",
            "  [False False False False False]]\n",
            "\n",
            " [[False False False False False]\n",
            "  [ True False False False False]\n",
            "  [False False False False False]\n",
            "  [False False False False False]]\n",
            "\n",
            " [[False False False False False]\n",
            "  [False False  True  True False]\n",
            "  [False False False False  True]\n",
            "  [False False False False False]]], shape=(3, 4, 5), dtype=bool) \n",
            "\n",
            "tf.Tensor([False  True False False False], shape=(5,), dtype=bool)\n"
          ],
          "name": "stdout"
        }
      ]
    },
    {
      "cell_type": "code",
      "metadata": {
        "id": "JPHMCS8180ky",
        "colab_type": "code",
        "outputId": "a8df7b65-0bc4-40ef-f6ff-c91b1b8f6f32",
        "colab": {
          "base_uri": "https://localhost:8080/",
          "height": 173
        }
      },
      "source": [
        "\"\"\"利用tf.where将某些数替换成某些数\"\"\"\n",
        "c = tf.constant([[-1,1,-1],[2,2,-2],[3,-3,3]],dtype=tf.float32)\n",
        "tf.print(\"原数据\\n\",c,\"\\n\")\n",
        "#找到张量中小于0的元素,将其换成np.nan得到新的张量\n",
        "#tf.where和np.where作用类似，可以理解为if的张量版本\n",
        "c = tf.constant([[-1,1,-1],[2,2,-2],[3,-3,3]],dtype=tf.float32)\n",
        "d = tf.where(c<0,tf.fill(c.shape,np.nan),c) \n",
        "tf.print(\"替换后\\n\",d)"
      ],
      "execution_count": 0,
      "outputs": [
        {
          "output_type": "stream",
          "text": [
            "原数据\n",
            " [[-1 1 -1]\n",
            " [2 2 -2]\n",
            " [3 -3 3]] \n",
            "\n",
            "替换后\n",
            " [[nan 1 nan]\n",
            " [2 2 nan]\n",
            " [3 nan 3]]\n"
          ],
          "name": "stdout"
        }
      ]
    },
    {
      "cell_type": "markdown",
      "metadata": {
        "id": "m5gfQtRf_QCJ",
        "colab_type": "text"
      },
      "source": [
        "### 维度变换"
      ]
    },
    {
      "cell_type": "markdown",
      "metadata": {
        "id": "HplFgAX-AK9U",
        "colab_type": "text"
      },
      "source": [
        "tf.reshape 可以改变张量的形状  \n",
        "\n",
        "tf.squeeze 可以减少维度  \n",
        "\n",
        "tf.expand_dims 可以增加维度  \n",
        "\n",
        "tf.transpose 可以交换维度  "
      ]
    },
    {
      "cell_type": "code",
      "metadata": {
        "id": "vASn491D_Ak_",
        "colab_type": "code",
        "colab": {}
      },
      "source": [
        "# 生成四维数据\n",
        "a = tf.random.uniform(shape=[1,3,3,2],\n",
        "                      minval=0,maxval=255,\n",
        "                      dtype=tf.int32)"
      ],
      "execution_count": 0,
      "outputs": []
    },
    {
      "cell_type": "code",
      "metadata": {
        "id": "aR-GRblqDVgS",
        "colab_type": "code",
        "outputId": "da4c2698-27b9-4ed5-a721-1c41a60f7df9",
        "colab": {
          "base_uri": "https://localhost:8080/",
          "height": 87
        }
      },
      "source": [
        "\"\"\"reshape,改成二维shpe[3,6]的张量\"\"\"\n",
        "b = tf.reshape(a,[3,6])\n",
        "tf.print(b.shape)\n",
        "tf.print(b)"
      ],
      "execution_count": 0,
      "outputs": [
        {
          "output_type": "stream",
          "text": [
            "TensorShape([3, 6])\n",
            "[[124 243 2 141 44 143]\n",
            " [95 185 169 9 230 192]\n",
            " [213 73 137 252 34 1]]\n"
          ],
          "name": "stdout"
        }
      ]
    },
    {
      "cell_type": "code",
      "metadata": {
        "id": "7yPTdjKoDddV",
        "colab_type": "code",
        "outputId": "a0e10dc0-1a5a-4fe5-94e1-b158adc82daa",
        "colab": {
          "base_uri": "https://localhost:8080/",
          "height": 225
        }
      },
      "source": [
        "\"\"\"某个维度是1，tf.squeeze消除这个维度\"\"\"\n",
        "s = tf.squeeze(a)\n",
        "tf.print(s.shape)\n",
        "tf.print(s)"
      ],
      "execution_count": 0,
      "outputs": [
        {
          "output_type": "stream",
          "text": [
            "TensorShape([3, 3, 2])\n",
            "[[[124 243]\n",
            "  [2 141]\n",
            "  [44 143]]\n",
            "\n",
            " [[95 185]\n",
            "  [169 9]\n",
            "  [230 192]]\n",
            "\n",
            " [[213 73]\n",
            "  [137 252]\n",
            "  [34 1]]]\n"
          ],
          "name": "stdout"
        }
      ]
    },
    {
      "cell_type": "code",
      "metadata": {
        "id": "sKVN7Jj0DubU",
        "colab_type": "code",
        "outputId": "1d19ceca-cd9f-4cde-8740-e7278bc180b5",
        "colab": {
          "base_uri": "https://localhost:8080/",
          "height": 260
        }
      },
      "source": [
        "\"\"\"expand_dims,在第0维插入长度为1的一个维度\"\"\"\n",
        "d = tf.expand_dims(s,axis=0)\n",
        "tf.print(d.shape)\n",
        "tf.print(d)\n",
        "\n",
        "\"\"\"transpose转换维度的顺序\"\"\"\n",
        "# Batch,Height,Width,Channel\n",
        "a = tf.random.uniform(shape=[100,600,600,4],minval=0,maxval=255,dtype=tf.int32)\n",
        "tf.print(a.shape)\n",
        "\n",
        "# 转换成 Channel,Height,Width,Batch\n",
        "s= tf.transpose(a,perm=[3,1,2,0])\n",
        "tf.print(s.shape)"
      ],
      "execution_count": 0,
      "outputs": [
        {
          "output_type": "stream",
          "text": [
            "TensorShape([1, 3, 3, 2])\n",
            "[[[[124 243]\n",
            "   [2 141]\n",
            "   [44 143]]\n",
            "\n",
            "  [[95 185]\n",
            "   [169 9]\n",
            "   [230 192]]\n",
            "\n",
            "  [[213 73]\n",
            "   [137 252]\n",
            "   [34 1]]]]\n",
            "TensorShape([100, 600, 600, 4])\n",
            "TensorShape([4, 600, 600, 100])\n"
          ],
          "name": "stdout"
        }
      ]
    },
    {
      "cell_type": "markdown",
      "metadata": {
        "id": "OomxAVMtFKgA",
        "colab_type": "text"
      },
      "source": [
        "### 合并分割"
      ]
    },
    {
      "cell_type": "code",
      "metadata": {
        "id": "hbU3EJSjEY8e",
        "colab_type": "code",
        "outputId": "5a4d2984-1884-4418-9ae0-77c19b93a50c",
        "colab": {
          "base_uri": "https://localhost:8080/",
          "height": 485
        }
      },
      "source": [
        "\"\"\"合并操作\"\"\"\n",
        "\n",
        "a = tf.constant([[1.0,2.0],[3.0,4.0]])\n",
        "b = tf.constant([[5.0,6.0],[7.0,8.0]])\n",
        "c = tf.constant([[9.0,10.0],[11.0,12.0]])\n",
        "\n",
        "# tf.concat是连接，不会增加维度\n",
        "q = tf.concat([a,b,c],axis = 0)\n",
        "print(\"concat,axis = 0 : \",q)\n",
        "w = tf.concat([a,b,c],axis = 1)\n",
        "print(\"concat,axis = 1 : \",w)\n",
        "\n",
        "# tf.stack是堆叠，会增加维度\n",
        "e = tf.stack([a,b,c], axis=0)\n",
        "print(\"stackm axis=0: \",e)\n",
        "r = tf.stack([a,b,c], axis=1)\n",
        "print(\"stack, axis=1: \",r)"
      ],
      "execution_count": 0,
      "outputs": [
        {
          "output_type": "stream",
          "text": [
            "concat,axis = 0 :  tf.Tensor(\n",
            "[[ 1.  2.]\n",
            " [ 3.  4.]\n",
            " [ 5.  6.]\n",
            " [ 7.  8.]\n",
            " [ 9. 10.]\n",
            " [11. 12.]], shape=(6, 2), dtype=float32)\n",
            "concat,axis = 1 :  tf.Tensor(\n",
            "[[ 1.  2.  5.  6.  9. 10.]\n",
            " [ 3.  4.  7.  8. 11. 12.]], shape=(2, 6), dtype=float32)\n",
            "stackm axis=0:  tf.Tensor(\n",
            "[[[ 1.  2.]\n",
            "  [ 3.  4.]]\n",
            "\n",
            " [[ 5.  6.]\n",
            "  [ 7.  8.]]\n",
            "\n",
            " [[ 9. 10.]\n",
            "  [11. 12.]]], shape=(3, 2, 2), dtype=float32)\n",
            "stack, axis=1:  tf.Tensor(\n",
            "[[[ 1.  2.]\n",
            "  [ 5.  6.]\n",
            "  [ 9. 10.]]\n",
            "\n",
            " [[ 3.  4.]\n",
            "  [ 7.  8.]\n",
            "  [11. 12.]]], shape=(2, 3, 2), dtype=float32)\n"
          ],
          "name": "stdout"
        }
      ]
    },
    {
      "cell_type": "code",
      "metadata": {
        "id": "Ctv_j8IGGldE",
        "colab_type": "code",
        "outputId": "c5ef447f-7d64-44db-d97c-213dd8001a20",
        "colab": {
          "base_uri": "https://localhost:8080/",
          "height": 367
        }
      },
      "source": [
        "\"\"\"分割操作\"\"\"\n",
        "\n",
        "a = tf.constant([[1.0,2.0],[3.0,4.0]])\n",
        "b = tf.constant([[5.0,6.0],[7.0,8.0]])\n",
        "c = tf.constant([[9.0,10.0],[11.0,12.0]])\n",
        "c = tf.concat([a,b,c],axis = 0)\n",
        "print(\"元数据shape: \",c.shape)\n",
        "\n",
        "#tf.split(value,num_or_size_splits,axis)\n",
        "#指定分割份数，平均分割\n",
        "q = tf.split(c,2,axis = 1) \n",
        "print(\"平均分割: \",q)\n",
        "\n",
        "#指定每份的数量, [1,2],[4,2],[1,2]\n",
        "w = tf.split(c,[1,4,1],axis = 0) \n",
        "print(\"指定每份的数量:\",w)"
      ],
      "execution_count": 0,
      "outputs": [
        {
          "output_type": "stream",
          "text": [
            "元数据shape:  (6, 2)\n",
            "平均分割:  [<tf.Tensor: shape=(6, 1), dtype=float32, numpy=\n",
            "array([[ 1.],\n",
            "       [ 3.],\n",
            "       [ 5.],\n",
            "       [ 7.],\n",
            "       [ 9.],\n",
            "       [11.]], dtype=float32)>, <tf.Tensor: shape=(6, 1), dtype=float32, numpy=\n",
            "array([[ 2.],\n",
            "       [ 4.],\n",
            "       [ 6.],\n",
            "       [ 8.],\n",
            "       [10.],\n",
            "       [12.]], dtype=float32)>]\n",
            "指定每份的数量: [<tf.Tensor: shape=(1, 2), dtype=float32, numpy=array([[1., 2.]], dtype=float32)>, <tf.Tensor: shape=(4, 2), dtype=float32, numpy=\n",
            "array([[ 3.,  4.],\n",
            "       [ 5.,  6.],\n",
            "       [ 7.,  8.],\n",
            "       [ 9., 10.]], dtype=float32)>, <tf.Tensor: shape=(1, 2), dtype=float32, numpy=array([[11., 12.]], dtype=float32)>]\n"
          ],
          "name": "stdout"
        }
      ]
    },
    {
      "cell_type": "markdown",
      "metadata": {
        "id": "Em2IukWdQPn_",
        "colab_type": "text"
      },
      "source": [
        "## 张量数学运算"
      ]
    },
    {
      "cell_type": "markdown",
      "metadata": {
        "id": "oNERwq7ya3ke",
        "colab_type": "text"
      },
      "source": [
        "### 标量运算"
      ]
    },
    {
      "cell_type": "code",
      "metadata": {
        "id": "vtufD0LxIFoF",
        "colab_type": "code",
        "outputId": "2ff60bd5-690f-42cc-b010-e863c0725a34",
        "colab": {
          "base_uri": "https://localhost:8080/",
          "height": 69
        }
      },
      "source": [
        "import tensorflow as tf \n",
        "import numpy as np\n",
        "a = tf.constant([[1.0,2],[-3,4.0]])\n",
        "b = tf.constant([[5.0,6],[7.0,8.0]])\n"
      ],
      "execution_count": 0,
      "outputs": [
        {
          "output_type": "execute_result",
          "data": {
            "text/plain": [
              "<tf.Tensor: shape=(2, 2), dtype=float32, numpy=\n",
              "array([[ 1.,  4.],\n",
              "       [ 9., 16.]], dtype=float32)>"
            ]
          },
          "metadata": {
            "tags": []
          },
          "execution_count": 44
        }
      ]
    },
    {
      "cell_type": "code",
      "metadata": {
        "id": "qNTkL-hYdmy8",
        "colab_type": "code",
        "outputId": "594ec57a-47e0-49d2-8fa3-ff1a9f3b1f4e",
        "colab": {
          "base_uri": "https://localhost:8080/",
          "height": 69
        }
      },
      "source": [
        "\"\"\"+ - * / 次方\"\"\"\n",
        "a+b\n",
        "a-b\n",
        "a*b\n",
        "a/b\n",
        "a**2"
      ],
      "execution_count": 0,
      "outputs": [
        {
          "output_type": "execute_result",
          "data": {
            "text/plain": [
              "<tf.Tensor: shape=(2, 2), dtype=float32, numpy=\n",
              "array([[ 1.,  4.],\n",
              "       [ 9., 16.]], dtype=float32)>"
            ]
          },
          "metadata": {
            "tags": []
          },
          "execution_count": 45
        }
      ]
    },
    {
      "cell_type": "code",
      "metadata": {
        "id": "zMOQLhKzdxqM",
        "colab_type": "code",
        "outputId": "a8713394-977a-4b92-c9e1-00a42b033a55",
        "colab": {
          "base_uri": "https://localhost:8080/",
          "height": 69
        }
      },
      "source": [
        "\"\"\"生成某条件boolean矩阵\"\"\"\n",
        "# 等于操作\n",
        "a==5\n",
        "a>=2\n",
        "# 与操作\n",
        "(a>=2)&(a<=3)\n",
        "# 或操作\n",
        "(a>=2)|(a<=3)"
      ],
      "execution_count": 0,
      "outputs": [
        {
          "output_type": "execute_result",
          "data": {
            "text/plain": [
              "<tf.Tensor: shape=(2, 2), dtype=bool, numpy=\n",
              "array([[ True,  True],\n",
              "       [ True,  True]])>"
            ]
          },
          "metadata": {
            "tags": []
          },
          "execution_count": 46
        }
      ]
    },
    {
      "cell_type": "code",
      "metadata": {
        "id": "sxpZUsFweJUh",
        "colab_type": "code",
        "outputId": "41d2797f-5ba3-4f08-de9f-e163a2080886",
        "colab": {
          "base_uri": "https://localhost:8080/",
          "height": 35
        }
      },
      "source": [
        "\"\"\"数学特征操作\"\"\"\n",
        "a = tf.constant([1.0,8.0])\n",
        "b = tf.constant([5.0,6.0])\n",
        "c = tf.constant([6.0,7.0])\n",
        "# 平方\n",
        "tf.sqrt(a)\n",
        "# 相加\n",
        "tf.add_n([a,b,c])\n",
        "# 最大值\n",
        "tf.maximum(a,b)\n",
        "# 最小值\n",
        "tf.minimum(a,b)"
      ],
      "execution_count": 0,
      "outputs": [
        {
          "output_type": "execute_result",
          "data": {
            "text/plain": [
              "<tf.Tensor: shape=(2,), dtype=float32, numpy=array([1., 6.], dtype=float32)>"
            ]
          },
          "metadata": {
            "tags": []
          },
          "execution_count": 47
        }
      ]
    },
    {
      "cell_type": "markdown",
      "metadata": {
        "id": "e6xHyj1yemFT",
        "colab_type": "text"
      },
      "source": [
        "### 向量运算"
      ]
    },
    {
      "cell_type": "markdown",
      "metadata": {
        "id": "pQs3rz9metNZ",
        "colab_type": "text"
      },
      "source": [
        "向量运算符只在一个特定轴上运算，将一个向量映射到一个标量或者另外一个向量。 许多向量运算符都以reduce开头。"
      ]
    },
    {
      "cell_type": "code",
      "metadata": {
        "id": "woVzHZOlektU",
        "colab_type": "code",
        "outputId": "698711af-84d8-4845-c520-7e37eb836772",
        "colab": {
          "base_uri": "https://localhost:8080/",
          "height": 121
        }
      },
      "source": [
        "#向量reduce\n",
        "a = tf.range(1,10)\n",
        "tf.print(tf.reduce_sum(a))\n",
        "tf.print(tf.reduce_mean(a))\n",
        "tf.print(tf.reduce_max(a))\n",
        "tf.print(tf.reduce_min(a))\n",
        "tf.print(tf.reduce_prod(a))\n",
        "#利用tf.foldr实现tf.reduce_sum\n",
        "s = tf.foldr(lambda a,b:a+b,tf.range(10)) \n",
        "tf.print(s)"
      ],
      "execution_count": 0,
      "outputs": [
        {
          "output_type": "stream",
          "text": [
            "45\n",
            "5\n",
            "9\n",
            "1\n",
            "362880\n",
            "45\n"
          ],
          "name": "stdout"
        }
      ]
    },
    {
      "cell_type": "code",
      "metadata": {
        "id": "VjvCsOHTevKZ",
        "colab_type": "code",
        "outputId": "fec27e45-c180-47f0-f280-f443a61bd4af",
        "colab": {
          "base_uri": "https://localhost:8080/",
          "height": 87
        }
      },
      "source": [
        "#张量指定维度进行reduce\n",
        "b = tf.reshape(a,(3,3))\n",
        "tf.print(tf.reduce_sum(b, axis=1, keepdims=True))\n",
        "tf.print(tf.reduce_sum(b, axis=0, keepdims=True))"
      ],
      "execution_count": 0,
      "outputs": [
        {
          "output_type": "stream",
          "text": [
            "[[6]\n",
            " [15]\n",
            " [24]]\n",
            "[[12 15 18]]\n"
          ],
          "name": "stdout"
        }
      ]
    },
    {
      "cell_type": "code",
      "metadata": {
        "id": "gRAZ6m1je0Hf",
        "colab_type": "code",
        "outputId": "0618e4b7-4025-4903-819e-c581a8e2bbf0",
        "colab": {
          "base_uri": "https://localhost:8080/",
          "height": 52
        }
      },
      "source": [
        "#bool类型的reduce\n",
        "p = tf.constant([True,False,False])\n",
        "q = tf.constant([False,False,True])\n",
        "tf.print(tf.reduce_all(p))\n",
        "tf.print(tf.reduce_any(q))"
      ],
      "execution_count": 0,
      "outputs": [
        {
          "output_type": "stream",
          "text": [
            "0\n",
            "1\n"
          ],
          "name": "stdout"
        }
      ]
    },
    {
      "cell_type": "code",
      "metadata": {
        "id": "dOuARLLme16e",
        "colab_type": "code",
        "outputId": "f188db7c-e2fb-4f9f-9509-7af51bb3dc3e",
        "colab": {
          "base_uri": "https://localhost:8080/",
          "height": 52
        }
      },
      "source": [
        "#cum扫描累积\n",
        "a = tf.range(1,10)\n",
        "tf.print(tf.math.cumsum(a))\n",
        "tf.print(tf.math.cumprod(a))"
      ],
      "execution_count": 0,
      "outputs": [
        {
          "output_type": "stream",
          "text": [
            "[1 3 6 ... 28 36 45]\n",
            "[1 2 6 ... 5040 40320 362880]\n"
          ],
          "name": "stdout"
        }
      ]
    },
    {
      "cell_type": "code",
      "metadata": {
        "id": "9C-0HhkDe9Mp",
        "colab_type": "code",
        "outputId": "75e3f7fe-c76b-4481-a8e8-df6854920e27",
        "colab": {
          "base_uri": "https://localhost:8080/",
          "height": 52
        }
      },
      "source": [
        "#arg最大最小值索引\n",
        "a = tf.range(1,10)\n",
        "tf.print(tf.argmax(a))\n",
        "tf.print(tf.argmin(a))"
      ],
      "execution_count": 0,
      "outputs": [
        {
          "output_type": "stream",
          "text": [
            "8\n",
            "0\n"
          ],
          "name": "stdout"
        }
      ]
    },
    {
      "cell_type": "code",
      "metadata": {
        "id": "F_sxsmUle-tT",
        "colab_type": "code",
        "outputId": "c87465d0-5533-4603-9f8d-b4ffc98a817a",
        "colab": {
          "base_uri": "https://localhost:8080/",
          "height": 52
        }
      },
      "source": [
        "#tf.math.top_k可以用于对张量排序\n",
        "a = tf.constant([1,3,7,5,4,8])\n",
        "values,indices = tf.math.top_k(a,3,sorted=True)\n",
        "tf.print(values)\n",
        "tf.print(indices)"
      ],
      "execution_count": 0,
      "outputs": [
        {
          "output_type": "stream",
          "text": [
            "[8 7 5]\n",
            "[5 2 3]\n"
          ],
          "name": "stdout"
        }
      ]
    },
    {
      "cell_type": "markdown",
      "metadata": {
        "id": "xrrT04AdfCMZ",
        "colab_type": "text"
      },
      "source": [
        "### 矩阵运算"
      ]
    },
    {
      "cell_type": "markdown",
      "metadata": {
        "id": "IRTFrkQ3fLXD",
        "colab_type": "text"
      },
      "source": [
        "矩阵必须是二维的。类似tf.constant([1,2,3])这样的不是矩阵。\n",
        "\n",
        "矩阵运算包括：矩阵乘法，矩阵转置，矩阵逆，矩阵求迹，矩阵范数，矩阵行列式，矩阵求特征值，矩阵分解等运算。\n",
        "\n",
        "除了一些常用的运算外，大部分和矩阵有关的运算都在tf.linalg子包中"
      ]
    },
    {
      "cell_type": "code",
      "metadata": {
        "id": "2UOFjprSfA6p",
        "colab_type": "code",
        "outputId": "a8931d4b-6da4-4690-f093-9011380846d2",
        "colab": {
          "base_uri": "https://localhost:8080/",
          "height": 69
        }
      },
      "source": [
        "#矩阵乘法\n",
        "a = tf.constant([[1,2],[3,4]])\n",
        "b = tf.constant([[2,0],[0,2]])\n",
        "a@b  #等价于tf.matmul(a,b)\n",
        "\n",
        "#矩阵转置\n",
        "a = tf.constant([[1.0,2],[3,4]])\n",
        "tf.transpose(a)\n",
        "\n",
        "#矩阵逆，必须为tf.float32或tf.double类型\n",
        "a = tf.constant([[1.0,2],[3.0,4]],dtype = tf.float32)\n",
        "tf.linalg.inv(a)\n",
        "\n",
        "#矩阵求trace\n",
        "a = tf.constant([[1.0,2],[3,4]])\n",
        "tf.linalg.trace(a)\n",
        "\n",
        "#矩阵求范数\n",
        "a = tf.constant([[1.0,2],[3,4]])\n",
        "tf.linalg.norm(a)\n",
        "\n",
        "#矩阵行列式\n",
        "a = tf.constant([[1.0,2],[3,4]])\n",
        "tf.linalg.det(a)\n",
        "\n",
        "#矩阵特征值\n",
        "tf.linalg.eigvalsh(a)\n",
        "\n",
        "#矩阵svd分解\n",
        "a  = tf.constant([[1.0,2.0],[3.0,4.0]],dtype = tf.float32)\n",
        "v,s,d = tf.linalg.svd(a)\n",
        "tf.matmul(tf.matmul(s,tf.linalg.diag(v)),d)"
      ],
      "execution_count": 0,
      "outputs": [
        {
          "output_type": "execute_result",
          "data": {
            "text/plain": [
              "<tf.Tensor: shape=(2, 2), dtype=float32, numpy=\n",
              "array([[1.       , 2.0000002],\n",
              "       [3.0000002, 4.0000005]], dtype=float32)>"
            ]
          },
          "metadata": {
            "tags": []
          },
          "execution_count": 56
        }
      ]
    },
    {
      "cell_type": "markdown",
      "metadata": {
        "id": "vu-9wXCiGij3",
        "colab_type": "text"
      },
      "source": [
        "## 求导操作"
      ]
    },
    {
      "cell_type": "code",
      "metadata": {
        "id": "SNzpeKtAGmas",
        "colab_type": "code",
        "colab": {}
      },
      "source": [
        "# 目标函数\n",
        "def g(x1, x2):\n",
        "    return (x1 + 5) * (x2 ** 2)"
      ],
      "execution_count": 0,
      "outputs": []
    },
    {
      "cell_type": "markdown",
      "metadata": {
        "id": "2nRppvWPmJ0W",
        "colab_type": "text"
      },
      "source": [
        "### 变量求导"
      ]
    },
    {
      "cell_type": "code",
      "metadata": {
        "id": "Pjm4axQbNiDf",
        "colab_type": "code",
        "outputId": "8286a161-de18-41ad-e5eb-9e4921d7667d",
        "colab": {
          "base_uri": "https://localhost:8080/",
          "height": 35
        }
      },
      "source": [
        "\"\"\"变量求导, 求导后自动删除\"\"\"\n",
        "x1 = tf.Variable(2.0)\n",
        "x2 = tf.Variable(3.0)\n",
        "with tf.GradientTape() as tape:\n",
        "    z = g(x1, x2)\n",
        "\n",
        "dz_x1 = tape.gradient(z, x1)\n",
        "print(dz_x1)"
      ],
      "execution_count": 0,
      "outputs": [
        {
          "output_type": "stream",
          "text": [
            "tf.Tensor(9.0, shape=(), dtype=float32)\n"
          ],
          "name": "stdout"
        }
      ]
    },
    {
      "cell_type": "code",
      "metadata": {
        "id": "nUfIqH-INuSW",
        "colab_type": "code",
        "outputId": "51670817-2563-49ef-d715-f256f30505b1",
        "colab": {
          "base_uri": "https://localhost:8080/",
          "height": 72
        }
      },
      "source": [
        "\"\"\"用persistent = True,强制保留\"\"\"\n",
        "x1 = tf.Variable(2.0)\n",
        "x2 = tf.Variable(3.0)\n",
        "with tf.GradientTape(persistent = True) as tape:\n",
        "    z = g(x1, x2)\n",
        "# 第一种写法\n",
        "dz_x1 = tape.gradient(z, x1)\n",
        "dz_x2 = tape.gradient(z, x2)\n",
        "print(dz_x1, dz_x2)\n",
        "# 第二种写法\n",
        "dz_x1x2 = tape.gradient(z, [x1, x2])\n",
        "print(dz_x1x2)\n",
        "\n",
        "# 删除tape\n",
        "del tape"
      ],
      "execution_count": 0,
      "outputs": [
        {
          "output_type": "stream",
          "text": [
            "tf.Tensor(9.0, shape=(), dtype=float32) tf.Tensor(42.0, shape=(), dtype=float32)\n",
            "[<tf.Tensor: shape=(), dtype=float32, numpy=9.0>, <tf.Tensor: shape=(), dtype=float32, numpy=42.0>]\n"
          ],
          "name": "stdout"
        }
      ]
    },
    {
      "cell_type": "markdown",
      "metadata": {
        "id": "aRqP77dsmP1f",
        "colab_type": "text"
      },
      "source": [
        "### 常数求导"
      ]
    },
    {
      "cell_type": "code",
      "metadata": {
        "id": "46GTx3_jOJZ4",
        "colab_type": "code",
        "colab": {}
      },
      "source": [
        "\"\"\"constant 求导\"\"\"\n",
        "x1 = tf.constant(2.0)\n",
        "x2 = tf.constant(3.0)\n",
        "with tf.GradientTape() as tape:\n",
        "    tape.watch(x1)\n",
        "    tape.watch(x2)\n",
        "    z = g(x1, x2)\n",
        "dz_x1x2 = tape.gradient(z, [x1, x2])"
      ],
      "execution_count": 0,
      "outputs": []
    },
    {
      "cell_type": "markdown",
      "metadata": {
        "id": "oouSI7GBmUqq",
        "colab_type": "text"
      },
      "source": [
        "### 多函数求导"
      ]
    },
    {
      "cell_type": "code",
      "metadata": {
        "id": "8YCPJBp4OQLf",
        "colab_type": "code",
        "colab": {}
      },
      "source": [
        "\"\"\"多个函数求导\"\"\"\n",
        "x = tf.Variable(5.0)\n",
        "with tf.GradientTape() as tape:\n",
        "    z1 = 3 * x\n",
        "    z2 = x ** 2\n",
        "dz_x = tape.gradient([z1, z2], x)"
      ],
      "execution_count": 0,
      "outputs": []
    },
    {
      "cell_type": "markdown",
      "metadata": {
        "id": "Zr3hgMhnmYNR",
        "colab_type": "text"
      },
      "source": [
        "### 二阶导数"
      ]
    },
    {
      "cell_type": "code",
      "metadata": {
        "id": "a2mu6tAGOXLo",
        "colab_type": "code",
        "outputId": "5088ca46-b858-460f-dca9-480825b0a29e",
        "colab": {
          "base_uri": "https://localhost:8080/",
          "height": 55
        }
      },
      "source": [
        "\"\"\"求二阶导数\"\"\"\n",
        "x1 = tf.Variable(2.0)\n",
        "x2 = tf.Variable(3.0)\n",
        "with tf.GradientTape(persistent=True) as outer_tape:\n",
        "    with tf.GradientTape(persistent=True) as inner_tape:\n",
        "        z = g(x1, x2)\n",
        "    inner_grad = inner_tape.gradient(z, [x1, x2])\n",
        "outer_grad = outer_tape.gradient(inner_grad, [x1, x2])\n",
        "print(outer_grad)\n",
        "del inner_tape\n",
        "del outer_tape"
      ],
      "execution_count": 0,
      "outputs": [
        {
          "output_type": "stream",
          "text": [
            "[<tf.Tensor: shape=(), dtype=float32, numpy=6.0>, <tf.Tensor: shape=(), dtype=float32, numpy=20.0>]\n"
          ],
          "name": "stdout"
        }
      ]
    },
    {
      "cell_type": "code",
      "metadata": {
        "id": "sAjZEa8KPkNY",
        "colab_type": "code",
        "outputId": "a637dc0d-a131-4df2-d37a-8b17f2bfc540",
        "colab": {
          "base_uri": "https://localhost:8080/",
          "height": 52
        }
      },
      "source": [
        "def f(x):\n",
        "    return 3. * x ** 2 + 2. * x - 1\n",
        "\n",
        "\"\"\"模拟梯度下降\"\"\"\n",
        "learning_rate = 0.1\n",
        "x = tf.Variable(0.0)\n",
        "\n",
        "for _ in range(100):\n",
        "    with tf.GradientTape() as tape:\n",
        "        z = f(x)\n",
        "    dz_dx = tape.gradient(z, x)\n",
        "    # x - learning_rate * dz_dx\n",
        "    x.assign_sub(learning_rate * dz_dx)\n",
        "print(x)\n",
        "\n",
        "\"\"\"与keras.optimizers结合使用\"\"\"\n",
        "learning_rate = 0.1\n",
        "x = tf.Variable(0.0)\n",
        "optimizer = keras.optimizers.SGD(lr = learning_rate)\n",
        "\n",
        "for _ in range(100):\n",
        "    with tf.GradientTape() as tape:\n",
        "        z = f(x)\n",
        "    dz_dx = tape.gradient(z, x)\n",
        "    optimizer.apply_gradients([(dz_dx, x)])\n",
        "print(x)"
      ],
      "execution_count": 0,
      "outputs": [
        {
          "output_type": "stream",
          "text": [
            "<tf.Variable 'Variable:0' shape=() dtype=float32, numpy=-0.3333333>\n",
            "<tf.Variable 'Variable:0' shape=() dtype=float32, numpy=-0.3333333>\n"
          ],
          "name": "stdout"
        }
      ]
    },
    {
      "cell_type": "markdown",
      "metadata": {
        "id": "mdt7nT2dfui2",
        "colab_type": "text"
      },
      "source": [
        "## 自定义操作"
      ]
    },
    {
      "cell_type": "code",
      "metadata": {
        "colab_type": "code",
        "id": "7Xya38nwUtnZ",
        "colab": {}
      },
      "source": [
        "import matplotlib as mpl\n",
        "import matplotlib.pyplot as plt\n",
        "import numpy as np\n",
        "import sklearn\n",
        "import pandas as pd\n",
        "import os\n",
        "import sys\n",
        "import time\n",
        "import tensorflow as tf\n",
        "from tensorflow import keras\n",
        "from sklearn.datasets import fetch_california_housing\n",
        "from sklearn.model_selection import train_test_split\n",
        "from sklearn.preprocessing import StandardScaler\n",
        "# 回归数据集\n",
        "housing = fetch_california_housing()\n",
        "# 分离测试数据和训练数据\n",
        "x_train_all, x_test, y_train_all, y_test = train_test_split(\n",
        "    housing.data, housing.target, random_state = 7)\n",
        "x_train, x_valid, y_train, y_valid = train_test_split(\n",
        "    x_train_all, y_train_all, random_state = 11)\n",
        "# 数据预处理\n",
        "scaler = StandardScaler()\n",
        "x_train_scaled = scaler.fit_transform(x_train)\n",
        "x_valid_scaled = scaler.transform(x_valid)\n",
        "x_test_scaled = scaler.transform(x_test)"
      ],
      "execution_count": 0,
      "outputs": []
    },
    {
      "cell_type": "markdown",
      "metadata": {
        "id": "e77aF730Tap1",
        "colab_type": "text"
      },
      "source": [
        "### 自定义loss"
      ]
    },
    {
      "cell_type": "code",
      "metadata": {
        "id": "kY9ORWRDTujA",
        "colab_type": "code",
        "colab": {}
      },
      "source": [
        "\"\"\"自定义损失函数\"\"\"\n",
        "def customized_mse(y_true, y_pred):\n",
        "    return tf.reduce_mean(tf.square(y_pred - y_true))"
      ],
      "execution_count": 0,
      "outputs": []
    },
    {
      "cell_type": "code",
      "metadata": {
        "id": "mu0Gr2nNU740",
        "colab_type": "code",
        "outputId": "9a5a7cd9-88cf-4fe0-8075-5a7d3426eaa9",
        "colab": {
          "base_uri": "https://localhost:8080/",
          "height": 488
        }
      },
      "source": [
        "model = keras.models.Sequential([\n",
        "    keras.layers.Dense(30, activation='relu',\n",
        "                       input_shape=x_train.shape[1:]),\n",
        "    keras.layers.Dense(1),\n",
        "])\n",
        "model.compile(loss=customized_mse, # 自己定义的损失函数\n",
        "              optimizer=\"sgd\",\n",
        "              metrics=[\"mean_squared_error\"]) #比较tf封装的 \n",
        "callbacks = [keras.callbacks.EarlyStopping(\n",
        "    patience=5, min_delta=1e-2)]\n",
        "history = model.fit(x_train_scaled, y_train,\n",
        "                    validation_data = (x_valid_scaled, y_valid),\n",
        "                    epochs = 100,\n",
        "                    callbacks = callbacks)"
      ],
      "execution_count": 0,
      "outputs": [
        {
          "output_type": "stream",
          "text": [
            "Epoch 1/100\n",
            "363/363 [==============================] - 1s 2ms/step - loss: 1.6959 - mean_squared_error: 1.6966 - val_loss: 0.7404 - val_mean_squared_error: 0.7406\n",
            "Epoch 2/100\n",
            "363/363 [==============================] - 1s 1ms/step - loss: 7.5027 - mean_squared_error: 7.5064 - val_loss: 0.5160 - val_mean_squared_error: 0.5161\n",
            "Epoch 3/100\n",
            "363/363 [==============================] - 1s 1ms/step - loss: 0.4413 - mean_squared_error: 0.4413 - val_loss: 0.4450 - val_mean_squared_error: 0.4451\n",
            "Epoch 4/100\n",
            "363/363 [==============================] - 1s 1ms/step - loss: 0.4054 - mean_squared_error: 0.4055 - val_loss: 0.4152 - val_mean_squared_error: 0.4153\n",
            "Epoch 5/100\n",
            "363/363 [==============================] - 1s 1ms/step - loss: 0.3893 - mean_squared_error: 0.3894 - val_loss: 0.4169 - val_mean_squared_error: 0.4170\n",
            "Epoch 6/100\n",
            "363/363 [==============================] - 1s 1ms/step - loss: 0.3821 - mean_squared_error: 0.3821 - val_loss: 0.4056 - val_mean_squared_error: 0.4057\n",
            "Epoch 7/100\n",
            "363/363 [==============================] - 1s 1ms/step - loss: 0.3767 - mean_squared_error: 0.3768 - val_loss: 0.3890 - val_mean_squared_error: 0.3891\n",
            "Epoch 8/100\n",
            "363/363 [==============================] - 1s 1ms/step - loss: 0.3696 - mean_squared_error: 0.3696 - val_loss: 0.3759 - val_mean_squared_error: 0.3760\n",
            "Epoch 9/100\n",
            "363/363 [==============================] - 1s 1ms/step - loss: 0.3667 - mean_squared_error: 0.3667 - val_loss: 0.3768 - val_mean_squared_error: 0.3769\n",
            "Epoch 10/100\n",
            "363/363 [==============================] - 1s 1ms/step - loss: 0.3634 - mean_squared_error: 0.3634 - val_loss: 0.3706 - val_mean_squared_error: 0.3706\n",
            "Epoch 11/100\n",
            "363/363 [==============================] - 1s 1ms/step - loss: 0.3830 - mean_squared_error: 0.3831 - val_loss: 0.3898 - val_mean_squared_error: 0.3899\n",
            "Epoch 12/100\n",
            "363/363 [==============================] - 1s 1ms/step - loss: 0.3649 - mean_squared_error: 0.3648 - val_loss: 0.3762 - val_mean_squared_error: 0.3763\n",
            "Epoch 13/100\n",
            "363/363 [==============================] - 1s 1ms/step - loss: 0.3611 - mean_squared_error: 0.3610 - val_loss: 0.4545 - val_mean_squared_error: 0.4546\n"
          ],
          "name": "stdout"
        }
      ]
    },
    {
      "cell_type": "code",
      "metadata": {
        "id": "DpyDJrJiVYFk",
        "colab_type": "code",
        "outputId": "377fe91d-b493-42c3-9c5b-46e2645832a0",
        "colab": {
          "base_uri": "https://localhost:8080/",
          "height": 324
        }
      },
      "source": [
        "\n",
        "def plot_learning_curves(history):\n",
        "    pd.DataFrame(history.history).plot(figsize=(8, 5))\n",
        "    plt.grid(True)\n",
        "    plt.gca().set_ylim(0, 1)\n",
        "    plt.show()\n",
        "plot_learning_curves(history)"
      ],
      "execution_count": 0,
      "outputs": [
        {
          "output_type": "display_data",
          "data": {
            "image/png": "[encoded data removed]",
            "text/plain": [
              "<Figure size 576x360 with 1 Axes>"
            ]
          },
          "metadata": {
            "tags": [],
            "needs_background": "light"
          }
        }
      ]
    },
    {
      "cell_type": "code",
      "metadata": {
        "id": "jtgUj1FPb2D-",
        "colab_type": "code",
        "outputId": "4df65826-9b85-441c-97fc-ebaa3e4e986a",
        "colab": {
          "base_uri": "https://localhost:8080/",
          "height": 72
        }
      },
      "source": [
        "model.evaluate(x_test_scaled, y_test)"
      ],
      "execution_count": 0,
      "outputs": [
        {
          "output_type": "stream",
          "text": [
            "162/162 [==============================] - 0s 1ms/step - loss: 0.4935 - mean_squared_error: 0.4928\n"
          ],
          "name": "stdout"
        },
        {
          "output_type": "execute_result",
          "data": {
            "text/plain": [
              "[0.4935254752635956, 0.4928126037120819]"
            ]
          },
          "metadata": {
            "tags": []
          },
          "execution_count": 35
        }
      ]
    },
    {
      "cell_type": "markdown",
      "metadata": {
        "id": "JJ-FiYC0TauC",
        "colab_type": "text"
      },
      "source": [
        "### 自定义Layer"
      ]
    },
    {
      "cell_type": "code",
      "metadata": {
        "id": "zGD4Nx50fwv5",
        "colab_type": "code",
        "colab": {}
      },
      "source": [
        "\"\"\"自定义Layer\"\"\"\n",
        "# 采用子类API创建自定义Layer\n",
        "# 需要定义三个函数__init__(),build(),call()\n",
        "# __init__(),build()结束时,需要调用父类的函数\n",
        "\n",
        "class CustomizedDenseLayer(keras.layers.Layer):\n",
        "    # units=dense的神经元数量,activation=激活函数\n",
        "    def __init__(self, units, activation=None, **kwargs):\n",
        "        \"\"\"初始化函数\"\"\"\n",
        "        self.units = units\n",
        "        self.activation = keras.layers.Activation(activation)\n",
        "        # 其他参数调用父类方法的__init__\n",
        "        super(CustomizedDenseLayer, self).__init__(**kwargs)\n",
        "    \n",
        "    # input_shape= 输入数据的维度\n",
        "    def build(self, input_shape):\n",
        "        \"\"\"构建所需要的参数\"\"\"\n",
        "        # 需要两个参数, 一个w, 一个b\n",
        "        # x * w + b. \n",
        "        # input_shape:[None, a] @ w:[a,b]\n",
        "        # output_shape: [None, b]\n",
        "        self.w = self.add_weight(name = 'w', # 定义w\n",
        "                                      shape = (input_shape[1], self.units), # 定义维度\n",
        "                                      initializer = 'uniform', # 用 uniform\n",
        "                                      trainable = True) # 可以被训练的\n",
        "        \n",
        "        self.b = self.add_weight(name = 'b', # 定义b\n",
        "                                    shape = (self.units, ), # 维度\n",
        "                                    initializer = 'zeros', # 采用0作为初始\n",
        "                                    trainable = True) # 可以被训练\n",
        "        # 调用父类的函数\n",
        "        super(CustomizedDenseLayer, self).build(input_shape)\n",
        "    \n",
        "    # x=用来训练的数据\n",
        "    def call(self, x):\n",
        "        \"\"\"完成正向计算\"\"\"\n",
        "        # 定义计算表达式\n",
        "        value = x @ self.w + self.b\n",
        "        # 将值映射到activation\n",
        "        final_value = self.activation(value)\n",
        "        return final_value"
      ],
      "execution_count": 0,
      "outputs": []
    },
    {
      "cell_type": "code",
      "metadata": {
        "id": "y2IWuD4xZ6IB",
        "colab_type": "code",
        "colab": {}
      },
      "source": [
        "model = keras.models.Sequential([\n",
        "    CustomizedDenseLayer(30, activation='relu',\n",
        "                         input_shape=x_train.shape[1:]),\n",
        "    CustomizedDenseLayer(1),\n",
        "    \"\"\"lambda的方式自定义激活函数\"\"\"\n",
        "    # customized_softplus = keras.layers.Lambda(lambda x : tf.nn.softplus(x))\n",
        "    # customized_softplus,\n",
        "    # keras.layers.Dense(1, activation=\"softplus\"),\n",
        "    # keras.layers.Dense(1), keras.layers.Activation('softplus'),\n",
        "])\n",
        "model.compile(loss=\"mean_squared_error\", optimizer=\"sgd\")\n",
        "callbacks = [keras.callbacks.EarlyStopping(\n",
        "    patience=5, min_delta=1e-2)]"
      ],
      "execution_count": 0,
      "outputs": []
    },
    {
      "cell_type": "code",
      "metadata": {
        "id": "SzbuqWywaA1z",
        "colab_type": "code",
        "outputId": "cbe4fe98-c588-4c9a-fce1-2c4a27b26380",
        "colab": {
          "base_uri": "https://localhost:8080/",
          "height": 815
        }
      },
      "source": [
        "history = model.fit(x_train_scaled, y_train,\n",
        "                    validation_data = (x_valid_scaled, y_valid),\n",
        "                    epochs = 100,\n",
        "                    callbacks = callbacks)"
      ],
      "execution_count": 0,
      "outputs": [
        {
          "output_type": "stream",
          "text": [
            "Epoch 1/100\n",
            "363/363 [==============================] - 1s 2ms/step - loss: 1.0315 - val_loss: 0.6209\n",
            "Epoch 2/100\n",
            "363/363 [==============================] - 0s 1ms/step - loss: 0.5356 - val_loss: 0.5314\n",
            "Epoch 3/100\n",
            "363/363 [==============================] - 1s 1ms/step - loss: 0.4831 - val_loss: 0.4911\n",
            "Epoch 4/100\n",
            "363/363 [==============================] - 1s 1ms/step - loss: 0.4564 - val_loss: 0.4639\n",
            "Epoch 5/100\n",
            "363/363 [==============================] - 1s 1ms/step - loss: 0.4556 - val_loss: 0.5084\n",
            "Epoch 6/100\n",
            "363/363 [==============================] - 0s 1ms/step - loss: 0.4511 - val_loss: 0.4698\n",
            "Epoch 7/100\n",
            "363/363 [==============================] - 1s 1ms/step - loss: 0.4278 - val_loss: 0.4369\n",
            "Epoch 8/100\n",
            "363/363 [==============================] - 1s 1ms/step - loss: 0.4228 - val_loss: 0.4396\n",
            "Epoch 9/100\n",
            "363/363 [==============================] - 1s 1ms/step - loss: 0.4128 - val_loss: 0.4232\n",
            "Epoch 10/100\n",
            "363/363 [==============================] - 1s 2ms/step - loss: 0.4039 - val_loss: 0.4196\n",
            "Epoch 11/100\n",
            "363/363 [==============================] - 1s 1ms/step - loss: 0.4032 - val_loss: 0.4524\n",
            "Epoch 12/100\n",
            "363/363 [==============================] - 1s 1ms/step - loss: 0.4028 - val_loss: 0.4094\n",
            "Epoch 13/100\n",
            "363/363 [==============================] - 1s 1ms/step - loss: 0.3929 - val_loss: 0.4025\n",
            "Epoch 14/100\n",
            "363/363 [==============================] - 1s 1ms/step - loss: 0.3914 - val_loss: 0.4068\n",
            "Epoch 15/100\n",
            "363/363 [==============================] - 1s 1ms/step - loss: 0.3851 - val_loss: 0.3986\n",
            "Epoch 16/100\n",
            "363/363 [==============================] - 1s 1ms/step - loss: 0.3815 - val_loss: 0.4063\n",
            "Epoch 17/100\n",
            "363/363 [==============================] - 1s 1ms/step - loss: 0.3799 - val_loss: 0.3940\n",
            "Epoch 18/100\n",
            "363/363 [==============================] - 1s 1ms/step - loss: 0.3788 - val_loss: 0.3873\n",
            "Epoch 19/100\n",
            "363/363 [==============================] - 1s 1ms/step - loss: 0.3750 - val_loss: 0.3896\n",
            "Epoch 20/100\n",
            "363/363 [==============================] - 1s 1ms/step - loss: 0.3762 - val_loss: 0.3820\n",
            "Epoch 21/100\n",
            "363/363 [==============================] - 1s 1ms/step - loss: 0.3739 - val_loss: 0.3907\n",
            "Epoch 22/100\n",
            "363/363 [==============================] - 1s 1ms/step - loss: 0.3754 - val_loss: 0.3838\n",
            "Epoch 23/100\n",
            "363/363 [==============================] - 1s 1ms/step - loss: 0.3727 - val_loss: 0.3810\n"
          ],
          "name": "stdout"
        }
      ]
    },
    {
      "cell_type": "code",
      "metadata": {
        "id": "XnAQ70F6aEvt",
        "colab_type": "code",
        "outputId": "653617e7-6673-429a-d32d-61d9508b3a36",
        "colab": {
          "base_uri": "https://localhost:8080/",
          "height": 324
        }
      },
      "source": [
        "def plot_learning_curves(history):\n",
        "    pd.DataFrame(history.history).plot(figsize=(8, 5))\n",
        "    plt.grid(True)\n",
        "    plt.gca().set_ylim(0, 1)\n",
        "    plt.show()\n",
        "plot_learning_curves(history)"
      ],
      "execution_count": 0,
      "outputs": [
        {
          "output_type": "display_data",
          "data": {
            "image/png": "[encoded data removed]",
            "text/plain": [
              "<Figure size 576x360 with 1 Axes>"
            ]
          },
          "metadata": {
            "tags": [],
            "needs_background": "light"
          }
        }
      ]
    },
    {
      "cell_type": "code",
      "metadata": {
        "id": "P8xw67-UaKgL",
        "colab_type": "code",
        "outputId": "595114c5-2e69-416b-aa61-37844096d463",
        "colab": {
          "base_uri": "https://localhost:8080/",
          "height": 52
        }
      },
      "source": [
        "model.evaluate(x_test_scaled, y_test)"
      ],
      "execution_count": 0,
      "outputs": [
        {
          "output_type": "stream",
          "text": [
            "162/162 [==============================] - 0s 959us/step - loss: 0.3871\n"
          ],
          "name": "stdout"
        },
        {
          "output_type": "execute_result",
          "data": {
            "text/plain": [
              "0.38714295625686646"
            ]
          },
          "metadata": {
            "tags": []
          },
          "execution_count": 40
        }
      ]
    },
    {
      "cell_type": "markdown",
      "metadata": {
        "id": "YLhuWA7iktft",
        "colab_type": "text"
      },
      "source": [
        "### 自定义optimizer"
      ]
    },
    {
      "cell_type": "code",
      "metadata": {
        "id": "nOxP6l2Vk5pF",
        "colab_type": "code",
        "outputId": "ddf775b8-f6af-4fc6-a73b-37621582e82d",
        "colab": {
          "base_uri": "https://localhost:8080/",
          "height": 87
        }
      },
      "source": [
        "# metric使用\n",
        "metric = keras.metrics.MeanSquaredError()\n",
        "print(metric([5.], [2.]))\n",
        "print(metric([0.], [1.]))\n",
        "print(metric.result())\n",
        "\n",
        "metric.reset_states()\n",
        "metric([1.], [3.])\n",
        "print(metric.result())"
      ],
      "execution_count": 0,
      "outputs": [
        {
          "output_type": "stream",
          "text": [
            "tf.Tensor(9.0, shape=(), dtype=float32)\n",
            "tf.Tensor(5.0, shape=(), dtype=float32)\n",
            "tf.Tensor(5.0, shape=(), dtype=float32)\n",
            "tf.Tensor(4.0, shape=(), dtype=float32)\n"
          ],
          "name": "stdout"
        }
      ]
    },
    {
      "cell_type": "code",
      "metadata": {
        "id": "-gNmFAgsk876",
        "colab_type": "code",
        "outputId": "0374bf37-b4da-4bad-8a1e-908c66ebdf32",
        "colab": {
          "base_uri": "https://localhost:8080/",
          "height": 191
        }
      },
      "source": [
        "\"\"\"\n",
        "# 1. batch 遍历训练集 metric\n",
        "#    1.1.定义损失函数\n",
        "#    1.2.定义衡量指标\n",
        "#    1.3.求损失函数的导数\n",
        "#    1.4.更新参数\n",
        "# 2. epoch结束 验证集 metric\n",
        "\"\"\"\n",
        "# 根据batch_size随机返回x和y\n",
        "batch_size = 32\n",
        "def random_batch(x, y, batch_size=32):\n",
        "    # 随机返回0-最大长度的,batch_size随机数,做索引\n",
        "    idx = np.random.randint(0, len(x), size=batch_size)\n",
        "    return x[idx], y[idx]\n",
        "\n",
        "# 定义变量\n",
        "epochs = 10\n",
        "steps_per_epoch = len(x_train_scaled) // batch_size # 每个batch的x的个数\n",
        "optimizer = keras.optimizers.SGD() # 用SGD做optimizer\n",
        "metric = keras.metrics.MeanSquaredError() # 用mse衡量损失\n",
        "\n",
        "# 定义模型的结构\n",
        "model = keras.models.Sequential([\n",
        "    keras.layers.Dense(30, activation='relu',\n",
        "                       input_shape=x_train.shape[1:]),\n",
        "    keras.layers.Dense(1),\n",
        "])\n",
        "\n",
        "# 实现自动求导,更新参数,返回衡量指标\n",
        "for epoch in range(epochs): # 循环epoch次\n",
        "    metric.reset_states()   # metric重置\n",
        "\n",
        "    for step in range(steps_per_epoch): # 循环x的个数次\n",
        "        x_batch, y_batch = random_batch(x_train_scaled,\n",
        "                                        y_train,batch_size) # 获得这一轮的x,y\n",
        "        with tf.GradientTape() as tape:\n",
        "            y_pred = model(x_batch)          # 将x送入模型\n",
        "            y_pred = tf.squeeze(y_pred, 1)   # 去掉多余维度,变成向量\n",
        "            loss = keras.losses.mean_squared_error(y_batch, y_pred) # 1.定义损失函数\n",
        "            metric(y_batch, y_pred)          # 2. 定义衡量指标\n",
        "        grads = tape.gradient(loss, model.variables) # 3. 求损失函数的导数\n",
        "        optimizer.apply_gradients(zip(grads, model.variables)) # 4. 更新参数\n",
        "        print(\"\\rEpoch\", epoch, \" train mse:\",\n",
        "              metric.result().numpy(), end=\"\") # 输出训练loss值\n",
        "    y_valid_pred = model(x_valid_scaled)\n",
        "    y_valid_pred = tf.squeeze(y_valid_pred, 1)\n",
        "    valid_loss = keras.losses.mean_squared_error(y_valid_pred, y_valid) # 衡量验证数据loss\n",
        "    print(\"\\t\", \"valid mse: \", valid_loss.numpy()) # 输出验证loss"
      ],
      "execution_count": 0,
      "outputs": [
        {
          "output_type": "stream",
          "text": [
            "Epoch 0  train mse: 0.81508666\t valid mse:  0.7622592974539688\n",
            "Epoch 1  train mse: 0.9767332\t valid mse:  0.48991008252375057\n",
            "Epoch 2  train mse: 0.44399637\t valid mse:  0.4457700593907001\n",
            "Epoch 3  train mse: 0.415559\t valid mse:  0.41260271551019095\n",
            "Epoch 4  train mse: 0.38052642\t valid mse:  0.39695127146072207\n",
            "Epoch 5  train mse: 0.38842094\t valid mse:  0.3939507556202022\n",
            "Epoch 6  train mse: 0.3917504\t valid mse:  0.3812837198044014\n",
            "Epoch 7  train mse: 0.3815398\t valid mse:  0.3975544514854176\n",
            "Epoch 8  train mse: 0.37076598\t valid mse:  0.37141864199512664\n",
            "Epoch 9  train mse: 0.36585867\t valid mse:  0.37131117629830607\n"
          ],
          "name": "stdout"
        }
      ]
    },
    {
      "cell_type": "markdown",
      "metadata": {
        "id": "kvkWVfNhfmzq",
        "colab_type": "text"
      },
      "source": [
        "## AutoGraph"
      ]
    },
    {
      "cell_type": "markdown",
      "metadata": {
        "id": "LGuIhAJecLO8",
        "colab_type": "text"
      },
      "source": [
        "有三种计算图的构建方式：静态计算图，动态计算图，以及Autograph。  \n",
        "TensorFlow 2.0主要使用的是动态计算图和Autograph。  \n",
        "Autograph机制可以将动态图转换成静态计算图  "
      ]
    },
    {
      "cell_type": "markdown",
      "metadata": {
        "id": "WoI2KdnJiKH9",
        "colab_type": "text"
      },
      "source": [
        "### tf.function()"
      ]
    },
    {
      "cell_type": "code",
      "metadata": {
        "id": "byhWUbPpcRF9",
        "colab_type": "code",
        "outputId": "9ef4cf67-73d4-4901-d500-7155065c538c",
        "colab": {
          "base_uri": "https://localhost:8080/",
          "height": 52
        }
      },
      "source": [
        "# tf.function and auto-graph.\n",
        "def scaled_elu(z, scale=1.0, alpha=1.0):\n",
        "    # z >= 0 ? scale * z : scale * alpha * tf.nn.elu(z)\n",
        "    is_positive = tf.greater_equal(z, 0.0)\n",
        "    return scale * tf.where(is_positive, z, alpha * tf.nn.elu(z))\n",
        "# 转成TensorFlow的function\n",
        "scaled_elu_tf = tf.function(scaled_elu)\n",
        "# 转回python的function\n",
        "scaled_elu_tf.python_function is scaled_elu\n",
        "# 时间\n",
        "%timeit scaled_elu(tf.random.normal((5000, 5000)))\n",
        "%timeit scaled_elu_tf(tf.random.normal((5000, 5000)))"
      ],
      "execution_count": 0,
      "outputs": [
        {
          "output_type": "stream",
          "text": [
            "1 loop, best of 3: 596 ms per loop\n",
            "1 loop, best of 3: 549 ms per loop\n"
          ],
          "name": "stdout"
        }
      ]
    },
    {
      "cell_type": "markdown",
      "metadata": {
        "id": "DIG0SKqviPCb",
        "colab_type": "text"
      },
      "source": [
        "### @tf.function"
      ]
    },
    {
      "cell_type": "code",
      "metadata": {
        "id": "9XvAuX0hhP0K",
        "colab_type": "code",
        "outputId": "d1e910fa-e553-4d56-8db7-5a58b38ddc68",
        "colab": {
          "base_uri": "https://localhost:8080/",
          "height": 52
        }
      },
      "source": [
        "@tf.function\n",
        "def converge_to_2(n_iters):\n",
        "    # 1 + 1/2 + 1/2^2 + ... + 1/2^n\n",
        "    total = tf.constant(0.)\n",
        "    increment = tf.constant(1.)\n",
        "    for _ in range(n_iters):\n",
        "        total += increment\n",
        "        increment /= 2.0\n",
        "    return total\n",
        "print(converge_to_2(20))"
      ],
      "execution_count": 0,
      "outputs": [
        {
          "output_type": "stream",
          "text": [
            "1 loop, best of 3: 599 ms per loop\n",
            "1 loop, best of 3: 548 ms per loop\n"
          ],
          "name": "stdout"
        }
      ]
    },
    {
      "cell_type": "code",
      "metadata": {
        "id": "mqKnwnDahR8f",
        "colab_type": "code",
        "colab": {}
      },
      "source": [
        "# Variable只能定义在外面\n",
        "\n",
        "var = tf.Variable(0.)\n",
        "\n",
        "@tf.function\n",
        "def add_21():\n",
        "    return var.assign_add(21) # += \n",
        "\n",
        "print(add_21())"
      ],
      "execution_count": 0,
      "outputs": []
    },
    {
      "cell_type": "code",
      "metadata": {
        "id": "UURE3huSuSxE",
        "colab_type": "code",
        "outputId": "a0e7a778-a1a8-4b56-b87a-98f6a2104f4a",
        "colab": {
          "base_uri": "https://localhost:8080/",
          "height": 35
        }
      },
      "source": [
        "# 指定input_signature可以保存模型和防止错误调用\n",
        "\n",
        "@tf.function(input_signature=[tf.TensorSpec([None], tf.int32, name='x')])\n",
        "def cube(z):\n",
        "    return tf.pow(z, 3)\n",
        "    \n",
        "print(cube(tf.constant([1, 2, 3])))"
      ],
      "execution_count": 0,
      "outputs": [
        {
          "output_type": "stream",
          "text": [
            "tf.Tensor([ 1  8 27], shape=(3,), dtype=int32)\n"
          ],
          "name": "stdout"
        }
      ]
    },
    {
      "cell_type": "markdown",
      "metadata": {
        "id": "PBFXhctsvCY5",
        "colab_type": "text"
      },
      "source": [
        "### get_concrete_function"
      ]
    },
    {
      "cell_type": "code",
      "metadata": {
        "id": "AbtFTq__uhhD",
        "colab_type": "code",
        "colab": {}
      },
      "source": [
        "# 可以用来保存模型\n",
        "# get_concrete_function -> add input signature -> SavedModel\n",
        "\n",
        "cube_func_int32 = cube.get_concrete_function(\n",
        "    tf.TensorSpec([None], tf.int32))\n",
        "print(cube_func_int32)\n",
        "\n",
        "cube_func_int32.graph.get_operations()\n",
        "cube_func_int32.graph.get_operation_by_name(\"x\")\n",
        "cube_func_int32.graph.as_graph_def()"
      ],
      "execution_count": 0,
      "outputs": []
    },
    {
      "cell_type": "markdown",
      "metadata": {
        "id": "yu75cFEiGGkr",
        "colab_type": "text"
      },
      "source": [
        "### tf.Module"
      ]
    },
    {
      "cell_type": "code",
      "metadata": {
        "id": "hHc6QuXSGIRW",
        "colab_type": "code",
        "colab": {}
      },
      "source": [
        "import tensorflow as tf \n",
        "# 例子\n",
        "x = tf.Variable(1.0,dtype=tf.float32)\n",
        "\n",
        "@tf.function(input_signature=[tf.TensorSpec(shape = [], dtype = tf.float32)])    \n",
        "def add_print(a):\n",
        "    x.assign_add(a)\n",
        "    tf.print(x)\n",
        "    return(x)"
      ],
      "execution_count": 0,
      "outputs": []
    },
    {
      "cell_type": "code",
      "metadata": {
        "id": "Kimqi4ThGQBz",
        "colab_type": "code",
        "colab": {}
      },
      "source": [
        "# 封装\n",
        "class DemoModule(tf.Module):\n",
        "    def __init__(self,init_value = tf.constant(0.0),name=None):\n",
        "        super(DemoModule, self).__init__(name=name)\n",
        "        with self.name_scope:  #相当于with tf.name_scope(\"demo_module\")\n",
        "            self.x = tf.Variable(init_value,dtype = tf.float32,trainable=True)\n",
        "\n",
        "\n",
        "    @tf.function(input_signature=[tf.TensorSpec(shape = [], dtype = tf.float32)])  \n",
        "    def addprint(self,a):\n",
        "        with self.name_scope:\n",
        "            self.x.assign_add(a)\n",
        "            tf.print(self.x)\n",
        "            return(self.x)"
      ],
      "execution_count": 0,
      "outputs": []
    },
    {
      "cell_type": "code",
      "metadata": {
        "id": "gn33i-okGVM8",
        "colab_type": "code",
        "outputId": "4308d3f2-8a6f-454a-f975-80a8c5104939",
        "colab": {
          "base_uri": "https://localhost:8080/",
          "height": 35
        }
      },
      "source": [
        "# 执行\n",
        "demo = DemoModule(init_value = tf.constant(1.0))\n",
        "result = demo.addprint(tf.constant(5.0))"
      ],
      "execution_count": 0,
      "outputs": [
        {
          "output_type": "stream",
          "text": [
            "6\n"
          ],
          "name": "stdout"
        }
      ]
    }
  ]
}