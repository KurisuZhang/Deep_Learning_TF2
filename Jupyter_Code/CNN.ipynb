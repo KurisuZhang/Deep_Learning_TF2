{
  "nbformat": 4,
  "nbformat_minor": 0,
  "metadata": {
    "accelerator": "GPU",
    "colab": {
      "name": "CNN.ipynb",
      "provenance": [],
      "collapsed_sections": [],
      "toc_visible": true,
      "include_colab_link": true
    },
    "kernelspec": {
      "display_name": "Python 3",
      "language": "python",
      "name": "python3"
    },
    "language_info": {
      "codemirror_mode": {
        "name": "ipython",
        "version": 3
      },
      "file_extension": ".py",
      "mimetype": "text/x-python",
      "name": "python",
      "nbconvert_exporter": "python",
      "pygments_lexer": "ipython3",
      "version": "3.7.6"
    }
  },
  "cells": [
    {
      "cell_type": "markdown",
      "metadata": {
        "id": "view-in-github",
        "colab_type": "text"
      },
      "source": [
        "<a href=\"https://colab.research.google.com/github/LinCheungS/Deep_Learning_TF2/blob/master/CNN.ipynb\" target=\"_parent\"><img src=\"https://colab.research.google.com/assets/colab-badge.svg\" alt=\"Open In Colab\"/></a>"
      ]
    },
    {
      "cell_type": "markdown",
      "metadata": {
        "colab_type": "text",
        "id": "JZAD5NeBJoIp"
      },
      "source": [
        "# CNN"
      ]
    },
    {
      "cell_type": "code",
      "metadata": {
        "colab_type": "code",
        "id": "32ZOPbJ4JZlI",
        "outputId": "5b5c9575-db31-486f-d8a7-0951f6a27714",
        "colab": {
          "base_uri": "https://localhost:8080/",
          "height": 34
        }
      },
      "source": [
        "from sklearn.preprocessing import StandardScaler\n",
        "import matplotlib.pyplot as plt\n",
        "from tensorflow import keras\n",
        "import matplotlib as mpl\n",
        "import tensorflow as tf\n",
        "import pandas as pd\n",
        "import numpy as np\n",
        "import sklearn\n",
        "import os\n",
        "import sys\n",
        "\n",
        "print(tf.__version__)"
      ],
      "execution_count": 0,
      "outputs": [
        {
          "output_type": "stream",
          "text": [
            "2.2.0\n"
          ],
          "name": "stdout"
        }
      ]
    },
    {
      "cell_type": "code",
      "metadata": {
        "colab_type": "code",
        "id": "IK0qGiPhJ2N7",
        "outputId": "01ff09df-3980-4b79-891f-5798fbe4bf92",
        "colab": {
          "base_uri": "https://localhost:8080/",
          "height": 34
        }
      },
      "source": [
        "# 数据集fashion_mnist\n",
        "fashion_mnist = keras.datasets.fashion_mnist\n",
        "(x_train_all, y_train_all), (x_test, y_test) = fashion_mnist.load_data()\n",
        "x_valid, x_train = x_train_all[:5000], x_train_all[5000:]\n",
        "y_valid, y_train = y_train_all[:5000], y_train_all[5000:]\n",
        "\n",
        "print((x_valid.shape, y_valid.shape),(x_train.shape, y_train.shape),(x_test.shape, y_test.shape))\n",
        "\n",
        "scaler = StandardScaler()\n",
        "x_train_scaled = scaler.fit_transform(x_train.astype(np.float32).reshape(-1, 1)).reshape(-1, 28, 28, 1)\n",
        "x_valid_scaled = scaler.transform(x_valid.astype(np.float32).reshape(-1, 1)).reshape(-1, 28, 28, 1)\n",
        "x_test_scaled = scaler.transform(x_test.astype(np.float32).reshape(-1, 1)).reshape(-1, 28, 28, 1)"
      ],
      "execution_count": 0,
      "outputs": [
        {
          "output_type": "stream",
          "text": [
            "((5000, 28, 28), (5000,)) ((55000, 28, 28), (55000,)) ((10000, 28, 28), (10000,))\n"
          ],
          "name": "stdout"
        }
      ]
    },
    {
      "cell_type": "code",
      "metadata": {
        "colab_type": "code",
        "id": "iFQI6bSRSGQs",
        "colab": {}
      },
      "source": [
        "# 10-monkey数据集\n",
        "!pip install -q kaggle\n",
        "!mkdir .kaggle\n",
        "import json\n",
        "token = {\"username\":\"lincheung\",\"key\":\"af5434648bc9a458e45451e071e8c5ea\"}\n",
        "with open('/content/.kaggle/kaggle.json', 'w') as file:\n",
        "    json.dump(token, file)\n",
        "!chmod 600 /content/.kaggle/kaggle.json\n",
        "!cp /content/.kaggle/kaggle.json /root/.kaggle/kaggle.json\n",
        "!kaggle config set -n path -v /content\n",
        "!kaggle datasets download -d slothkong/10-monkey-species\n",
        "!unzip /content/datasets/slothkong/10-monkey-species/10-monkey-species.zip"
      ],
      "execution_count": 0,
      "outputs": []
    },
    {
      "cell_type": "code",
      "metadata": {
        "colab_type": "code",
        "id": "DAyGzd12Xypm",
        "colab": {}
      },
      "source": [
        "# CIFAR-10\n",
        "!kaggle competitions download -c cifar-10\n",
        "# !unzip /content/competitions/cifar-10/sampleSubmission.csv.zip\n",
        "# !7z x /content/competitions/cifar-10/test.7z\n",
        "# !7z x /content/competitions/cifar-10/train.7z\n",
        "# !7z x /content/drive/My\\ Drive/数据集/CIFAR10/train.7z -o/content/drive/My\\ Drive/数据集/CIFAR10/\n",
        "!tar -zxvf /content/drive/My\\ Drive/数据集/CIFAR10/test5.tar.gz > aa.text\n",
        "!cp /content/drive/My\\ Drive/数据集/CIFAR10/sampleSubmission.csv /content/\n",
        "!cp /content/drive/My\\ Drive/数据集/CIFAR10/trainLabels.csv /content/"
      ],
      "execution_count": 0,
      "outputs": []
    },
    {
      "cell_type": "code",
      "metadata": {
        "colab_type": "code",
        "id": "Mj5FPEDIOEdL",
        "colab": {}
      },
      "source": [
        "# 可视化函数\n",
        "def plot_learning_curves(history, label, epcohs, min_value, max_value):\n",
        "    data = {}\n",
        "    data[label] = history.history[label]\n",
        "    data['val_'+label] = history.history['val_'+label]\n",
        "    pd.DataFrame(data).plot(figsize=(8, 5))\n",
        "    plt.grid(True)\n",
        "    plt.axis([0, epochs, min_value, max_value])\n",
        "    plt.show()"
      ],
      "execution_count": 0,
      "outputs": []
    },
    {
      "cell_type": "markdown",
      "metadata": {
        "colab_type": "text",
        "id": "2_fs3HE2JwSh"
      },
      "source": [
        "## 基础的CNN模型"
      ]
    },
    {
      "cell_type": "code",
      "metadata": {
        "colab_type": "code",
        "id": "Rxl91xznJrrn",
        "colab": {}
      },
      "source": [
        "model = keras.models.Sequential()\n",
        "model.add(keras.layers.Conv2D(filters=32, kernel_size=3,padding='same',activation='selu',input_shape=(28, 28, 1)))\n",
        "model.add(keras.layers.Conv2D(filters=32, kernel_size=3,padding='same',activation='selu'))\n",
        "model.add(keras.layers.MaxPool2D(pool_size=2))\n",
        "model.add(keras.layers.Conv2D(filters=64, kernel_size=3,padding='same',activation='selu'))\n",
        "model.add(keras.layers.Conv2D(filters=64, kernel_size=3, padding='same',activation='selu'))\n",
        "model.add(keras.layers.MaxPool2D(pool_size=2))\n",
        "model.add(keras.layers.Conv2D(filters=128, kernel_size=3,padding='same',activation='selu'))\n",
        "model.add(keras.layers.Conv2D(filters=128, kernel_size=3,padding='same',activation='selu'))\n",
        "model.add(keras.layers.MaxPool2D(pool_size=2))\n",
        "model.add(keras.layers.Flatten())\n",
        "model.add(keras.layers.Dense(128, activation='selu'))\n",
        "model.add(keras.layers.Dense(10, activation=\"softmax\"))\n",
        "\n",
        "model.compile(loss=\"sparse_categorical_crossentropy\",\n",
        "              optimizer = \"sgd\",\n",
        "              metrics = [\"accuracy\"])"
      ],
      "execution_count": 0,
      "outputs": []
    },
    {
      "cell_type": "code",
      "metadata": {
        "colab_type": "code",
        "id": "nzt_JIEKJgqX",
        "outputId": "f7d1adbe-4f3b-4bf1-811b-23a0c5f64c2f",
        "colab": {
          "base_uri": "https://localhost:8080/",
          "height": 424
        }
      },
      "source": [
        "logdir = './cnn-selu-callbacks'\n",
        "if not os.path.exists(logdir):\n",
        "    os.mkdir(logdir)\n",
        "output_model_file = os.path.join(logdir,\"fashion_mnist_model.h5\")\n",
        "\n",
        "callbacks = [\n",
        "    keras.callbacks.TensorBoard(logdir),\n",
        "    keras.callbacks.ModelCheckpoint(output_model_file,save_best_only = True),\n",
        "    keras.callbacks.EarlyStopping(patience=5, min_delta=1e-3),\n",
        "]\n",
        "history = model.fit(x_train_scaled, y_train, epochs=20,\n",
        "                    validation_data=(x_valid_scaled, y_valid),\n",
        "                    callbacks = callbacks)"
      ],
      "execution_count": 0,
      "outputs": [
        {
          "output_type": "stream",
          "text": [
            "Epoch 1/20\n",
            "1719/1719 [==============================] - 9s 5ms/step - loss: 0.4236 - accuracy: 0.8451 - val_loss: 0.3190 - val_accuracy: 0.8878\n",
            "Epoch 2/20\n",
            "1719/1719 [==============================] - 8s 5ms/step - loss: 0.2845 - accuracy: 0.8970 - val_loss: 0.3281 - val_accuracy: 0.8780\n",
            "Epoch 3/20\n",
            "1719/1719 [==============================] - 8s 5ms/step - loss: 0.2397 - accuracy: 0.9135 - val_loss: 0.2651 - val_accuracy: 0.9020\n",
            "Epoch 4/20\n",
            "1719/1719 [==============================] - 8s 5ms/step - loss: 0.2056 - accuracy: 0.9258 - val_loss: 0.2603 - val_accuracy: 0.9088\n",
            "Epoch 5/20\n",
            "1719/1719 [==============================] - 8s 5ms/step - loss: 0.1765 - accuracy: 0.9365 - val_loss: 0.2505 - val_accuracy: 0.9126\n",
            "Epoch 6/20\n",
            "1719/1719 [==============================] - 8s 5ms/step - loss: 0.1529 - accuracy: 0.9456 - val_loss: 0.2390 - val_accuracy: 0.9176\n",
            "Epoch 7/20\n",
            "1719/1719 [==============================] - 8s 5ms/step - loss: 0.1280 - accuracy: 0.9539 - val_loss: 0.2435 - val_accuracy: 0.9170\n",
            "Epoch 8/20\n",
            "1719/1719 [==============================] - 9s 5ms/step - loss: 0.1094 - accuracy: 0.9613 - val_loss: 0.2712 - val_accuracy: 0.9126\n",
            "Epoch 9/20\n",
            "1719/1719 [==============================] - 9s 5ms/step - loss: 0.0893 - accuracy: 0.9688 - val_loss: 0.2875 - val_accuracy: 0.9108\n",
            "Epoch 10/20\n",
            "1719/1719 [==============================] - 8s 5ms/step - loss: 0.0736 - accuracy: 0.9745 - val_loss: 0.2685 - val_accuracy: 0.9146\n",
            "Epoch 11/20\n",
            "1719/1719 [==============================] - 8s 5ms/step - loss: 0.0576 - accuracy: 0.9807 - val_loss: 0.2657 - val_accuracy: 0.9188\n"
          ],
          "name": "stdout"
        }
      ]
    },
    {
      "cell_type": "code",
      "metadata": {
        "colab_type": "code",
        "id": "sn8lGjtENzI8",
        "outputId": "367316ab-7561-4f5a-e65c-c6f8584f2c49",
        "colab": {
          "base_uri": "https://localhost:8080/",
          "height": 666
        }
      },
      "source": [
        "epochs = 10\n",
        "plot_learning_curves(history, 'accuracy', epochs, 0, 1)\n",
        "plot_learning_curves(history, 'loss', epochs, 0, 0.5)\n",
        "model.evaluate(x_test_scaled, y_test)"
      ],
      "execution_count": 0,
      "outputs": [
        {
          "output_type": "display_data",
          "data": {
            "image/png": "[encoded data removed]",
            "text/plain": [
              "<Figure size 576x360 with 1 Axes>"
            ]
          },
          "metadata": {
            "tags": [],
            "needs_background": "light"
          }
        },
        {
          "output_type": "display_data",
          "data": {
            "image/png": "[encoded data removed]",
            "text/plain": [
              "<Figure size 576x360 with 1 Axes>"
            ]
          },
          "metadata": {
            "tags": [],
            "needs_background": "light"
          }
        },
        {
          "output_type": "stream",
          "text": [
            "313/313 [==============================] - 1s 3ms/step - loss: 0.2914 - accuracy: 0.9137\n"
          ],
          "name": "stdout"
        },
        {
          "output_type": "execute_result",
          "data": {
            "text/plain": [
              "[0.29142847657203674, 0.9136999845504761]"
            ]
          },
          "metadata": {
            "tags": []
          },
          "execution_count": 27
        }
      ]
    },
    {
      "cell_type": "markdown",
      "metadata": {
        "colab_type": "text",
        "id": "gIuHv0ZtNkXV"
      },
      "source": [
        "## 深度可分离卷积"
      ]
    },
    {
      "cell_type": "code",
      "metadata": {
        "colab_type": "code",
        "id": "M4wqNQuALs6b",
        "colab": {}
      },
      "source": [
        "model = keras.models.Sequential()\n",
        "model.add(keras.layers.Conv2D(filters=32, kernel_size=3,padding='same',activation='selu',input_shape=(28, 28, 1)))\n",
        "model.add(keras.layers.SeparableConv2D(filters=32, kernel_size=3,padding='same',activation='selu'))\n",
        "model.add(keras.layers.MaxPool2D(pool_size=2))\n",
        "model.add(keras.layers.SeparableConv2D(filters=64, kernel_size=3,padding='same',activation='selu'))\n",
        "model.add(keras.layers.SeparableConv2D(filters=64, kernel_size=3,padding='same',activation='selu'))\n",
        "model.add(keras.layers.MaxPool2D(pool_size=2))\n",
        "model.add(keras.layers.SeparableConv2D(filters=128, kernel_size=3,padding='same',activation='selu'))\n",
        "model.add(keras.layers.SeparableConv2D(filters=128, kernel_size=3,padding='same',activation='selu'))\n",
        "model.add(keras.layers.MaxPool2D(pool_size=2))\n",
        "model.add(keras.layers.Flatten())\n",
        "model.add(keras.layers.Dense(128, activation='selu'))\n",
        "model.add(keras.layers.Dense(10, activation=\"softmax\"))\n",
        "\n",
        "model.compile(loss=\"sparse_categorical_crossentropy\",\n",
        "              optimizer = \"sgd\",\n",
        "              metrics = [\"accuracy\"])"
      ],
      "execution_count": 0,
      "outputs": []
    },
    {
      "cell_type": "code",
      "metadata": {
        "colab_type": "code",
        "id": "hSNrHYMsQyXr",
        "colab": {}
      },
      "source": [
        "logdir = './separable-cnn-selu-callbacks'\n",
        "if not os.path.exists(logdir):\n",
        "    os.mkdir(logdir)\n",
        "output_model_file = os.path.join(logdir,\"fashion_mnist_model.h5\")\n",
        "\n",
        "callbacks = [\n",
        "    keras.callbacks.TensorBoard(logdir),\n",
        "    keras.callbacks.ModelCheckpoint(output_model_file,save_best_only = True),\n",
        "    keras.callbacks.EarlyStopping(patience=5, min_delta=1e-3),\n",
        "]\n",
        "history = model.fit(x_train_scaled, y_train, epochs=20,\n",
        "                    validation_data=(x_valid_scaled, y_valid),\n",
        "                    callbacks = callbacks)"
      ],
      "execution_count": 0,
      "outputs": []
    },
    {
      "cell_type": "code",
      "metadata": {
        "colab_type": "code",
        "id": "qzdXj-dOQ9zo",
        "outputId": "8c2a44fb-a231-4d05-91c0-3b776d1a6f5b",
        "colab": {
          "base_uri": "https://localhost:8080/",
          "height": 666
        }
      },
      "source": [
        "epochs = 10\n",
        "plot_learning_curves(history, 'accuracy', epochs, 0, 1)\n",
        "plot_learning_curves(history, 'loss', epochs, 0, 2)\n",
        "model.evaluate(x_test_scaled, y_test)"
      ],
      "execution_count": 0,
      "outputs": [
        {
          "output_type": "display_data",
          "data": {
            "image/png": "[encoded data removed]",
            "text/plain": [
              "<Figure size 576x360 with 1 Axes>"
            ]
          },
          "metadata": {
            "tags": [],
            "needs_background": "light"
          }
        },
        {
          "output_type": "display_data",
          "data": {
            "image/png": "[encoded data removed]",
            "text/plain": [
              "<Figure size 576x360 with 1 Axes>"
            ]
          },
          "metadata": {
            "tags": [],
            "needs_background": "light"
          }
        },
        {
          "output_type": "stream",
          "text": [
            "313/313 [==============================] - 1s 2ms/step - loss: 0.3434 - accuracy: 0.8764\n"
          ],
          "name": "stdout"
        },
        {
          "output_type": "execute_result",
          "data": {
            "text/plain": [
              "[0.34338194131851196, 0.8763999938964844]"
            ]
          },
          "metadata": {
            "tags": []
          },
          "execution_count": 31
        }
      ]
    },
    {
      "cell_type": "markdown",
      "metadata": {
        "colab_type": "text",
        "id": "-gTp8T5IRNf5"
      },
      "source": [
        "## Resnet50"
      ]
    },
    {
      "cell_type": "code",
      "metadata": {
        "colab_type": "code",
        "id": "XHOyGF39RMv6",
        "outputId": "866a2cb5-d17c-494c-ce51-1a4452e5e6c2",
        "colab": {
          "base_uri": "https://localhost:8080/",
          "height": 140
        }
      },
      "source": [
        "train_dir = \"./training/training\"\n",
        "valid_dir = \"./validation/validation\"\n",
        "label_file = \"./monkey_labels.txt\"\n",
        "print(os.listdir(train_dir))\n",
        "print(os.listdir(valid_dir))\n",
        "\n",
        "labels = pd.read_csv(label_file, header=0)\n",
        "print(labels[:2])"
      ],
      "execution_count": 0,
      "outputs": [
        {
          "output_type": "stream",
          "text": [
            "['n7', 'n9', 'n5', 'n2', 'n8', 'n4', 'n0', 'n6', 'n3', 'n1']\n",
            "['n7', 'n9', 'n5', 'n2', 'n8', 'n4', 'n0', 'n6', 'n3', 'n1']\n",
            "   Label   Latin Name             ...  Train Images    Validation Images\n",
            "0  n0       alouatta_palliata\\t   ...            131                  26\n",
            "1  n1      erythrocebus_patas\\t   ...            139                  28\n",
            "\n",
            "[2 rows x 5 columns]\n"
          ],
          "name": "stdout"
        }
      ]
    },
    {
      "cell_type": "code",
      "metadata": {
        "colab_type": "code",
        "id": "RK8nfYmwUZ3h",
        "outputId": "c2cf6d25-a404-4b6e-8a05-5646d837ce64",
        "colab": {
          "base_uri": "https://localhost:8080/",
          "height": 70
        }
      },
      "source": [
        "height = 224\n",
        "width = 224\n",
        "channels = 3\n",
        "batch_size = 24\n",
        "num_classes = 10\n",
        "\n",
        "# 定义图片增强参数\n",
        "train_datagen = keras.preprocessing.image.ImageDataGenerator(\n",
        "    preprocessing_function = keras.applications.resnet50.preprocess_input, # 归一化\n",
        "    rotation_range = 40,\n",
        "    width_shift_range = 0.2,\n",
        "    height_shift_range = 0.2,\n",
        "    shear_range = 0.2,\n",
        "    zoom_range = 0.2,\n",
        "    horizontal_flip = True,\n",
        "    fill_mode = 'nearest')\n",
        "# 图片生成器\n",
        "train_generator = train_datagen.flow_from_directory(\n",
        "    train_dir, # 将文件名加载成label的名字\n",
        "    target_size = (height, width),\n",
        "    batch_size = batch_size,\n",
        "    seed = 666,\n",
        "    shuffle = True,\n",
        "    class_mode = \"categorical\") # onehot编码\n",
        "\n",
        "valid_datagen = keras.preprocessing.image.ImageDataGenerator(\n",
        "    preprocessing_function = keras.applications.resnet50.preprocess_input)\n",
        "\n",
        "valid_generator = valid_datagen.flow_from_directory(\n",
        "    valid_dir,\n",
        "    target_size = (height, width),\n",
        "    batch_size = batch_size,\n",
        "    seed = 7,\n",
        "    shuffle = False,\n",
        "    class_mode = \"categorical\")\n",
        "\n",
        "train_num = train_generator.samples\n",
        "valid_num = valid_generator.samples\n",
        "print(train_num, valid_num)"
      ],
      "execution_count": 0,
      "outputs": [
        {
          "output_type": "stream",
          "text": [
            "Found 1098 images belonging to 10 classes.\n",
            "Found 272 images belonging to 10 classes.\n",
            "1098 272\n"
          ],
          "name": "stdout"
        }
      ]
    },
    {
      "cell_type": "code",
      "metadata": {
        "colab_type": "code",
        "id": "x2gzApMMUmkK",
        "outputId": "ed70cf3c-d066-4ffc-b6fd-3e4e89b6421d",
        "colab": {
          "base_uri": "https://localhost:8080/",
          "height": 34
        }
      },
      "source": [
        "x, y = train_generator.next()\n",
        "print(x.shape, y.shape)"
      ],
      "execution_count": 0,
      "outputs": [
        {
          "output_type": "stream",
          "text": [
            "(24, 224, 224, 3) (24, 10)\n"
          ],
          "name": "stdout"
        }
      ]
    },
    {
      "cell_type": "code",
      "metadata": {
        "colab_type": "code",
        "id": "bb2ME9RwV15f",
        "colab": {}
      },
      "source": [
        "resnet50_fine_tune = keras.models.Sequential()\n",
        "resnet50_fine_tune.add(keras.applications.ResNet50(include_top = False,pooling = 'avg',weights = 'imagenet'))\n",
        "resnet50_fine_tune.add(keras.layers.Dense(num_classes, activation = 'softmax'))\n",
        "resnet50_fine_tune.layers[0].trainable = False # 第一层不可被训练\n",
        "\n",
        "# 定义成可训练\n",
        "# resnet50 = keras.applications.ResNet50(include_top = False,pooling = 'avg',weights = 'imagenet')\n",
        "# for layer in resnet50.layers[0:-5]:\n",
        "#   layer.trainable = False\n",
        "# resnet50_new = keras.models.Sequential([\n",
        "#    resnet50,\n",
        "#   keras.layers.Dense(num_classes, activation = 'softmax'),])\n",
        "\n",
        "resnet50_fine_tune.compile(loss=\"categorical_crossentropy\",\n",
        "                           optimizer=\"sgd\", metrics=['accuracy'])\n",
        "resnet50_fine_tune.summary()"
      ],
      "execution_count": 0,
      "outputs": []
    },
    {
      "cell_type": "code",
      "metadata": {
        "colab_type": "code",
        "id": "rwLA_hYdWbXW",
        "outputId": "be4b98f4-f7b1-4c38-b197-697b04946d96",
        "colab": {
          "base_uri": "https://localhost:8080/",
          "height": 794
        }
      },
      "source": [
        "epochs = 20\n",
        "history = resnet50_fine_tune.fit_generator(\n",
        "    train_generator,\n",
        "    steps_per_epoch = train_num // batch_size,\n",
        "    epochs = epochs,\n",
        "    validation_data = valid_generator,\n",
        "    validation_steps = valid_num // batch_size)"
      ],
      "execution_count": 0,
      "outputs": [
        {
          "output_type": "stream",
          "text": [
            "WARNING:tensorflow:From <ipython-input-10-b491d76abf13>:7: Model.fit_generator (from tensorflow.python.keras.engine.training) is deprecated and will be removed in a future version.\n",
            "Instructions for updating:\n",
            "Please use Model.fit, which supports generators.\n",
            "Epoch 1/20\n",
            "45/45 [==============================] - 38s 855ms/step - loss: 1.1122 - accuracy: 0.6815 - val_loss: 0.4432 - val_accuracy: 0.9091\n",
            "Epoch 2/20\n",
            "45/45 [==============================] - 39s 860ms/step - loss: 0.3379 - accuracy: 0.9339 - val_loss: 0.2339 - val_accuracy: 0.9659\n",
            "Epoch 3/20\n",
            "45/45 [==============================] - 39s 858ms/step - loss: 0.2188 - accuracy: 0.9562 - val_loss: 0.1757 - val_accuracy: 0.9659\n",
            "Epoch 4/20\n",
            "45/45 [==============================] - 38s 847ms/step - loss: 0.1698 - accuracy: 0.9637 - val_loss: 0.1361 - val_accuracy: 0.9886\n",
            "Epoch 5/20\n",
            "45/45 [==============================] - 39s 861ms/step - loss: 0.1345 - accuracy: 0.9767 - val_loss: 0.1255 - val_accuracy: 0.9848\n",
            "Epoch 6/20\n",
            "45/45 [==============================] - 38s 841ms/step - loss: 0.1344 - accuracy: 0.9767 - val_loss: 0.1063 - val_accuracy: 0.9773\n",
            "Epoch 7/20\n",
            "45/45 [==============================] - 39s 866ms/step - loss: 0.1074 - accuracy: 0.9786 - val_loss: 0.0970 - val_accuracy: 0.9886\n",
            "Epoch 8/20\n",
            "45/45 [==============================] - 38s 849ms/step - loss: 0.1059 - accuracy: 0.9832 - val_loss: 0.0886 - val_accuracy: 0.9886\n",
            "Epoch 9/20\n",
            "45/45 [==============================] - 38s 844ms/step - loss: 0.0942 - accuracy: 0.9823 - val_loss: 0.0830 - val_accuracy: 0.9924\n",
            "Epoch 10/20\n",
            "45/45 [==============================] - 40s 883ms/step - loss: 0.0809 - accuracy: 0.9860 - val_loss: 0.0815 - val_accuracy: 0.9924\n",
            "Epoch 11/20\n",
            "45/45 [==============================] - 38s 844ms/step - loss: 0.0751 - accuracy: 0.9888 - val_loss: 0.0733 - val_accuracy: 0.9886\n",
            "Epoch 12/20\n",
            "45/45 [==============================] - 39s 866ms/step - loss: 0.0705 - accuracy: 0.9870 - val_loss: 0.0795 - val_accuracy: 0.9924\n",
            "Epoch 13/20\n",
            "45/45 [==============================] - 39s 871ms/step - loss: 0.0531 - accuracy: 0.9972 - val_loss: 0.0688 - val_accuracy: 0.9924\n",
            "Epoch 14/20\n",
            "45/45 [==============================] - 38s 846ms/step - loss: 0.0573 - accuracy: 0.9953 - val_loss: 0.0670 - val_accuracy: 0.9924\n",
            "Epoch 15/20\n",
            "45/45 [==============================] - 38s 847ms/step - loss: 0.0618 - accuracy: 0.9926 - val_loss: 0.0623 - val_accuracy: 0.9924\n",
            "Epoch 16/20\n",
            "45/45 [==============================] - 37s 832ms/step - loss: 0.0587 - accuracy: 0.9879 - val_loss: 0.0624 - val_accuracy: 0.9924\n",
            "Epoch 17/20\n",
            "45/45 [==============================] - 38s 854ms/step - loss: 0.0454 - accuracy: 0.9953 - val_loss: 0.0554 - val_accuracy: 0.9962\n",
            "Epoch 18/20\n",
            "45/45 [==============================] - 40s 886ms/step - loss: 0.0498 - accuracy: 0.9944 - val_loss: 0.0577 - val_accuracy: 0.9924\n",
            "Epoch 19/20\n",
            "45/45 [==============================] - 37s 832ms/step - loss: 0.0498 - accuracy: 0.9963 - val_loss: 0.0565 - val_accuracy: 0.9924\n",
            "Epoch 20/20\n",
            "45/45 [==============================] - 40s 884ms/step - loss: 0.0373 - accuracy: 0.9981 - val_loss: 0.0527 - val_accuracy: 0.9962\n"
          ],
          "name": "stdout"
        }
      ]
    },
    {
      "cell_type": "code",
      "metadata": {
        "colab_type": "code",
        "id": "mW2HlQ1uWwOM",
        "outputId": "a59ea90e-4056-4e32-87c1-d56199974084",
        "colab": {
          "base_uri": "https://localhost:8080/",
          "height": 631
        }
      },
      "source": [
        "epochs = 20\n",
        "plot_learning_curves(history, 'accuracy', epochs, 0, 1)\n",
        "plot_learning_curves(history, 'loss', epochs, 0, 1)"
      ],
      "execution_count": 0,
      "outputs": [
        {
          "output_type": "display_data",
          "data": {
            "image/png": "[encoded data removed]",
            "text/plain": [
              "<Figure size 576x360 with 1 Axes>"
            ]
          },
          "metadata": {
            "tags": [],
            "needs_background": "light"
          }
        },
        {
          "output_type": "display_data",
          "data": {
            "image/png": "[encoded data removed]",
            "text/plain": [
              "<Figure size 576x360 with 1 Axes>"
            ]
          },
          "metadata": {
            "tags": [],
            "needs_background": "light"
          }
        }
      ]
    },
    {
      "cell_type": "markdown",
      "metadata": {
        "colab_type": "text",
        "id": "Kk-TQZf4baav"
      },
      "source": [
        "## CIFAR-10"
      ]
    },
    {
      "cell_type": "code",
      "metadata": {
        "colab_type": "code",
        "id": "K4SW0h2QbZ8R",
        "outputId": "4c468d9a-0d81-4506-e749-3ccafab4774d",
        "colab": {
          "base_uri": "https://localhost:8080/",
          "height": 90
        }
      },
      "source": [
        "class_names = ['airplane','automobile','bird','cat','deer','dog','frog','horse','ship','truck']\n",
        "\n",
        "train_lables_file = 'trainLabels.csv'\n",
        "test_csv_file = 'sampleSubmission.csv'\n",
        "train_folder = 'train/'\n",
        "test_folder = 'test/'\n",
        "# 解析csv, 生成(文件路径名称,label)\n",
        "def parse_csv_file(filepath, folder):\n",
        "    results = []\n",
        "    with open(filepath, 'r') as f:\n",
        "        lines = f.readlines()[1:] # 删除第一行标签\n",
        "    for line in lines:\n",
        "        image_id, label_str = line.strip('\\n').split(',')\n",
        "        # 生成路径+文件名, 标签\n",
        "        image_full_path = os.path.join(folder, image_id + '.png')\n",
        "        results.append((image_full_path, label_str))\n",
        "    return results\n",
        "\n",
        "# 生成训练数据和测数据的('train/1.png', 'frog')\n",
        "train_labels_info = parse_csv_file(train_lables_file, train_folder)\n",
        "test_csv_info = parse_csv_file(test_csv_file, test_folder)\n",
        "\n",
        "print(train_labels_info[0:5])\n",
        "print(test_csv_info[0:5])\n",
        "print(len(train_labels_info), len(test_csv_info))"
      ],
      "execution_count": 0,
      "outputs": [
        {
          "output_type": "stream",
          "text": [
            "[('train/1.png', 'frog'), ('train/2.png', 'truck'), ('train/3.png', 'truck'), ('train/4.png', 'deer'), ('train/5.png', 'automobile')]\n",
            "[('test/1.png', 'cat'), ('test/2.png', 'cat'), ('test/3.png', 'cat'), ('test/4.png', 'cat'), ('test/5.png', 'cat')]\n",
            "50000 300000\n"
          ],
          "name": "stdout"
        }
      ]
    },
    {
      "cell_type": "code",
      "metadata": {
        "colab_type": "code",
        "id": "Jb2fN1fObNRm",
        "colab": {}
      },
      "source": [
        "# 训练集和验证集分割\n",
        "train_df = pd.DataFrame(train_labels_info[0:47000])\n",
        "valid_df = pd.DataFrame(train_labels_info[47000:])\n",
        "test_df = pd.DataFrame(test_csv_info)\n",
        "\n",
        "train_df.columns = ['filepath', 'class']\n",
        "valid_df.columns = ['filepath', 'class']\n",
        "test_df.columns = ['filepath', 'class']\n",
        "\n",
        "# 统计每个类别的个数,防止某一项过少\n",
        "print(train_df.head(2))\n",
        "print(train_df[\"class\"].value_counts())\n",
        "print(valid_df[\"class\"].value_counts())"
      ],
      "execution_count": 0,
      "outputs": []
    },
    {
      "cell_type": "code",
      "metadata": {
        "colab_type": "code",
        "id": "ULXsqkL0f-xa",
        "outputId": "78e77306-4ee6-4932-b174-378fade4e7c3",
        "colab": {
          "base_uri": "https://localhost:8080/",
          "height": 107
        }
      },
      "source": [
        "height = 32\n",
        "width = 32\n",
        "channels = 3\n",
        "batch_size = 32\n",
        "num_classes = 10\n",
        "\n",
        "# 训练集数据样本增强\n",
        "train_datagen = keras.preprocessing.image.ImageDataGenerator(\n",
        "    rescale = 1./255,\n",
        "    rotation_range = 40,\n",
        "    width_shift_range = 0.2,\n",
        "    height_shift_range = 0.2,\n",
        "    shear_range = 0.2,\n",
        "    zoom_range = 0.2,\n",
        "    horizontal_flip = True,\n",
        "    fill_mode = 'nearest',\n",
        ")\n",
        "train_generator = train_datagen.flow_from_dataframe(\n",
        "    train_df,\n",
        "    directory = './',\n",
        "    x_col = 'filepath',\n",
        "    y_col = 'class',\n",
        "    classes = class_names,\n",
        "    target_size = (height, width),\n",
        "    batch_size = batch_size,\n",
        "    seed = 666,\n",
        "    shuffle = True,\n",
        "    class_mode = 'sparse',\n",
        ")\n",
        "\n",
        "# 获得验证集数据\n",
        "valid_datagen = keras.preprocessing.image.ImageDataGenerator(\n",
        "    rescale = 1./255)\n",
        "valid_generator = valid_datagen.flow_from_dataframe(\n",
        "    valid_df,\n",
        "    directory = './',\n",
        "    x_col = 'filepath',\n",
        "    y_col = 'class',\n",
        "    classes = class_names,\n",
        "    target_size = (height, width),\n",
        "    batch_size = batch_size,\n",
        "    seed = 666,\n",
        "    shuffle = False,\n",
        "    class_mode = \"sparse\")\n",
        "\n",
        "train_num = train_generator.samples\n",
        "valid_num = valid_generator.samples\n",
        "print(train_num, valid_num)\n",
        "\n",
        "# x, y = train_generator.next()"
      ],
      "execution_count": 0,
      "outputs": [
        {
          "output_type": "stream",
          "text": [
            "Found 47000 validated image filenames belonging to 10 classes.\n",
            "Found 3000 validated image filenames belonging to 10 classes.\n",
            "47000 3000\n"
          ],
          "name": "stdout"
        },
        {
          "output_type": "execute_result",
          "data": {
            "text/plain": [
              "'\\nx, y = train_generator.next()\\n(32, 32, 32, 3) (32,)\\ny = [2. 1. 4. 4. 4. 4. 6. 5. 2. 8. 4. 6. 6. 3. 7. 1. 7. 2. 8. 8. 3. 0. 5. 3.\\n 9. 1. 4. 5. 6. 7. 9. 2.]\\n '"
            ]
          },
          "metadata": {
            "tags": []
          },
          "execution_count": 14
        }
      ]
    },
    {
      "cell_type": "code",
      "metadata": {
        "colab_type": "code",
        "id": "n2zKZWEBgEmN",
        "colab": {}
      },
      "source": [
        "model = keras.models.Sequential([\n",
        "    keras.layers.Conv2D(filters=128, kernel_size=3, padding='same',activation='relu',input_shape=[width, height, channels]),\n",
        "    keras.layers.BatchNormalization(),\n",
        "    keras.layers.Conv2D(filters=128, kernel_size=3, padding='same',activation='relu'),\n",
        "    keras.layers.BatchNormalization(),\n",
        "    keras.layers.MaxPool2D(pool_size=2),\n",
        "    keras.layers.Conv2D(filters=256, kernel_size=3, padding='same',activation='relu'),\n",
        "    keras.layers.BatchNormalization(),\n",
        "    keras.layers.Conv2D(filters=256, kernel_size=3, padding='same',activation='relu'),\n",
        "    keras.layers.BatchNormalization(),\n",
        "    keras.layers.MaxPool2D(pool_size=2),\n",
        "    keras.layers.Conv2D(filters=512, kernel_size=3, padding='same',activation='relu'),\n",
        "    keras.layers.BatchNormalization(),\n",
        "    keras.layers.Conv2D(filters=512, kernel_size=3, padding='same',activation='relu'),\n",
        "    keras.layers.BatchNormalization(),\n",
        "    keras.layers.MaxPool2D(pool_size=2),\n",
        "    keras.layers.Conv2D(filters=1024, kernel_size=3, padding='same',activation='relu'),\n",
        "    keras.layers.BatchNormalization(),\n",
        "    keras.layers.Conv2D(filters=1024, kernel_size=3, padding='same',activation='relu'),\n",
        "    keras.layers.BatchNormalization(),\n",
        "    keras.layers.MaxPool2D(pool_size=2),\n",
        "    keras.layers.Flatten(),\n",
        "    keras.layers.Dense(1024, activation='relu'),\n",
        "    keras.layers.Dense(512, activation='relu'),\n",
        "    keras.layers.Dense(256, activation='relu'),\n",
        "    keras.layers.Dense(128, activation='relu'),\n",
        "    keras.layers.Dense(num_classes, activation='softmax'),\n",
        "])\n",
        "\n",
        "model.compile(loss=\"sparse_categorical_crossentropy\",\n",
        "              optimizer=\"adam\", metrics=['accuracy'])\n",
        "model.summary()"
      ],
      "execution_count": 0,
      "outputs": []
    },
    {
      "cell_type": "code",
      "metadata": {
        "colab_type": "code",
        "id": "DgYYzfR9b5Te",
        "colab": {}
      },
      "source": [
        "# Tensorboard, earlystopping, ModelCheckpoint\n",
        "logdir = './callbacks'\n",
        "if not os.path.exists(logdir):\n",
        "    os.mkdir(logdir)\n",
        "output_model_file = os.path.join(logdir,\"fashion_mnist_model.h5\")\n",
        "callbacks = [keras.callbacks.TensorBoard(logdir),\n",
        "             keras.callbacks.ModelCheckpoint(output_model_file, save_best_only = True),\n",
        "             keras.callbacks.EarlyStopping(patience=8, min_delta=1e-3),]\n",
        "\n",
        "# 训练数据\n",
        "history = model.fit(train_generator,\n",
        "                    steps_per_epoch = train_num // batch_size,\n",
        "                    epochs = 20,\n",
        "                    validation_data = valid_generator,\n",
        "                    validation_steps = valid_num // batch_size,\n",
        "                    callbacks = callbacks)\n",
        "# loss: 0.3243 - accuracy: 0.8921 - val_loss: 0.3549 - val_accuracy: 0.8814"
      ],
      "execution_count": 0,
      "outputs": []
    },
    {
      "cell_type": "code",
      "metadata": {
        "colab_type": "code",
        "id": "_Go-WUzDgSPe",
        "outputId": "ccfb2039-3286-4b8e-f9f0-0defb34f80bf",
        "colab": {
          "base_uri": "https://localhost:8080/",
          "height": 631
        }
      },
      "source": [
        "epochs = 30\n",
        "plot_learning_curves(history, 'accuracy', epochs, 0, 1)\n",
        "plot_learning_curves(history, 'loss', epochs, 0, 1)"
      ],
      "execution_count": 0,
      "outputs": [
        {
          "output_type": "display_data",
          "data": {
            "image/png": "[encoded data removed]",
            "text/plain": [
              "<Figure size 576x360 with 1 Axes>"
            ]
          },
          "metadata": {
            "tags": [],
            "needs_background": "light"
          }
        },
        {
          "output_type": "display_data",
          "data": {
            "image/png": "[encoded data removed]",
            "text/plain": [
              "<Figure size 576x360 with 1 Axes>"
            ]
          },
          "metadata": {
            "tags": [],
            "needs_background": "light"
          }
        }
      ]
    },
    {
      "cell_type": "code",
      "metadata": {
        "colab_type": "code",
        "id": "g7hi7yRqgS6H",
        "outputId": "9d5935ee-edf7-486a-a7cd-e2e7cdd3ee4d",
        "colab": {
          "base_uri": "https://localhost:8080/",
          "height": 52
        }
      },
      "source": [
        "# 测试集数据生成\n",
        "test_datagen = keras.preprocessing.image.ImageDataGenerator(\n",
        "    rescale = 1./255)\n",
        "test_generator = test_datagen.flow_from_dataframe(\n",
        "    test_df,\n",
        "    directory = './',\n",
        "    x_col = 'filepath',\n",
        "    y_col = 'class',\n",
        "    classes = class_names,\n",
        "    target_size = (height, width),\n",
        "    batch_size = batch_size,\n",
        "    seed = 7,\n",
        "    shuffle = False,\n",
        "    class_mode = \"sparse\")\n",
        "test_num = test_generator.samples\n",
        "print(test_num)\n",
        "print(test_generator.image_shape)"
      ],
      "execution_count": 0,
      "outputs": [
        {
          "output_type": "stream",
          "text": [
            "Found 300000 validated image filenames belonging to 10 classes.\n",
            "300000\n"
          ],
          "name": "stdout"
        }
      ]
    },
    {
      "cell_type": "code",
      "metadata": {
        "colab_type": "code",
        "id": "J_vqB-UcgbGd",
        "colab": {}
      },
      "source": [
        "# 模型预测\n",
        "test_predict = model.predict(test_generator,\n",
        "                             workers=10,\n",
        "                             use_multiprocessing=True)"
      ],
      "execution_count": 0,
      "outputs": []
    },
    {
      "cell_type": "code",
      "metadata": {
        "colab_type": "code",
        "id": "iSxg0uspgbtR",
        "outputId": "80c4bedd-a2c6-493b-e0e5-0bf7cffb7589",
        "colab": {}
      },
      "source": [
        "print(test_predict.shape)"
      ],
      "execution_count": 0,
      "outputs": [
        {
          "output_type": "stream",
          "text": [
            "(300000, 10)\n"
          ],
          "name": "stdout"
        }
      ]
    },
    {
      "cell_type": "code",
      "metadata": {
        "colab_type": "code",
        "id": "y0wxQsyHgeP1",
        "outputId": "4ab607fc-5c8a-4ef3-994a-8c4b56de5c0b",
        "colab": {}
      },
      "source": [
        "print(test_predict[0:5])"
      ],
      "execution_count": 0,
      "outputs": [
        {
          "output_type": "stream",
          "text": [
            "[[8.89645703e-03 9.90860388e-02 2.21215617e-02 3.32680419e-02\n",
            "  2.21877662e-03 6.49703806e-03 2.74373405e-02 1.57152247e-02\n",
            "  6.72360957e-02 7.17523456e-01]\n",
            " [8.15754056e-01 6.17072619e-02 6.59676222e-03 1.12473976e-03\n",
            "  1.95191547e-04 5.07074255e-05 1.05969678e-03 7.87202443e-05\n",
            "  8.61449353e-03 1.04818396e-01]\n",
            " [5.17094520e-07 7.66079187e-01 1.16821808e-04 7.46035585e-05\n",
            "  3.26994893e-08 3.03690786e-06 5.12259357e-05 4.07178704e-05\n",
            "  3.28886599e-05 2.33600944e-01]\n",
            " [3.29882766e-07 3.30548353e-08 8.82507678e-10 1.93208010e-08\n",
            "  6.98109348e-09 3.64343528e-10 1.50343682e-09 4.53333399e-10\n",
            "  9.99999642e-01 2.11371045e-08]\n",
            " [7.64201224e-01 7.83019699e-04 4.71560657e-03 1.15333672e-03\n",
            "  8.11067177e-04 1.20370154e-04 1.76755741e-04 3.06271657e-04\n",
            "  2.25183889e-01 2.54841219e-03]]\n"
          ],
          "name": "stdout"
        }
      ]
    },
    {
      "cell_type": "code",
      "metadata": {
        "colab_type": "code",
        "id": "91t_szBFghQU",
        "colab": {}
      },
      "source": [
        "# 将最大的序号选出来\n",
        "test_predict_class_indices = np.argmax(test_predict, axis = 1)"
      ],
      "execution_count": 0,
      "outputs": []
    },
    {
      "cell_type": "code",
      "metadata": {
        "colab_type": "code",
        "id": "Av6t7mCwghqU",
        "outputId": "72359736-9066-48b6-cb0d-dff3a79d31a2",
        "colab": {}
      },
      "source": [
        "print(test_predict_class_indices[0:5])"
      ],
      "execution_count": 0,
      "outputs": [
        {
          "output_type": "stream",
          "text": [
            "[9 0 1 8 0]\n"
          ],
          "name": "stdout"
        }
      ]
    },
    {
      "cell_type": "code",
      "metadata": {
        "colab_type": "code",
        "id": "4A7SHpQNgj7O",
        "outputId": "556176a5-3516-454b-dd85-1464774effb7",
        "colab": {}
      },
      "source": [
        "# 输出序号对应的名字\n",
        "test_predict_class = [class_names[index] for index in test_predict_class_indices]\n",
        "print(test_predict_class[0:5])"
      ],
      "execution_count": 0,
      "outputs": [
        {
          "output_type": "stream",
          "text": [
            "['truck', 'airplane', 'automobile', 'ship', 'airplane']\n"
          ],
          "name": "stdout"
        }
      ]
    },
    {
      "cell_type": "code",
      "metadata": {
        "colab_type": "code",
        "id": "YDFKfxdiguT1",
        "colab": {}
      },
      "source": [
        "def generate_submissions(filename, predict_class):\n",
        "    with open(filename, 'w') as f:\n",
        "        f.write('id,label\\n')\n",
        "        for i in range(len(predict_class)):\n",
        "            f.write('%d,%s\\n' % (i+1, predict_class[i]))\n",
        "\n",
        "output_file = \"submission.csv\"\n",
        "generate_submissions(output_file, test_predict_class)"
      ],
      "execution_count": 0,
      "outputs": []
    }
  ]
}