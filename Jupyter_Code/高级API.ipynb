{
  "nbformat": 4,
  "nbformat_minor": 0,
  "metadata": {
    "colab": {
      "name": "高级API.ipynb",
      "provenance": [],
      "collapsed_sections": [],
      "toc_visible": true
    },
    "kernelspec": {
      "name": "python3",
      "display_name": "Python 3"
    }
  },
  "cells": [
    {
      "cell_type": "markdown",
      "metadata": {
        "id": "DWJjJMAkr12W",
        "colab_type": "text"
      },
      "source": [
        "# Keras 高阶API"
      ]
    },
    {
      "cell_type": "markdown",
      "metadata": {
        "id": "V5lDUv0hK0NT",
        "colab_type": "text"
      },
      "source": [
        "![](https://raw.githubusercontent.com/LinCheungS/PicGo_Image_Storage/master/2020-1/20200503045434.png)"
      ]
    },
    {
      "cell_type": "code",
      "metadata": {
        "colab_type": "code",
        "outputId": "7e9896a5-f8bc-45d0-e514-11ed394092a7",
        "id": "ziuGV6Bcw5Vw",
        "colab": {
          "base_uri": "https://localhost:8080/",
          "height": 69
        }
      },
      "source": [
        "\"\"\"导入所需库\"\"\"\n",
        "from sklearn.preprocessing import StandardScaler\n",
        "from sklearn.model_selection import train_test_split\n",
        "import matplotlib.pyplot as plt\n",
        "from tensorflow import keras\n",
        "import matplotlib as mpl\n",
        "import tensorflow as tf\n",
        "import pandas as pd\n",
        "import numpy as np\n",
        "import sklearn\n",
        "import time\n",
        "import sys\n",
        "import os\n",
        "# 打印TF版本\n",
        "%matplotlib inline\n",
        "print(\"tf.__version__: {}\".format(tf.__version__))\n",
        "print(sys.version)"
      ],
      "execution_count": 63,
      "outputs": [
        {
          "output_type": "stream",
          "text": [
            "tf.__version__: 2.2.0-rc3\n",
            "3.6.9 (default, Nov  7 2019, 10:44:02) \n",
            "[GCC 8.3.0]\n"
          ],
          "name": "stdout"
        }
      ]
    },
    {
      "cell_type": "markdown",
      "metadata": {
        "id": "b74KYg7Uz_05",
        "colab_type": "text"
      },
      "source": [
        "## 0.数据预处理"
      ]
    },
    {
      "cell_type": "markdown",
      "metadata": {
        "id": "ZEnHafTNr_lH",
        "colab_type": "text"
      },
      "source": [
        "### 数据加载"
      ]
    },
    {
      "cell_type": "code",
      "metadata": {
        "id": "692OX9ksy5gl",
        "colab_type": "code",
        "outputId": "b8067d17-9646-4fa7-b060-df03c51a4c9f",
        "colab": {
          "base_uri": "https://localhost:8080/",
          "height": 87
        }
      },
      "source": [
        "\"\"\"加载数据\"\"\"\n",
        "fashion_mnist = keras.datasets.fashion_mnist\n",
        "(x_train_all, y_train_all), (x_test, y_test) = fashion_mnist.load_data()\n",
        "x_valid, x_train = x_train_all[:5000], x_train_all[5000:]\n",
        "y_valid, y_train = y_train_all[:5000], y_train_all[5000:]\n",
        "# 打印维度\n",
        "print(\"验证数据: X的维度- {} Y的维度- {}\".format(x_valid.shape,y_valid.shape))\n",
        "print(\"训练数据: X的维度- {} Y的维度- {}\".format(x_train.shape,y_train.shape))\n",
        "print(\"测试数据: X的维度- {} Y的维度- {}\".format(x_test.shape,y_test.shape))\n",
        "print(\"最大值是:{}  最小值是{}\".format(np.max(x_train), np.min(x_train)))"
      ],
      "execution_count": 64,
      "outputs": [
        {
          "output_type": "stream",
          "text": [
            "验证数据: X的维度- (5000, 28, 28) Y的维度- (5000,)\n",
            "训练数据: X的维度- (55000, 28, 28) Y的维度- (55000,)\n",
            "测试数据: X的维度- (10000, 28, 28) Y的维度- (10000,)\n",
            "最大值是:255  最小值是0\n"
          ],
          "name": "stdout"
        }
      ]
    },
    {
      "cell_type": "markdown",
      "metadata": {
        "id": "WZGiRi0e0JHQ",
        "colab_type": "text"
      },
      "source": [
        "### 归一化处理"
      ]
    },
    {
      "cell_type": "code",
      "metadata": {
        "id": "pYvqoxYS2UUD",
        "colab_type": "code",
        "outputId": "07be6dfd-6463-4273-c6fa-7321149879d4",
        "colab": {
          "base_uri": "https://localhost:8080/",
          "height": 35
        }
      },
      "source": [
        "\"\"\"利用Sklearn进行归一化处理\"\"\"\n",
        "scaler = StandardScaler()\n",
        "# x_train: [None, 28, 28] -> [None, 784]\n",
        "x_train_scaled = scaler.fit_transform(\n",
        "    x_train.astype(np.float32).reshape(-1, 1)).reshape(-1, 28, 28)\n",
        "x_valid_scaled = scaler.transform(\n",
        "    x_valid.astype(np.float32).reshape(-1, 1)).reshape(-1, 28, 28)\n",
        "x_test_scaled = scaler.transform(\n",
        "    x_test.astype(np.float32).reshape(-1, 1)).reshape(-1, 28, 28)\n",
        "print(\"最大值是:{}  最小值是{}\".format(np.max(x_train_scaled), np.min(x_train_scaled)))"
      ],
      "execution_count": 65,
      "outputs": [
        {
          "output_type": "stream",
          "text": [
            "最大值是:2.0231432914733887  最小值是-0.8105136156082153\n"
          ],
          "name": "stdout"
        }
      ]
    },
    {
      "cell_type": "markdown",
      "metadata": {
        "id": "UX1umGhI0L6F",
        "colab_type": "text"
      },
      "source": [
        "### 数据可视化"
      ]
    },
    {
      "cell_type": "code",
      "metadata": {
        "id": "3Jg5g2R60AwR",
        "colab_type": "code",
        "outputId": "fd4ddaf9-3ad7-4977-feba-1c97f2ae3ba9",
        "colab": {
          "base_uri": "https://localhost:8080/",
          "height": 265
        }
      },
      "source": [
        "\"\"\"可视化数据\"\"\"\n",
        "def show_single_image(img_arr):\n",
        "    plt.imshow(img_arr, cmap=\"binary\")\n",
        "    plt.show()\n",
        "# 可视化第一个数据\n",
        "show_single_image(x_test[0])"
      ],
      "execution_count": 0,
      "outputs": [
        {
          "output_type": "display_data",
          "data": {
            "image/png": "[encoded data removed]",
            "text/plain": [
              "<Figure size 432x288 with 1 Axes>"
            ]
          },
          "metadata": {
            "tags": [],
            "needs_background": "light"
          }
        }
      ]
    },
    {
      "cell_type": "code",
      "metadata": {
        "id": "KXcsk99V2YKk",
        "colab_type": "code",
        "outputId": "668934c2-82b9-4ebc-9eea-d50e8d857ba9",
        "colab": {
          "base_uri": "https://localhost:8080/",
          "height": 275
        }
      },
      "source": [
        "\n",
        "def show_imgs(n_rows, n_cols, x_data, y_data, class_names):\n",
        "    # 执行一些输入数据的判断\n",
        "    assert len(x_data) == len(y_data)\n",
        "    assert n_rows * n_cols < len(x_data)\n",
        "    # 设置图片的大小\n",
        "    plt.figure(figsize = (n_cols * 1.4, n_rows * 1.4))\n",
        "    # 循环打印图片\n",
        "    for row in range(n_rows):\n",
        "        for col in range(n_cols):\n",
        "            # 对于3*3的矩阵,第一张图片 0*0+0=0\n",
        "            # 第五张图片 1*3+1=4\n",
        "            index = n_cols * row + col\n",
        "            # subplot(nrows, ncols, index, **kwargs)\n",
        "            plt.subplot(n_rows, n_cols, index+1)\n",
        "            # interpolation = 'nearest' works well when a small image is scaled up\n",
        "            plt.imshow(x_data[index], cmap=\"binary\",\n",
        "                       interpolation = \"nearest\")\n",
        "            plt.axis('off')\n",
        "            plt.title(class_names[y_data[index]])\n",
        "    plt.show()\n",
        "\n",
        "class_names = ['T-shirt', 'Trouser', 'Pullover', 'Dress',\n",
        "               'Coat', 'Sandal', 'Shirt', 'Sneaker',\n",
        "               'Bag', 'Ankle boot']\n",
        "show_imgs(3, 5, x_train, y_train, class_names)"
      ],
      "execution_count": 0,
      "outputs": [
        {
          "output_type": "display_data",
          "data": {
            "image/png": "[encoded data removed]",
            "text/plain": [
              "<Figure size 504x302.4 with 15 Axes>"
            ]
          },
          "metadata": {
            "tags": [],
            "needs_background": "light"
          }
        }
      ]
    },
    {
      "cell_type": "markdown",
      "metadata": {
        "id": "caoDPf9N0O5f",
        "colab_type": "text"
      },
      "source": [
        "## 1.模型构建"
      ]
    },
    {
      "cell_type": "markdown",
      "metadata": {
        "id": "SddORhTbsE4w",
        "colab_type": "text"
      },
      "source": [
        "### Sequential构建模型"
      ]
    },
    {
      "cell_type": "code",
      "metadata": {
        "id": "uRs4t2-rms94",
        "colab_type": "code",
        "colab": {}
      },
      "source": [
        "\"\"\"第一种写法\"\"\"\n",
        "# relu: y = max(0, x)\n",
        "# softmax: 将向量变成概率分布. x = [x1, x2, x3], \n",
        "keras.backend.clear_session()\n",
        "model = keras.models.Sequential()\n",
        "model.add(keras.layers.Flatten(input_shape=[28, 28]))\n",
        "model.add(keras.layers.Dense(300, activation=\"relu\"))\n",
        "model.add(keras.layers.Dense(100, activation=\"relu\"))\n",
        "model.add(keras.layers.Dense(10, activation=\"softmax\"))"
      ],
      "execution_count": 0,
      "outputs": []
    },
    {
      "cell_type": "code",
      "metadata": {
        "id": "3DZLQyPgswfr",
        "colab_type": "code",
        "colab": {}
      },
      "source": [
        "\"\"\"第二种写法\"\"\"\n",
        "model = keras.models.Sequential([\n",
        "    keras.layers.Flatten(input_shape=[28, 28]),\n",
        "    keras.layers.Dense(300, activation='relu'),\n",
        "    keras.layers.Dense(100, activation='relu'),\n",
        "    keras.layers.Dense(10, activation='softmax')\n",
        "])"
      ],
      "execution_count": 0,
      "outputs": []
    },
    {
      "cell_type": "code",
      "metadata": {
        "id": "vLZ7kh-RtPqL",
        "colab_type": "code",
        "outputId": "159bf903-6169-48ae-dcc3-9f0020f5d082",
        "colab": {
          "base_uri": "https://localhost:8080/",
          "height": 696
        }
      },
      "source": [
        "# 2. 编译模型\n",
        "# reason for sparse: y->index. y->one_hot->[] \n",
        "model.compile(loss=\"sparse_categorical_crossentropy\",\n",
        "              optimizer = \"sgd\",\n",
        "              metrics = [\"accuracy\"])\n",
        "\n",
        "# 打印神经网络结构 第一层= [None, 784] \n",
        "# x * W + b (W.shape=[784, 300],b=300)\n",
        "# 第二层= [None, 784]*[784, 300]*[784]+300= 235500\n",
        "# 第三层= [None, 235500]*[235500,100]*[300]+100= 30100\n",
        "print(model.summary())\n",
        "\n",
        "# 3. 训练模型\n",
        "history = model.fit(x_train_scaled, y_train, epochs=10,\n",
        "                    batch_size=16, #默认32\n",
        "                    validation_data=(x_valid_scaled, y_valid))\n",
        "# 4. 衡量模型\n",
        "print(\"history.history的结果:{}\".format(history.history))"
      ],
      "execution_count": 24,
      "outputs": [
        {
          "output_type": "stream",
          "text": [
            "Model: \"sequential_1\"\n",
            "_________________________________________________________________\n",
            "Layer (type)                 Output Shape              Param #   \n",
            "=================================================================\n",
            "flatten_1 (Flatten)          (None, 784)               0         \n",
            "_________________________________________________________________\n",
            "dense_3 (Dense)              (None, 300)               235500    \n",
            "_________________________________________________________________\n",
            "dense_4 (Dense)              (None, 100)               30100     \n",
            "_________________________________________________________________\n",
            "dense_5 (Dense)              (None, 10)                1010      \n",
            "=================================================================\n",
            "Total params: 266,610\n",
            "Trainable params: 266,610\n",
            "Non-trainable params: 0\n",
            "_________________________________________________________________\n",
            "None\n",
            "Epoch 1/10\n",
            "3438/3438 [==============================] - 9s 3ms/step - loss: 0.3681 - accuracy: 0.8642 - val_loss: 0.3409 - val_accuracy: 0.8764\n",
            "Epoch 2/10\n",
            "3438/3438 [==============================] - 9s 3ms/step - loss: 0.3314 - accuracy: 0.8771 - val_loss: 0.3274 - val_accuracy: 0.8804\n",
            "Epoch 3/10\n",
            "3438/3438 [==============================] - 8s 2ms/step - loss: 0.3113 - accuracy: 0.8855 - val_loss: 0.3179 - val_accuracy: 0.8822\n",
            "Epoch 4/10\n",
            "3438/3438 [==============================] - 9s 2ms/step - loss: 0.2948 - accuracy: 0.8904 - val_loss: 0.3131 - val_accuracy: 0.8860\n",
            "Epoch 5/10\n",
            "3438/3438 [==============================] - 9s 3ms/step - loss: 0.2816 - accuracy: 0.8953 - val_loss: 0.3052 - val_accuracy: 0.8866\n",
            "Epoch 6/10\n",
            "3438/3438 [==============================] - 8s 2ms/step - loss: 0.2695 - accuracy: 0.8992 - val_loss: 0.3001 - val_accuracy: 0.8898\n",
            "Epoch 7/10\n",
            "3438/3438 [==============================] - 9s 3ms/step - loss: 0.2583 - accuracy: 0.9031 - val_loss: 0.2999 - val_accuracy: 0.8902\n",
            "Epoch 8/10\n",
            "3438/3438 [==============================] - 9s 2ms/step - loss: 0.2488 - accuracy: 0.9063 - val_loss: 0.2959 - val_accuracy: 0.8932\n",
            "Epoch 9/10\n",
            "3438/3438 [==============================] - 8s 2ms/step - loss: 0.2399 - accuracy: 0.9116 - val_loss: 0.2919 - val_accuracy: 0.8930\n",
            "Epoch 10/10\n",
            "3438/3438 [==============================] - 8s 2ms/step - loss: 0.2304 - accuracy: 0.9147 - val_loss: 0.2933 - val_accuracy: 0.8920\n",
            "history.history的结果:{'loss': [0.368082195520401, 0.331444650888443, 0.31127113103866577, 0.2948134243488312, 0.28162670135498047, 0.26951009035110474, 0.2582969665527344, 0.24877727031707764, 0.2398764044046402, 0.230368509888649], 'accuracy': [0.8642181754112244, 0.8771091103553772, 0.8855090737342834, 0.8903999924659729, 0.8952545523643494, 0.8992000222206116, 0.9030545353889465, 0.9063090682029724, 0.9115636348724365, 0.9146727323532104], 'val_loss': [0.340898334980011, 0.3273810148239136, 0.31791818141937256, 0.31313377618789673, 0.3052375018596649, 0.3000797927379608, 0.2998906672000885, 0.2958807051181793, 0.29194268584251404, 0.2933011054992676], 'val_accuracy': [0.8763999938964844, 0.8804000020027161, 0.8822000026702881, 0.8859999775886536, 0.8866000175476074, 0.8898000121116638, 0.8902000188827515, 0.8931999802589417, 0.8930000066757202, 0.8920000195503235]}\n"
          ],
          "name": "stdout"
        }
      ]
    },
    {
      "cell_type": "markdown",
      "metadata": {
        "id": "7E1UVv4TPW4u",
        "colab_type": "text"
      },
      "source": [
        "### 函数式API"
      ]
    },
    {
      "cell_type": "markdown",
      "metadata": {
        "id": "t3Q5wQ2aRhj3",
        "colab_type": "text"
      },
      "source": [
        "模型结构(wide&deep)  \n",
        "![](https://raw.githubusercontent.com/LinCheungS/PicGo_Image_Storage/master/2020-1/20200425201801.png)\n",
        "Google Play推荐系统  \n",
        "![](https://raw.githubusercontent.com/LinCheungS/PicGo_Image_Storage/master/2020-1/20200425202216.png)"
      ]
    },
    {
      "cell_type": "code",
      "metadata": {
        "id": "U7RdAtL2SnNF",
        "colab_type": "code",
        "colab": {}
      },
      "source": [
        "from sklearn.datasets import fetch_california_housing\n",
        "from sklearn.model_selection import train_test_split\n",
        "from sklearn.preprocessing import StandardScaler\n",
        "# 加载数据\n",
        "housing = fetch_california_housing()\n",
        "x_train_all, x_test, y_train_all, y_test = train_test_split(\n",
        "    housing.data, housing.target, random_state = 7)\n",
        "x_train, x_valid, y_train, y_valid = train_test_split(\n",
        "    x_train_all, y_train_all, random_state = 11)\n",
        "# 归一化处理\n",
        "scaler = StandardScaler()\n",
        "x_train_scaled = scaler.fit_transform(x_train)\n",
        "x_valid_scaled = scaler.transform(x_valid)\n",
        "x_test_scaled = scaler.transform(x_test)\n",
        "\n",
        "tf.keras.backend.clear_session()"
      ],
      "execution_count": 0,
      "outputs": []
    },
    {
      "cell_type": "markdown",
      "metadata": {
        "id": "6OAikuTR8fqP",
        "colab_type": "text"
      },
      "source": [
        "![](https://raw.githubusercontent.com/LinCheungS/PicGo_Image_Storage/master/2020-1/20200503035144.png)"
      ]
    },
    {
      "cell_type": "code",
      "metadata": {
        "id": "EZoqGg7CTfgZ",
        "colab_type": "code",
        "outputId": "91ae9036-338c-4f0c-cec8-cf310fd239a8",
        "colab": {
          "base_uri": "https://localhost:8080/",
          "height": 367
        }
      },
      "source": [
        "\"\"\"wipe and deep 模型输入都是一样的\n",
        "函数式API 功能API, 类似复合函数: f(x) = h(g(x))\n",
        "\"\"\"\n",
        "# 构建deep层\n",
        "input = keras.layers.Input(shape=x_train.shape[1:])\n",
        "hidden1 = keras.layers.Dense(100, activation='relu')(input)\n",
        "hidden2 = keras.layers.Dense(100, activation='relu')(hidden1)\n",
        "# 横向拼接,input(wide) + (input->hidden2)\n",
        "concat = keras.layers.concatenate([input, hidden2])\n",
        "# 全部指向output\n",
        "output = keras.layers.Dense(1)(concat)\n",
        "# 将模型传给model\n",
        "model = keras.models.Model(inputs = [input],\n",
        "                           outputs = [output])\n",
        "# 打印结构\n",
        "model.summary()"
      ],
      "execution_count": 32,
      "outputs": [
        {
          "output_type": "stream",
          "text": [
            "Model: \"model\"\n",
            "__________________________________________________________________________________________________\n",
            "Layer (type)                    Output Shape         Param #     Connected to                     \n",
            "==================================================================================================\n",
            "input_1 (InputLayer)            [(None, 8)]          0                                            \n",
            "__________________________________________________________________________________________________\n",
            "dense (Dense)                   (None, 100)          900         input_1[0][0]                    \n",
            "__________________________________________________________________________________________________\n",
            "dense_1 (Dense)                 (None, 100)          10100       dense[0][0]                      \n",
            "__________________________________________________________________________________________________\n",
            "concatenate (Concatenate)       (None, 108)          0           input_1[0][0]                    \n",
            "                                                                 dense_1[0][0]                    \n",
            "__________________________________________________________________________________________________\n",
            "dense_2 (Dense)                 (None, 1)            109         concatenate[0][0]                \n",
            "==================================================================================================\n",
            "Total params: 11,109\n",
            "Trainable params: 11,109\n",
            "Non-trainable params: 0\n",
            "__________________________________________________________________________________________________\n"
          ],
          "name": "stdout"
        }
      ]
    },
    {
      "cell_type": "code",
      "metadata": {
        "id": "nqzCuOq0T3Z5",
        "colab_type": "code",
        "outputId": "fdaf8f8a-f463-4eb3-cf21-4b5d3473d762",
        "colab": {
          "base_uri": "https://localhost:8080/",
          "height": 225
        }
      },
      "source": [
        "# 编译模型\n",
        "lr = keras.optimizers.SGD(1e-4)\n",
        "model.compile(loss=\"mean_squared_error\", optimizer=lr)\n",
        "callbacks = [keras.callbacks.EarlyStopping(\n",
        "    patience=5, min_delta=1e-2)]\n",
        "# 训练模型\n",
        "history = model.fit(x_train_scaled, y_train,\n",
        "                    validation_data = (x_valid_scaled, y_valid),\n",
        "                    epochs = 5,\n",
        "                    callbacks = callbacks)\n",
        "# 衡量模型\n",
        "model.evaluate(x_test_scaled, y_test)"
      ],
      "execution_count": 33,
      "outputs": [
        {
          "output_type": "stream",
          "text": [
            "Epoch 1/5\n",
            "363/363 [==============================] - 1s 2ms/step - loss: 5.1368 - val_loss: 4.2656\n",
            "Epoch 2/5\n",
            "363/363 [==============================] - 1s 1ms/step - loss: 3.3410 - val_loss: 2.8354\n",
            "Epoch 3/5\n",
            "363/363 [==============================] - 1s 1ms/step - loss: 2.2757 - val_loss: 1.9747\n",
            "Epoch 4/5\n",
            "363/363 [==============================] - 1s 1ms/step - loss: 1.6392 - val_loss: 1.4711\n",
            "Epoch 5/5\n",
            "363/363 [==============================] - 1s 2ms/step - loss: 1.2642 - val_loss: 1.1775\n",
            "162/162 [==============================] - 0s 1ms/step - loss: 1.3662\n"
          ],
          "name": "stdout"
        },
        {
          "output_type": "execute_result",
          "data": {
            "text/plain": [
              "1.366232991218567"
            ]
          },
          "metadata": {
            "tags": []
          },
          "execution_count": 33
        }
      ]
    },
    {
      "cell_type": "code",
      "metadata": {
        "id": "q0JFqmJ6Y-_X",
        "colab_type": "code",
        "outputId": "d1b93eca-691a-42dc-ae49-40f7e35e5487",
        "colab": {
          "base_uri": "https://localhost:8080/",
          "height": 401
        }
      },
      "source": [
        "\"\"\"输入不同的wide and deep 模型\"\"\"\n",
        "tf.keras.backend.clear_session()\n",
        "# 设定两个输入的维度大小,一个5,一个6\n",
        "input_wide = keras.layers.Input(shape=[5])\n",
        "input_deep = keras.layers.Input(shape=[6])\n",
        "hidden1 = keras.layers.Dense(30, activation='relu')(input_deep)\n",
        "hidden2 = keras.layers.Dense(30, activation='relu')(hidden1)\n",
        "concat = keras.layers.concatenate([input_wide, hidden2])\n",
        "output = keras.layers.Dense(1)(concat)\n",
        "model = keras.models.Model(inputs = [input_wide, input_deep],\n",
        "                           outputs = [output])\n",
        "# 编译模型\n",
        "model.compile(loss=\"mean_squared_error\", optimizer=\"sgd\")\n",
        "callbacks = [keras.callbacks.EarlyStopping(\n",
        "    patience=5, min_delta=1e-2)]\n",
        "model.summary()"
      ],
      "execution_count": 34,
      "outputs": [
        {
          "output_type": "stream",
          "text": [
            "Model: \"model\"\n",
            "__________________________________________________________________________________________________\n",
            "Layer (type)                    Output Shape         Param #     Connected to                     \n",
            "==================================================================================================\n",
            "input_2 (InputLayer)            [(None, 6)]          0                                            \n",
            "__________________________________________________________________________________________________\n",
            "dense (Dense)                   (None, 30)           210         input_2[0][0]                    \n",
            "__________________________________________________________________________________________________\n",
            "input_1 (InputLayer)            [(None, 5)]          0                                            \n",
            "__________________________________________________________________________________________________\n",
            "dense_1 (Dense)                 (None, 30)           930         dense[0][0]                      \n",
            "__________________________________________________________________________________________________\n",
            "concatenate (Concatenate)       (None, 35)           0           input_1[0][0]                    \n",
            "                                                                 dense_1[0][0]                    \n",
            "__________________________________________________________________________________________________\n",
            "dense_2 (Dense)                 (None, 1)            36          concatenate[0][0]                \n",
            "==================================================================================================\n",
            "Total params: 1,176\n",
            "Trainable params: 1,176\n",
            "Non-trainable params: 0\n",
            "__________________________________________________________________________________________________\n"
          ],
          "name": "stdout"
        }
      ]
    },
    {
      "cell_type": "code",
      "metadata": {
        "id": "4hRALftaVf3V",
        "colab_type": "code",
        "outputId": "b1848ef1-0f27-4819-b95d-683cbbd8dd8d",
        "colab": {
          "base_uri": "https://localhost:8080/",
          "height": 225
        }
      },
      "source": [
        "# 把数据切分, 前5个feature为wide, 后6个feature为deep\n",
        "x_train_scaled_wide = x_train_scaled[:, :5]\n",
        "x_train_scaled_deep = x_train_scaled[:, 2:]\n",
        "x_valid_scaled_wide = x_valid_scaled[:, :5]\n",
        "x_valid_scaled_deep = x_valid_scaled[:, 2:]\n",
        "x_test_scaled_wide = x_test_scaled[:, :5]\n",
        "x_test_scaled_deep = x_test_scaled[:, 2:]\n",
        "history = model.fit([x_train_scaled_wide, x_train_scaled_deep],# 训练数据x分为两个部分\n",
        "                    y_train, # 训练数据y\n",
        "                    validation_data = (\n",
        "                        [x_valid_scaled_wide, x_valid_scaled_deep],# 验证数据x分为两个部分\n",
        "                        y_valid),# 验证数据y\n",
        "                    epochs = 5,\n",
        "                    callbacks = callbacks)\n",
        "# 验证\n",
        "model.evaluate([x_test_scaled_wide, x_test_scaled_deep], y_test)"
      ],
      "execution_count": 35,
      "outputs": [
        {
          "output_type": "stream",
          "text": [
            "Epoch 1/5\n",
            "363/363 [==============================] - 1s 2ms/step - loss: 0.8810 - val_loss: 0.6089\n",
            "Epoch 2/5\n",
            "363/363 [==============================] - 1s 2ms/step - loss: 0.6190 - val_loss: 0.6046\n",
            "Epoch 3/5\n",
            "363/363 [==============================] - 1s 1ms/step - loss: 0.5036 - val_loss: 0.4951\n",
            "Epoch 4/5\n",
            "363/363 [==============================] - 1s 2ms/step - loss: 0.4536 - val_loss: 0.7392\n",
            "Epoch 5/5\n",
            "363/363 [==============================] - 1s 2ms/step - loss: 0.4970 - val_loss: 0.4447\n",
            "162/162 [==============================] - 0s 995us/step - loss: 0.4339\n"
          ],
          "name": "stdout"
        },
        {
          "output_type": "execute_result",
          "data": {
            "text/plain": [
              "0.43394234776496887"
            ]
          },
          "metadata": {
            "tags": []
          },
          "execution_count": 35
        }
      ]
    },
    {
      "cell_type": "code",
      "metadata": {
        "id": "m9EJoCdreAe6",
        "colab_type": "code",
        "outputId": "4d0de476-c88e-4caf-9753-90904c4cc428",
        "colab": {
          "base_uri": "https://localhost:8080/",
          "height": 436
        }
      },
      "source": [
        "\"\"\"多输出的模型\"\"\"\n",
        "input_wide = keras.layers.Input(shape=[5])\n",
        "input_deep = keras.layers.Input(shape=[6])\n",
        "hidden1 = keras.layers.Dense(30, activation='relu')(input_deep)\n",
        "hidden2 = keras.layers.Dense(30, activation='relu')(hidden1)\n",
        "concat = keras.layers.concatenate([input_wide, hidden2])\n",
        "# 第一个输出\n",
        "output = keras.layers.Dense(1)(concat)\n",
        "# 第二个输出\n",
        "output2 = keras.layers.Dense(1)(hidden2)\n",
        "model = keras.models.Model(inputs = [input_wide, input_deep],\n",
        "                           outputs = [output, output2]) # 多输出\n",
        "model.compile(loss=\"mean_squared_error\", optimizer=\"sgd\")\n",
        "callbacks = [keras.callbacks.EarlyStopping(\n",
        "    patience=5, min_delta=1e-2)]\n",
        "model.summary()"
      ],
      "execution_count": 36,
      "outputs": [
        {
          "output_type": "stream",
          "text": [
            "Model: \"model_1\"\n",
            "__________________________________________________________________________________________________\n",
            "Layer (type)                    Output Shape         Param #     Connected to                     \n",
            "==================================================================================================\n",
            "input_4 (InputLayer)            [(None, 6)]          0                                            \n",
            "__________________________________________________________________________________________________\n",
            "dense_3 (Dense)                 (None, 30)           210         input_4[0][0]                    \n",
            "__________________________________________________________________________________________________\n",
            "input_3 (InputLayer)            [(None, 5)]          0                                            \n",
            "__________________________________________________________________________________________________\n",
            "dense_4 (Dense)                 (None, 30)           930         dense_3[0][0]                    \n",
            "__________________________________________________________________________________________________\n",
            "concatenate_1 (Concatenate)     (None, 35)           0           input_3[0][0]                    \n",
            "                                                                 dense_4[0][0]                    \n",
            "__________________________________________________________________________________________________\n",
            "dense_5 (Dense)                 (None, 1)            36          concatenate_1[0][0]              \n",
            "__________________________________________________________________________________________________\n",
            "dense_6 (Dense)                 (None, 1)            31          dense_4[0][0]                    \n",
            "==================================================================================================\n",
            "Total params: 1,207\n",
            "Trainable params: 1,207\n",
            "Non-trainable params: 0\n",
            "__________________________________________________________________________________________________\n"
          ],
          "name": "stdout"
        }
      ]
    },
    {
      "cell_type": "code",
      "metadata": {
        "id": "jrAtwd80eqdT",
        "colab_type": "code",
        "outputId": "6f41e749-d2be-4b1e-b1c8-49f2825563f8",
        "colab": {
          "base_uri": "https://localhost:8080/",
          "height": 245
        }
      },
      "source": [
        "x_train_scaled_wide = x_train_scaled[:, :5]\n",
        "x_train_scaled_deep = x_train_scaled[:, 2:]\n",
        "x_valid_scaled_wide = x_valid_scaled[:, :5]\n",
        "x_valid_scaled_deep = x_valid_scaled[:, 2:]\n",
        "x_test_scaled_wide = x_test_scaled[:, :5]\n",
        "x_test_scaled_deep = x_test_scaled[:, 2:]\n",
        "history = model.fit([x_train_scaled_wide, x_train_scaled_deep],\n",
        "                    [y_train, y_train],\n",
        "                    validation_data = (\n",
        "                        [x_valid_scaled_wide, x_valid_scaled_deep],\n",
        "                        [y_valid, y_valid]),\n",
        "                    epochs = 5,\n",
        "                    callbacks = callbacks)\n",
        "model.evaluate([x_test_scaled_wide, x_test_scaled_deep],[y_test, y_test])"
      ],
      "execution_count": 37,
      "outputs": [
        {
          "output_type": "stream",
          "text": [
            "Epoch 1/5\n",
            "363/363 [==============================] - 1s 2ms/step - loss: 1.8718 - dense_5_loss: 0.8358 - dense_6_loss: 1.0359 - val_loss: 1.2121 - val_dense_5_loss: 0.5203 - val_dense_6_loss: 0.6918\n",
            "Epoch 2/5\n",
            "363/363 [==============================] - 1s 2ms/step - loss: 1.0584 - dense_5_loss: 0.4562 - dense_6_loss: 0.6022 - val_loss: 1.1434 - val_dense_5_loss: 0.5611 - val_dense_6_loss: 0.5823\n",
            "Epoch 3/5\n",
            "363/363 [==============================] - 1s 2ms/step - loss: 0.9675 - dense_5_loss: 0.4180 - dense_6_loss: 0.5495 - val_loss: 0.9962 - val_dense_5_loss: 0.4439 - val_dense_6_loss: 0.5523\n",
            "Epoch 4/5\n",
            "363/363 [==============================] - 1s 2ms/step - loss: 0.9235 - dense_5_loss: 0.4037 - dense_6_loss: 0.5198 - val_loss: 0.9521 - val_dense_5_loss: 0.4145 - val_dense_6_loss: 0.5377\n",
            "Epoch 5/5\n",
            "363/363 [==============================] - 1s 2ms/step - loss: 0.8747 - dense_5_loss: 0.3830 - dense_6_loss: 0.4916 - val_loss: 0.8853 - val_dense_5_loss: 0.3931 - val_dense_6_loss: 0.4922\n",
            "162/162 [==============================] - 0s 1ms/step - loss: 0.8683 - dense_5_loss: 0.3879 - dense_6_loss: 0.4804\n"
          ],
          "name": "stdout"
        },
        {
          "output_type": "execute_result",
          "data": {
            "text/plain": [
              "[0.8683187365531921, 0.3878990709781647, 0.4804193377494812]"
            ]
          },
          "metadata": {
            "tags": []
          },
          "execution_count": 37
        }
      ]
    },
    {
      "cell_type": "markdown",
      "metadata": {
        "id": "DWVDMuL3UEa2",
        "colab_type": "text"
      },
      "source": [
        "### model子类API"
      ]
    },
    {
      "cell_type": "code",
      "metadata": {
        "id": "fCuPJCfGWc3y",
        "colab_type": "code",
        "outputId": "18f55180-050f-4d3a-bd41-8570fd545e0f",
        "colab": {
          "base_uri": "https://localhost:8080/",
          "height": 295
        }
      },
      "source": [
        "\"\"\"Model子类API\"\"\"\n",
        "tf.keras.backend.clear_session()\n",
        "class WideDeepModel(keras.models.Model):\n",
        "    def __init__(self):\n",
        "        # 重载父类方法\n",
        "        super(WideDeepModel, self).__init__()\n",
        "        # 定义模型的层次\n",
        "        self.hidden1_layer = keras.layers.Dense(30, activation='relu')\n",
        "        self.hidden1_5_layer = keras.layers.BatchNormalization()\n",
        "        self.hidden2_layer = keras.layers.Dense(30, activation='relu')\n",
        "        self.output_layer = keras.layers.Dense(1)\n",
        "    \n",
        "    def call(self, input):\n",
        "        # 完成模型的正向计算\n",
        "        hidden1 = self.hidden1_layer(input)\n",
        "        hidden1_5 = self.hidden1_5_layer(hidden1)\n",
        "        hidden2 = self.hidden2_layer(hidden1_5)\n",
        "        concat = keras.layers.concatenate([input, hidden2])\n",
        "        output = self.output_layer(concat)\n",
        "        return output\n",
        "# 两种调用模型的方法 model = WideDeepModel()\n",
        "# model = keras.models.Sequential([WideDeepModel(),])\n",
        "model = WideDeepModel()\n",
        "# 构建模型\n",
        "model.build(input_shape=(None, 8))\n",
        "# 原版不收敛,更改学习率\n",
        "lr = keras.optimizers.SGD(1e-3)\n",
        "model.summary()\n",
        "model.compile(loss=\"mean_squared_error\", optimizer=lr)\n",
        "callbacks = [keras.callbacks.EarlyStopping(\n",
        "    patience=5, min_delta=1e-2)]"
      ],
      "execution_count": 40,
      "outputs": [
        {
          "output_type": "stream",
          "text": [
            "Model: \"wide_deep_model\"\n",
            "_________________________________________________________________\n",
            "Layer (type)                 Output Shape              Param #   \n",
            "=================================================================\n",
            "dense (Dense)                multiple                  270       \n",
            "_________________________________________________________________\n",
            "batch_normalization (BatchNo multiple                  120       \n",
            "_________________________________________________________________\n",
            "dense_1 (Dense)              multiple                  930       \n",
            "_________________________________________________________________\n",
            "dense_2 (Dense)              multiple                  39        \n",
            "=================================================================\n",
            "Total params: 1,359\n",
            "Trainable params: 1,299\n",
            "Non-trainable params: 60\n",
            "_________________________________________________________________\n"
          ],
          "name": "stdout"
        }
      ]
    },
    {
      "cell_type": "code",
      "metadata": {
        "id": "53DM4R-9X27l",
        "colab_type": "code",
        "outputId": "7ceb9742-9856-4c6b-f2d0-a2325fbce9ad",
        "colab": {
          "base_uri": "https://localhost:8080/",
          "height": 225
        }
      },
      "source": [
        "# 模型wide和deep的输入是一样的\n",
        "history = model.fit(x_train_scaled, y_train,\n",
        "                    validation_data = (x_valid_scaled, y_valid),\n",
        "                    epochs = 5,\n",
        "                    callbacks = callbacks)\n",
        "# 验证\n",
        "model.evaluate(x_test_scaled, y_test)"
      ],
      "execution_count": 41,
      "outputs": [
        {
          "output_type": "stream",
          "text": [
            "Epoch 1/5\n",
            "363/363 [==============================] - 1s 2ms/step - loss: 1.3705 - val_loss: 0.8307\n",
            "Epoch 2/5\n",
            "363/363 [==============================] - 1s 2ms/step - loss: 0.6139 - val_loss: 0.6447\n",
            "Epoch 3/5\n",
            "363/363 [==============================] - 1s 2ms/step - loss: 0.5498 - val_loss: 0.6132\n",
            "Epoch 4/5\n",
            "363/363 [==============================] - 1s 2ms/step - loss: 0.5313 - val_loss: 0.6171\n",
            "Epoch 5/5\n",
            "363/363 [==============================] - 1s 2ms/step - loss: 0.5127 - val_loss: 0.6481\n",
            "162/162 [==============================] - 0s 941us/step - loss: 0.6814\n"
          ],
          "name": "stdout"
        },
        {
          "output_type": "execute_result",
          "data": {
            "text/plain": [
              "0.6814069151878357"
            ]
          },
          "metadata": {
            "tags": []
          },
          "execution_count": 41
        }
      ]
    },
    {
      "cell_type": "markdown",
      "metadata": {
        "id": "CU22RDEBM_RU",
        "colab_type": "text"
      },
      "source": [
        "### 激活函数"
      ]
    },
    {
      "cell_type": "code",
      "metadata": {
        "id": "riKLDXhgM9vT",
        "colab_type": "code",
        "colab": {}
      },
      "source": [
        "# selu 自带归一化处理 \n",
        "tf.keras.backend.clear_session()\n",
        "model = keras.models.Sequential()\n",
        "model.add(keras.layers.Flatten(input_shape=[28, 28]))\n",
        "for _ in range(20):\n",
        "    model.add(keras.layers.Dense(100, activation=\"selu\")) # 修改为selu激活函数\n",
        "model.add(keras.layers.Dense(10, activation=\"softmax\"))"
      ],
      "execution_count": 0,
      "outputs": []
    },
    {
      "cell_type": "code",
      "metadata": {
        "id": "JwudLupFNb8q",
        "colab_type": "code",
        "outputId": "dd81a062-9b9c-4399-fda1-96189c999943",
        "colab": {
          "base_uri": "https://localhost:8080/",
          "height": 211
        }
      },
      "source": [
        "# 编译模型\n",
        "model.compile(loss=\"sparse_categorical_crossentropy\",\n",
        "              optimizer = \"sgd\",\n",
        "              metrics = [\"accuracy\"])\n",
        "# 保存模型为fashion_mnist_model.h5\n",
        "logdir = './dnn-selu-callbacks'\n",
        "if not os.path.exists(logdir):\n",
        "    os.mkdir(logdir)\n",
        "output_model_file = os.path.join(logdir,\"fashion_mnist_model.h5\")\n",
        "# 使用fashion_minist训练\n",
        "history = model.fit(x_train_scaled, y_train, epochs=5,\n",
        "                    validation_data=(x_valid_scaled, y_valid),\n",
        "                    callbacks = keras.callbacks.EarlyStopping(patience=5, min_delta=1e-3))\n",
        "# 衡量模型\n",
        "model.evaluate(x_test_scaled, y_test)"
      ],
      "execution_count": 56,
      "outputs": [
        {
          "output_type": "stream",
          "text": [
            "Epoch 1/5\n",
            "1719/1719 [==============================] - 7s 4ms/step - loss: 0.5447 - accuracy: 0.8027 - val_loss: 0.4261 - val_accuracy: 0.8510\n",
            "Epoch 2/5\n",
            "1719/1719 [==============================] - 7s 4ms/step - loss: 0.4063 - accuracy: 0.8528 - val_loss: 0.3836 - val_accuracy: 0.8628\n",
            "Epoch 3/5\n",
            "1719/1719 [==============================] - 7s 4ms/step - loss: 0.3615 - accuracy: 0.8663 - val_loss: 0.3799 - val_accuracy: 0.8634\n",
            "Epoch 4/5\n",
            "1719/1719 [==============================] - 7s 4ms/step - loss: 0.3363 - accuracy: 0.8758 - val_loss: 0.3596 - val_accuracy: 0.8692\n",
            "Epoch 5/5\n",
            "1719/1719 [==============================] - 7s 4ms/step - loss: 0.3142 - accuracy: 0.8833 - val_loss: 0.3433 - val_accuracy: 0.8752\n"
          ],
          "name": "stdout"
        }
      ]
    },
    {
      "cell_type": "markdown",
      "metadata": {
        "id": "ZyTUXHs1Fnz0",
        "colab_type": "text"
      },
      "source": [
        "### BatchNormalization"
      ]
    },
    {
      "cell_type": "code",
      "metadata": {
        "id": "XQeoEtx6CusH",
        "colab_type": "code",
        "colab": {}
      },
      "source": [
        "tf.keras.backend.clear_session()\n",
        "model = keras.models.Sequential()\n",
        "model.add(keras.layers.Flatten(input_shape=[28, 28]))\n",
        "for _ in range(20):\n",
        "    model.add(keras.layers.Dense(100, activation=\"relu\"))\n",
        "    model.add(keras.layers.BatchNormalization())\n",
        "    \"\"\"\n",
        "    # BatchNormalization有争论\n",
        "    # 第二种写法\n",
        "    model.add(keras.layers.Dense(100))\n",
        "    model.add(keras.layers.BatchNormalization())\n",
        "    model.add(keras.layers.Activation('relu'))\n",
        "    \"\"\"\n",
        "model.add(keras.layers.Dense(10, activation=\"softmax\"))\n",
        "\n",
        "model.compile(loss=\"sparse_categorical_crossentropy\",\n",
        "              optimizer = \"sgd\",\n",
        "              metrics = [\"accuracy\"])"
      ],
      "execution_count": 0,
      "outputs": []
    },
    {
      "cell_type": "code",
      "metadata": {
        "id": "8vOLKKToGOrD",
        "colab_type": "code",
        "outputId": "2b3471f9-a46f-4d1c-ba7a-cee159263e8b",
        "colab": {
          "base_uri": "https://localhost:8080/",
          "height": 245
        }
      },
      "source": [
        "history = model.fit(x_train_scaled, y_train, epochs=5,\n",
        "                    validation_data=(x_valid_scaled, y_valid))\n",
        "model.evaluate(x_test_scaled, y_test)"
      ],
      "execution_count": 75,
      "outputs": [
        {
          "output_type": "stream",
          "text": [
            "Epoch 1/5\n",
            "1719/1719 [==============================] - 10s 6ms/step - loss: 1.0721 - accuracy: 0.6194 - val_loss: 0.6646 - val_accuracy: 0.7570\n",
            "Epoch 2/5\n",
            "1719/1719 [==============================] - 10s 6ms/step - loss: 0.7747 - accuracy: 0.7230 - val_loss: 0.5616 - val_accuracy: 0.7974\n",
            "Epoch 3/5\n",
            "1719/1719 [==============================] - 10s 6ms/step - loss: 0.6838 - accuracy: 0.7579 - val_loss: 0.5302 - val_accuracy: 0.8102\n",
            "Epoch 4/5\n",
            "1719/1719 [==============================] - 10s 6ms/step - loss: 0.6259 - accuracy: 0.7788 - val_loss: 0.5052 - val_accuracy: 0.8252\n",
            "Epoch 5/5\n",
            "1719/1719 [==============================] - 10s 6ms/step - loss: 0.5797 - accuracy: 0.7972 - val_loss: 0.5043 - val_accuracy: 0.8130\n",
            "313/313 [==============================] - 1s 2ms/step - loss: 0.5320 - accuracy: 0.8096\n"
          ],
          "name": "stdout"
        },
        {
          "output_type": "execute_result",
          "data": {
            "text/plain": [
              "[0.5320420265197754, 0.8095999956130981]"
            ]
          },
          "metadata": {
            "tags": []
          },
          "execution_count": 75
        }
      ]
    },
    {
      "cell_type": "markdown",
      "metadata": {
        "id": "RUSI3HowNy8u",
        "colab_type": "text"
      },
      "source": [
        "### Dropout"
      ]
    },
    {
      "cell_type": "code",
      "metadata": {
        "id": "lc6K5ktWN0q5",
        "colab_type": "code",
        "colab": {}
      },
      "source": [
        "# 添加dropout\n",
        "tf.keras.backend.clear_session()\n",
        "model = keras.models.Sequential()\n",
        "model.add(keras.layers.Flatten(input_shape=[28, 28]))\n",
        "for _ in range(20):\n",
        "    model.add(keras.layers.Dense(100, activation=\"selu\"))\n",
        "model.add(keras.layers.AlphaDropout(rate=0.5))\n",
        "# AlphaDropout: 1. 均值和方差不变 2. 归一化性质也不变\n",
        "# model.add(keras.layers.Dropout(rate=0.5))\n",
        "model.add(keras.layers.Dense(10, activation=\"softmax\"))\n",
        "model.compile(loss=\"sparse_categorical_crossentropy\",\n",
        "              optimizer = \"sgd\",\n",
        "              metrics = [\"accuracy\"])"
      ],
      "execution_count": 0,
      "outputs": []
    },
    {
      "cell_type": "code",
      "metadata": {
        "id": "h5s48UwaOtOl",
        "colab_type": "code",
        "outputId": "94bbd1cb-b8df-47cf-a99a-c95c8d874a57",
        "colab": {
          "base_uri": "https://localhost:8080/",
          "height": 552
        }
      },
      "source": [
        "history = model.fit(x_train_scaled, y_train, epochs=5,\n",
        "                    validation_data=(x_valid_scaled, y_valid))\n",
        "plot_learning_curves(history)\n",
        "model.evaluate(x_test_scaled, y_test)"
      ],
      "execution_count": 78,
      "outputs": [
        {
          "output_type": "stream",
          "text": [
            "Epoch 1/5\n",
            "1719/1719 [==============================] - 6s 4ms/step - loss: 0.6947 - accuracy: 0.7642 - val_loss: 0.8199 - val_accuracy: 0.8210\n",
            "Epoch 2/5\n",
            "1719/1719 [==============================] - 6s 3ms/step - loss: 0.4603 - accuracy: 0.8426 - val_loss: 0.5467 - val_accuracy: 0.8678\n",
            "Epoch 3/5\n",
            "1719/1719 [==============================] - 6s 4ms/step - loss: 0.4031 - accuracy: 0.8611 - val_loss: 0.6977 - val_accuracy: 0.8506\n",
            "Epoch 4/5\n",
            "1719/1719 [==============================] - 6s 3ms/step - loss: 0.3727 - accuracy: 0.8684 - val_loss: 0.5483 - val_accuracy: 0.8756\n",
            "Epoch 5/5\n",
            "1719/1719 [==============================] - 6s 4ms/step - loss: 0.3503 - accuracy: 0.8782 - val_loss: 0.4975 - val_accuracy: 0.8762\n"
          ],
          "name": "stdout"
        },
        {
          "output_type": "display_data",
          "data": {
            "image/png": "[encoded data removed]",
            "text/plain": [
              "<Figure size 576x360 with 1 Axes>"
            ]
          },
          "metadata": {
            "tags": [],
            "needs_background": "light"
          }
        },
        {
          "output_type": "stream",
          "text": [
            "313/313 [==============================] - 1s 2ms/step - loss: 0.5807 - accuracy: 0.8658\n"
          ],
          "name": "stdout"
        },
        {
          "output_type": "execute_result",
          "data": {
            "text/plain": [
              "[0.580734133720398, 0.8658000230789185]"
            ]
          },
          "metadata": {
            "tags": []
          },
          "execution_count": 78
        }
      ]
    },
    {
      "cell_type": "markdown",
      "metadata": {
        "id": "8nTJaq2A-Kr2",
        "colab_type": "text"
      },
      "source": [
        "## 2.编译模型"
      ]
    },
    {
      "cell_type": "code",
      "metadata": {
        "id": "H_joA4RM-qKU",
        "colab_type": "code",
        "colab": {
          "base_uri": "https://localhost:8080/",
          "height": 55
        },
        "outputId": "ad9ffa07-20ab-4fca-eeac-230e81a2a344"
      },
      "source": [
        "\"\"\"model.compile(optimizer='rmsprop', \n",
        "              loss=None, \n",
        "              metrics=None, \n",
        "              loss_weights=None,\n",
        "              sample_weight_mode=None, \n",
        "              weighted_metrics=None, \n",
        "              target_tensors=None,\n",
        "              distribute=None, \n",
        "              **kwargs)\n",
        "\"\"\""
      ],
      "execution_count": 57,
      "outputs": [
        {
          "output_type": "execute_result",
          "data": {
            "text/plain": [
              "\"model.compile(optimizer='rmsprop', \\n              loss=None, \\n              metrics=None, \\n              loss_weights=None,\\n              sample_weight_mode=None, \\n              weighted_metrics=None, \\n              target_tensors=None,\\n              distribute=None, \\n              **kwargs)\\n\""
            ]
          },
          "metadata": {
            "tags": []
          },
          "execution_count": 57
        }
      ]
    },
    {
      "cell_type": "markdown",
      "metadata": {
        "id": "mkjnuphlCGWg",
        "colab_type": "text"
      },
      "source": [
        "### optimizer"
      ]
    },
    {
      "cell_type": "markdown",
      "metadata": {
        "id": "7xLAaq8oCMQp",
        "colab_type": "text"
      },
      "source": [
        "### loss"
      ]
    },
    {
      "cell_type": "markdown",
      "metadata": {
        "id": "pp4_rF-bCSw1",
        "colab_type": "text"
      },
      "source": [
        "### metrics"
      ]
    },
    {
      "cell_type": "markdown",
      "metadata": {
        "id": "C4yRm-2j-Qoo",
        "colab_type": "text"
      },
      "source": [
        "## 3.训练模型"
      ]
    },
    {
      "cell_type": "code",
      "metadata": {
        "id": "AfNkbmKRCXNp",
        "colab_type": "code",
        "colab": {
          "base_uri": "https://localhost:8080/",
          "height": 55
        },
        "outputId": "6d75813a-7219-423d-f639-2d608e89f110"
      },
      "source": [
        "\"\"\"fit(x=None, y=None, \n",
        "    batch_size=None, \n",
        "    epochs=1, \n",
        "    verbose=1, \n",
        "    callbacks=None,\n",
        "    validation_split=0.0, \n",
        "    validation_data=None, \n",
        "    shuffle=True, class_weight=None, sample_weight=None, initial_epoch=0, steps_per_epoch=None,validation_steps=None, validation_freq=1, max_queue_size=10, workers=1,use_multiprocessing=False, **kwargs)\n",
        "\"\"\""
      ],
      "execution_count": 58,
      "outputs": [
        {
          "output_type": "execute_result",
          "data": {
            "text/plain": [
              "'fit(x=None, y=None, \\n    batch_size=None, \\n    epochs=1, \\n    verbose=1, \\n    callbacks=None,\\n    validation_split=0.0, \\n    validation_data=None, \\n    shuffle=True, class_weight=None, sample_weight=None, initial_epoch=0, steps_per_epoch=None,validation_steps=None, validation_freq=1, max_queue_size=10, workers=1,use_multiprocessing=False, **kwargs)\\n'"
            ]
          },
          "metadata": {
            "tags": []
          },
          "execution_count": 58
        }
      ]
    },
    {
      "cell_type": "markdown",
      "metadata": {
        "id": "UltoUYxgCzms",
        "colab_type": "text"
      },
      "source": [
        "### batch_size"
      ]
    },
    {
      "cell_type": "markdown",
      "metadata": {
        "id": "d_YPvya0C2k_",
        "colab_type": "text"
      },
      "source": [
        "### epochs"
      ]
    },
    {
      "cell_type": "markdown",
      "metadata": {
        "id": "IIa8861sC5-V",
        "colab_type": "text"
      },
      "source": [
        "### callbacks"
      ]
    },
    {
      "cell_type": "code",
      "metadata": {
        "id": "4679SsHt4ceu",
        "colab_type": "code",
        "colab": {}
      },
      "source": [
        "tf.keras.backend.clear_session()\n",
        "model = keras.models.Sequential([\n",
        "    keras.layers.Flatten(input_shape=[28, 28]),\n",
        "    keras.layers.Dense(300, activation='relu'),\n",
        "    keras.layers.Dense(100, activation='relu'),\n",
        "    keras.layers.Dense(10, activation='softmax')\n",
        "])\n",
        "model.compile(loss=\"sparse_categorical_crossentropy\",\n",
        "              optimizer = \"sgd\",\n",
        "              metrics = [\"accuracy\"])"
      ],
      "execution_count": 0,
      "outputs": []
    },
    {
      "cell_type": "code",
      "metadata": {
        "id": "c7G4aUEx7p_5",
        "colab_type": "code",
        "outputId": "5475d7e8-84ac-459f-f01f-df32e185c9dd",
        "colab": {
          "base_uri": "https://localhost:8080/",
          "height": 384
        }
      },
      "source": [
        "# Tensorboard, earlystopping, ModelCheckpoint\n",
        "logdir = './callbacks'\n",
        "if not os.path.exists(logdir):\n",
        "    os.mkdir(logdir)\n",
        "output_model_file = os.path.join(logdir,\"fashion_mnist_model.h5\")\n",
        "callbacks = [\n",
        "    # 在terminal中启动tensorBoard \"tensorboard --logdir=callbacks\"\n",
        "    # 在jupyter中可以下载下来本地启动,也可以使用魔法方法\n",
        "    # \"%load_ext tensorboard\"\n",
        "    # \"%tensorboard --logdir callbacks\"\n",
        "    # 文存储在./callbacks/train 和 ./callbacks/validation\n",
        "    keras.callbacks.TensorBoard(logdir),\n",
        "    # 文存储在./callbacks/train 和 ./callbacks/validation\n",
        "    # save_best_only=默认为False\n",
        "    keras.callbacks.ModelCheckpoint(output_model_file,\n",
        "                                    save_best_only = True),\n",
        "    # patience=没有改善训练次数重复几次，之后训练将停止\n",
        "    # min_delta=变化的最小值\n",
        "    keras.callbacks.EarlyStopping(patience=3, min_delta=1e-2),\n",
        "]\n",
        "\n",
        "history = model.fit(x_train_scaled, y_train, epochs=100,\n",
        "                    validation_data=(x_valid_scaled, y_valid),\n",
        "                    callbacks = callbacks)"
      ],
      "execution_count": 73,
      "outputs": [
        {
          "output_type": "stream",
          "text": [
            "Epoch 1/100\n",
            "1719/1719 [==============================] - 5s 3ms/step - loss: 0.5342 - accuracy: 0.8107 - val_loss: 0.4348 - val_accuracy: 0.8392\n",
            "Epoch 2/100\n",
            "1719/1719 [==============================] - 5s 3ms/step - loss: 0.3922 - accuracy: 0.8572 - val_loss: 0.3680 - val_accuracy: 0.8658\n",
            "Epoch 3/100\n",
            "1719/1719 [==============================] - 5s 3ms/step - loss: 0.3539 - accuracy: 0.8711 - val_loss: 0.3591 - val_accuracy: 0.8742\n",
            "Epoch 4/100\n",
            "1719/1719 [==============================] - 5s 3ms/step - loss: 0.3283 - accuracy: 0.8807 - val_loss: 0.3420 - val_accuracy: 0.8730\n",
            "Epoch 5/100\n",
            "1719/1719 [==============================] - 5s 3ms/step - loss: 0.3077 - accuracy: 0.8890 - val_loss: 0.3224 - val_accuracy: 0.8842\n",
            "Epoch 6/100\n",
            "1719/1719 [==============================] - 5s 3ms/step - loss: 0.2914 - accuracy: 0.8943 - val_loss: 0.3141 - val_accuracy: 0.8874\n",
            "Epoch 7/100\n",
            "1719/1719 [==============================] - 5s 3ms/step - loss: 0.2782 - accuracy: 0.8996 - val_loss: 0.3032 - val_accuracy: 0.8902\n",
            "Epoch 8/100\n",
            "1719/1719 [==============================] - 5s 3ms/step - loss: 0.2658 - accuracy: 0.9029 - val_loss: 0.3101 - val_accuracy: 0.8882\n",
            "Epoch 9/100\n",
            "1719/1719 [==============================] - 5s 3ms/step - loss: 0.2552 - accuracy: 0.9074 - val_loss: 0.2986 - val_accuracy: 0.8902\n",
            "Epoch 10/100\n",
            "1719/1719 [==============================] - 5s 3ms/step - loss: 0.2448 - accuracy: 0.9112 - val_loss: 0.2937 - val_accuracy: 0.8914\n"
          ],
          "name": "stdout"
        }
      ]
    },
    {
      "cell_type": "markdown",
      "metadata": {
        "id": "BEHXXWsQ7cnX",
        "colab_type": "text"
      },
      "source": [
        "## 4.衡量模型"
      ]
    },
    {
      "cell_type": "code",
      "metadata": {
        "id": "oSasNO2LGZNo",
        "colab_type": "code",
        "colab": {
          "base_uri": "https://localhost:8080/",
          "height": 55
        },
        "outputId": "0d3dab79-e2fd-4e2e-c6df-c09bfc6d400b"
      },
      "source": [
        "\"\"\"evaluate(x=None, y=None, \n",
        "         batch_size=None, \n",
        "         verbose=1, \n",
        "         sample_weight=None, \n",
        "         steps=None,\n",
        "         callbacks=None, \n",
        "         max_queue_size=10, \n",
        "         workers=1, \n",
        "         use_multiprocessing=False)\n",
        "\"\"\""
      ],
      "execution_count": 79,
      "outputs": [
        {
          "output_type": "execute_result",
          "data": {
            "text/plain": [
              "'evaluate(x=None, y=None, \\n         batch_size=None, \\n         verbose=1, \\n         sample_weight=None, \\n         steps=None,\\n         callbacks=None, \\n         max_queue_size=10, \\n         workers=1, \\n         use_multiprocessing=False)\\n'"
            ]
          },
          "metadata": {
            "tags": []
          },
          "execution_count": 79
        }
      ]
    },
    {
      "cell_type": "code",
      "metadata": {
        "id": "TTOcNd5rwix-",
        "colab_type": "code",
        "outputId": "efd47393-099e-4458-83af-0bea292dcea8",
        "colab": {
          "base_uri": "https://localhost:8080/",
          "height": 52
        }
      },
      "source": [
        "# 在测试数据上衡量模型\n",
        "model.evaluate(x_test_scaled, y_test)"
      ],
      "execution_count": 80,
      "outputs": [
        {
          "output_type": "stream",
          "text": [
            "313/313 [==============================] - 1s 2ms/step - loss: 0.5807 - accuracy: 0.8658\n"
          ],
          "name": "stdout"
        },
        {
          "output_type": "execute_result",
          "data": {
            "text/plain": [
              "[0.580734133720398, 0.8658000230789185]"
            ]
          },
          "metadata": {
            "tags": []
          },
          "execution_count": 80
        }
      ]
    },
    {
      "cell_type": "markdown",
      "metadata": {
        "id": "U0G8wQ5lv4r2",
        "colab_type": "text"
      },
      "source": [
        "## 学习曲线"
      ]
    },
    {
      "cell_type": "code",
      "metadata": {
        "id": "tEW9UeVewGpG",
        "colab_type": "code",
        "outputId": "031cd8d5-02b2-450a-ea8a-470d01dee9a1",
        "colab": {
          "base_uri": "https://localhost:8080/",
          "height": 324
        }
      },
      "source": [
        "# 可视化学习曲线\n",
        "def plot_learning_curves(history):\n",
        "    pd.DataFrame(history.history).plot(figsize=(8, 5))\n",
        "    plt.grid(True)\n",
        "    plt.gca().set_ylim(0, 1)\n",
        "    plt.show()\n",
        "# 如果一个学习曲线刚开始平滑,后期开始变化有两个原因\n",
        "# 1. 参数众多，训练不充分\n",
        "# 2. 梯度消失 -> 链式法则 -> 复合函数f(g(x))\n",
        "plot_learning_curves(history)"
      ],
      "execution_count": 76,
      "outputs": [
        {
          "output_type": "display_data",
          "data": {
            "image/png": "[encoded data removed]",
            "text/plain": [
              "<Figure size 576x360 with 1 Axes>"
            ]
          },
          "metadata": {
            "tags": [],
            "needs_background": "light"
          }
        }
      ]
    },
    {
      "cell_type": "markdown",
      "metadata": {
        "id": "i5DtZT99fBcj",
        "colab_type": "text"
      },
      "source": [
        "## 超参数搜索"
      ]
    },
    {
      "cell_type": "code",
      "metadata": {
        "id": "PyseQBVIfBEn",
        "colab_type": "code",
        "colab": {}
      },
      "source": [
        "\"\"\"使用Sklearn进行超参数搜索\"\"\"\n",
        "from tensorflow.keras.wrappers.scikit_learn import KerasRegressor\n",
        "from sklearn.datasets import fetch_california_housing\n",
        "# 加载数据\n",
        "tf.keras.backend.clear_session()\n",
        "housing = fetch_california_housing()\n",
        "x_train_all, x_test, y_train_all, y_test = train_test_split(\n",
        "    housing.data, housing.target, random_state = 7)\n",
        "x_train, x_valid, y_train, y_valid = train_test_split(\n",
        "    x_train_all, y_train_all, random_state = 11)\n",
        "scaler = StandardScaler()\n",
        "x_train_scaled = scaler.fit_transform(x_train)\n",
        "x_valid_scaled = scaler.transform(x_valid)\n",
        "x_test_scaled = scaler.transform(x_test)\n",
        "# RandomizedSearchCV 步骤:\n",
        "# 1. 转化为sklearn的model\n",
        "# 2. 定义参数集合\n",
        "# 3. 搜索参数\n",
        "tf.keras.backend.clear_session()\n",
        "def build_model(hidden_layers = 1,layer_size = 30,learning_rate = 3e-3):\n",
        "    model = keras.models.Sequential()\n",
        "    # 增加几个由layer_size = 30的Dense layer\n",
        "    model.add(keras.layers.Dense(layer_size, activation='relu',\n",
        "                                 input_shape=x_train.shape[1:]))\n",
        "    # 利用for循环增加hidden_layers\n",
        "    for _ in range(hidden_layers - 1):\n",
        "        model.add(keras.layers.Dense(layer_size,activation = 'relu'))\n",
        "    # 输出层级\n",
        "    model.add(keras.layers.Dense(1))\n",
        "    # 定义learning_rate\n",
        "    optimizer = keras.optimizers.SGD(learning_rate)\n",
        "    # 使用learning_rate optimizer\n",
        "    model.compile(loss = 'mse', optimizer = optimizer)\n",
        "    return model\n",
        "# tf.keras.wrappers.scikit_learn.KerasRegressor\n",
        "# 将tf模型转成sk模型, 将tf模型传进build_fn\n",
        "sklearn_model = KerasRegressor(build_fn = build_model)\n",
        "# 设置callbacks\n",
        "callbacks = [keras.callbacks.EarlyStopping(patience=2, min_delta=0.1)]"
      ],
      "execution_count": 0,
      "outputs": []
    },
    {
      "cell_type": "code",
      "metadata": {
        "id": "OmeqQ8oudHZN",
        "colab_type": "code",
        "outputId": "8666946b-a9ac-46dd-ea90-54682106fcde",
        "colab": {
          "base_uri": "https://localhost:8080/",
          "height": 1000
        }
      },
      "source": [
        "from sklearn.model_selection import GridSearchCV\n",
        "from sklearn.model_selection import RandomizedSearchCV\n",
        "from scipy.stats import reciprocal\n",
        "# 构建搜索参数\n",
        "param_distribution = {\n",
        "    \"hidden_layers\":[1, 2],\n",
        "    \"layer_size\": [50],\n",
        "    # f(x) = 1/(x*log(b/a)) a <= x <= b\n",
        "    \"learning_rate\": [1e-3],\n",
        "}\n",
        "# 使用sklearn中的RandomizedSearchCV或者GridSearchCV\n",
        "random_search_cv = GridSearchCV(sklearn_model,\n",
        "                                param_distribution,\n",
        "                                cv = 3)\n",
        "random_search_cv.fit(x_train_scaled, y_train, epochs = 5,\n",
        "                     batch_size=32, # 默认32\n",
        "                     validation_data = (x_valid_scaled, y_valid),\n",
        "                     callbacks = callbacks)\n",
        "\n",
        "# cross_validation: 训练集分成n份，n-1训练，最后一份验证"
      ],
      "execution_count": 82,
      "outputs": [
        {
          "output_type": "stream",
          "text": [
            "Epoch 1/5\n",
            "242/242 [==============================] - 0s 2ms/step - loss: 2.5328 - val_loss: 1.1933\n",
            "Epoch 2/5\n",
            "242/242 [==============================] - 0s 1ms/step - loss: 0.8638 - val_loss: 0.8008\n",
            "Epoch 3/5\n",
            "242/242 [==============================] - 0s 1ms/step - loss: 0.7044 - val_loss: 0.7226\n",
            "Epoch 4/5\n",
            "242/242 [==============================] - 0s 1ms/step - loss: 0.6593 - val_loss: 0.6842\n",
            "Epoch 5/5\n",
            "242/242 [==============================] - 0s 1ms/step - loss: 0.6310 - val_loss: 0.6576\n",
            "121/121 [==============================] - 0s 828us/step - loss: 0.5760\n",
            "Epoch 1/5\n",
            "242/242 [==============================] - 0s 2ms/step - loss: 2.3197 - val_loss: 1.0129\n",
            "Epoch 2/5\n",
            "242/242 [==============================] - 0s 1ms/step - loss: 0.8748 - val_loss: 0.7985\n",
            "Epoch 3/5\n",
            "242/242 [==============================] - 0s 1ms/step - loss: 0.7024 - val_loss: 0.7495\n",
            "Epoch 4/5\n",
            "242/242 [==============================] - 0s 1ms/step - loss: 0.6592 - val_loss: 0.7211\n",
            "121/121 [==============================] - 0s 807us/step - loss: 0.6654\n",
            "Epoch 1/5\n",
            "242/242 [==============================] - 0s 2ms/step - loss: 2.5453 - val_loss: 1.1859\n",
            "Epoch 2/5\n",
            "242/242 [==============================] - 0s 1ms/step - loss: 0.8268 - val_loss: 0.7955\n",
            "Epoch 3/5\n",
            "242/242 [==============================] - 0s 1ms/step - loss: 0.6835 - val_loss: 0.7406\n",
            "Epoch 4/5\n",
            "242/242 [==============================] - 0s 1ms/step - loss: 0.6502 - val_loss: 0.7128\n",
            "121/121 [==============================] - 0s 822us/step - loss: 0.6968\n",
            "Epoch 1/5\n",
            "242/242 [==============================] - 0s 2ms/step - loss: 2.1607 - val_loss: 1.1006\n",
            "Epoch 2/5\n",
            "242/242 [==============================] - 0s 1ms/step - loss: 0.8819 - val_loss: 0.7814\n",
            "Epoch 3/5\n",
            "242/242 [==============================] - 0s 1ms/step - loss: 0.7032 - val_loss: 0.7041\n",
            "Epoch 4/5\n",
            "242/242 [==============================] - 0s 1ms/step - loss: 0.6551 - val_loss: 0.6696\n",
            "Epoch 5/5\n",
            "242/242 [==============================] - 0s 1ms/step - loss: 0.6249 - val_loss: 0.6418\n",
            "121/121 [==============================] - 0s 927us/step - loss: 0.5651\n",
            "Epoch 1/5\n",
            "242/242 [==============================] - 0s 2ms/step - loss: 2.3060 - val_loss: 1.0955\n",
            "Epoch 2/5\n",
            "242/242 [==============================] - 0s 2ms/step - loss: 0.7679 - val_loss: 0.7542\n",
            "Epoch 3/5\n",
            "242/242 [==============================] - 0s 2ms/step - loss: 0.6715 - val_loss: 0.7103\n",
            "Epoch 4/5\n",
            "242/242 [==============================] - 0s 2ms/step - loss: 0.6323 - val_loss: 0.6769\n",
            "121/121 [==============================] - 0s 929us/step - loss: 0.6295\n",
            "Epoch 1/5\n",
            "242/242 [==============================] - 0s 2ms/step - loss: 2.5445 - val_loss: 1.2477\n",
            "Epoch 2/5\n",
            "242/242 [==============================] - 0s 2ms/step - loss: 0.8830 - val_loss: 0.7880\n",
            "Epoch 3/5\n",
            "242/242 [==============================] - 0s 2ms/step - loss: 0.6660 - val_loss: 0.6875\n",
            "Epoch 4/5\n",
            "242/242 [==============================] - 0s 2ms/step - loss: 0.6066 - val_loss: 0.6513\n",
            "Epoch 5/5\n",
            "242/242 [==============================] - 0s 1ms/step - loss: 0.5776 - val_loss: 0.6250\n",
            "121/121 [==============================] - 0s 862us/step - loss: 0.6095\n",
            "Epoch 1/5\n",
            "363/363 [==============================] - 1s 1ms/step - loss: 1.8468 - val_loss: 0.8305\n",
            "Epoch 2/5\n",
            "363/363 [==============================] - 0s 1ms/step - loss: 0.6868 - val_loss: 0.7016\n",
            "Epoch 3/5\n",
            "363/363 [==============================] - 0s 1ms/step - loss: 0.6198 - val_loss: 0.6573\n",
            "Epoch 4/5\n",
            "363/363 [==============================] - 0s 1ms/step - loss: 0.5859 - val_loss: 0.6251\n"
          ],
          "name": "stdout"
        },
        {
          "output_type": "execute_result",
          "data": {
            "text/plain": [
              "GridSearchCV(cv=3, error_score=nan,\n",
              "             estimator=<tensorflow.python.keras.wrappers.scikit_learn.KerasRegressor object at 0x7f0dc3efdfd0>,\n",
              "             iid='deprecated', n_jobs=None,\n",
              "             param_grid={'hidden_layers': [1, 2], 'layer_size': [50],\n",
              "                         'learning_rate': [0.001]},\n",
              "             pre_dispatch='2*n_jobs', refit=True, return_train_score=False,\n",
              "             scoring=None, verbose=0)"
            ]
          },
          "metadata": {
            "tags": []
          },
          "execution_count": 82
        }
      ]
    },
    {
      "cell_type": "code",
      "metadata": {
        "id": "OCVlWlG6lCS6",
        "colab_type": "code",
        "outputId": "089c82af-8eca-4eba-f528-4734b9026775",
        "colab": {
          "base_uri": "https://localhost:8080/",
          "height": 69
        }
      },
      "source": [
        "print(random_search_cv.best_params_)\n",
        "print(random_search_cv.best_score_)\n",
        "print(random_search_cv.best_estimator_)"
      ],
      "execution_count": 83,
      "outputs": [
        {
          "output_type": "stream",
          "text": [
            "{'hidden_layers': 2, 'layer_size': 50, 'learning_rate': 0.001}\n",
            "-0.6013521552085876\n",
            "<tensorflow.python.keras.wrappers.scikit_learn.KerasRegressor object at 0x7f0dc3f71208>\n"
          ],
          "name": "stdout"
        }
      ]
    },
    {
      "cell_type": "code",
      "metadata": {
        "id": "qgIGVAS7QL2I",
        "colab_type": "code",
        "outputId": "bcf75496-23a3-4e3b-d881-cf79851b86e9",
        "colab": {
          "base_uri": "https://localhost:8080/",
          "height": 52
        }
      },
      "source": [
        "model = random_search_cv.best_estimator_.model\n",
        "model.evaluate(x_test_scaled, y_test)"
      ],
      "execution_count": 84,
      "outputs": [
        {
          "output_type": "stream",
          "text": [
            "162/162 [==============================] - 0s 852us/step - loss: 0.5905\n"
          ],
          "name": "stdout"
        },
        {
          "output_type": "execute_result",
          "data": {
            "text/plain": [
              "0.5905142426490784"
            ]
          },
          "metadata": {
            "tags": []
          },
          "execution_count": 84
        }
      ]
    }
  ]
}