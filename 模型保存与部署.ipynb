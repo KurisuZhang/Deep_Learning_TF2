{
  "nbformat": 4,
  "nbformat_minor": 0,
  "metadata": {
    "kernelspec": {
      "display_name": "Python 3",
      "language": "python",
      "name": "python3"
    },
    "language_info": {
      "codemirror_mode": {
        "name": "ipython",
        "version": 3
      },
      "file_extension": ".py",
      "mimetype": "text/x-python",
      "name": "python",
      "nbconvert_exporter": "python",
      "pygments_lexer": "ipython3",
      "version": "3.7.3"
    },
    "toc": {
      "base_numbering": 1,
      "nav_menu": {},
      "number_sections": true,
      "sideBar": true,
      "skip_h1_title": false,
      "title_cell": "Table of Contents",
      "title_sidebar": "Contents",
      "toc_cell": false,
      "toc_position": {},
      "toc_section_display": true,
      "toc_window_display": false
    },
    "varInspector": {
      "cols": {
        "lenName": 16,
        "lenType": 16,
        "lenVar": 40
      },
      "kernels_config": {
        "python": {
          "delete_cmd_postfix": "",
          "delete_cmd_prefix": "del ",
          "library": "var_list.py",
          "varRefreshCmd": "print(var_dic_list())"
        },
        "r": {
          "delete_cmd_postfix": ") ",
          "delete_cmd_prefix": "rm(",
          "library": "var_list.r",
          "varRefreshCmd": "cat(var_dic_list()) "
        }
      },
      "types_to_exclude": [
        "module",
        "function",
        "builtin_function_or_method",
        "instance",
        "_Feature"
      ],
      "window_display": false
    },
    "colab": {
      "name": "模型保存与部署.ipynb",
      "provenance": [],
      "collapsed_sections": [],
      "toc_visible": true,
      "include_colab_link": true
    }
  },
  "cells": [
    {
      "cell_type": "markdown",
      "metadata": {
        "id": "view-in-github",
        "colab_type": "text"
      },
      "source": [
        "<a href=\"https://colab.research.google.com/github/LinCheungS/Deep_Learning_TF2/blob/master/%E6%A8%A1%E5%9E%8B%E4%BF%9D%E5%AD%98%E4%B8%8E%E9%83%A8%E7%BD%B2.ipynb\" target=\"_parent\"><img src=\"https://colab.research.google.com/assets/colab-badge.svg\" alt=\"Open In Colab\"/></a>"
      ]
    },
    {
      "cell_type": "markdown",
      "metadata": {
        "id": "bp5M-IGUGf0o",
        "colab_type": "text"
      },
      "source": [
        "# 模型保存与部署"
      ]
    },
    {
      "cell_type": "markdown",
      "metadata": {
        "id": "j_T2KA7TG0Rj",
        "colab_type": "text"
      },
      "source": [
        "![](https://raw.githubusercontent.com/LinCheungS/PicGo_Image_Storage/master/2020-1/20200602065813.svg)"
      ]
    },
    {
      "cell_type": "code",
      "metadata": {
        "id": "gFF1d3l5HX_l",
        "colab_type": "code",
        "colab": {}
      },
      "source": [
        "import matplotlib as mpl\n",
        "import matplotlib.pyplot as plt\n",
        "import numpy as np\n",
        "import sklearn\n",
        "import pandas as pd\n",
        "import os\n",
        "import sys\n",
        "import time\n",
        "import tensorflow as tf\n",
        "from tensorflow import keras"
      ],
      "execution_count": 0,
      "outputs": []
    },
    {
      "cell_type": "code",
      "metadata": {
        "id": "1PvduKZ3Gf0t",
        "colab_type": "code",
        "colab": {
          "base_uri": "https://localhost:8080/",
          "height": 35
        },
        "outputId": "450a42a5-3ec4-495d-c9c2-ae155a7f29d8"
      },
      "source": [
        "# 数据集 #1\n",
        "from sklearn.preprocessing import StandardScaler\n",
        "fashion_mnist = keras.datasets.fashion_mnist\n",
        "(x_train_all, y_train_all), (x_test, y_test) = fashion_mnist.load_data()\n",
        "x_valid, x_train = x_train_all[:5000], x_train_all[5000:]\n",
        "y_valid, y_train = y_train_all[:5000], y_train_all[5000:]\n",
        "scaler = StandardScaler()\n",
        "x_train_scaled = scaler.fit_transform(x_train.astype(np.float32).reshape(-1, 1)).reshape(-1, 28, 28)\n",
        "x_valid_scaled = scaler.transform(x_valid.astype(np.float32).reshape(-1, 1)).reshape(-1, 28, 28)\n",
        "x_test_scaled = scaler.transform(x_test.astype(np.float32).reshape(-1, 1)).reshape(-1, 28, 28)\n",
        "print(x_valid.shape, y_valid.shape)"
      ],
      "execution_count": 4,
      "outputs": [
        {
          "output_type": "stream",
          "text": [
            "(5000, 28, 28) (5000,)\n"
          ],
          "name": "stdout"
        }
      ]
    },
    {
      "cell_type": "markdown",
      "metadata": {
        "id": "nv5JJd88IpNE",
        "colab_type": "text"
      },
      "source": [
        "## 保存加载keras模型"
      ]
    },
    {
      "cell_type": "code",
      "metadata": {
        "id": "COIBFingGf1G",
        "colab_type": "code",
        "colab": {
          "base_uri": "https://localhost:8080/",
          "height": 235
        },
        "outputId": "6010ae90-dea1-4fc7-d859-eb51e51dd000"
      },
      "source": [
        "\"\"\"保存keras模型\"\"\"\n",
        "keras.backend.clear_session()\n",
        "model = keras.models.Sequential([\n",
        "    keras.layers.Flatten(input_shape=[28, 28]),\n",
        "    keras.layers.Dense(300, activation='relu'),\n",
        "    keras.layers.Dense(100, activation='relu'),\n",
        "    keras.layers.Dense(10, activation='softmax')\n",
        "])\n",
        "\n",
        "model.compile(loss=\"sparse_categorical_crossentropy\",\n",
        "              optimizer = \"sgd\",\n",
        "              metrics = [\"accuracy\"])\n",
        "\n",
        "# 设置保存路径\n",
        "logdir = './graph_def_and_weights'\n",
        "if not os.path.exists(logdir):\n",
        "    os.mkdir(logdir)\n",
        "output_model_file = os.path.join(logdir,\"fashion_mnist_weights.h5\")\n",
        "\n",
        "callbacks = [\n",
        "    keras.callbacks.TensorBoard(logdir),\n",
        "    keras.callbacks.ModelCheckpoint(output_model_file,\n",
        "                                    save_best_only = True,\n",
        "                                    save_weights_only = False), # 设置是否只保存参数\n",
        "    keras.callbacks.EarlyStopping(patience=5, min_delta=1e-3),\n",
        "]\n",
        "history = model.fit(x_train_scaled, y_train, epochs=5,\n",
        "                    validation_data=(x_valid_scaled, y_valid),\n",
        "                    callbacks = callbacks)\n",
        "model.evaluate(x_test_scaled, y_test)"
      ],
      "execution_count": 14,
      "outputs": [
        {
          "output_type": "stream",
          "text": [
            "Epoch 1/5\n",
            "1719/1719 [==============================] - 6s 4ms/step - loss: 0.5318 - accuracy: 0.8118 - val_loss: 0.4207 - val_accuracy: 0.8478\n",
            "Epoch 2/5\n",
            "1719/1719 [==============================] - 7s 4ms/step - loss: 0.3883 - accuracy: 0.8604 - val_loss: 0.3721 - val_accuracy: 0.8680\n",
            "Epoch 3/5\n",
            "1719/1719 [==============================] - 7s 4ms/step - loss: 0.3508 - accuracy: 0.8733 - val_loss: 0.3561 - val_accuracy: 0.8722\n",
            "Epoch 4/5\n",
            "1719/1719 [==============================] - 7s 4ms/step - loss: 0.3262 - accuracy: 0.8828 - val_loss: 0.3351 - val_accuracy: 0.8740\n",
            "Epoch 5/5\n",
            "1719/1719 [==============================] - 7s 4ms/step - loss: 0.3072 - accuracy: 0.8875 - val_loss: 0.3193 - val_accuracy: 0.8844\n",
            "313/313 [==============================] - 1s 2ms/step - loss: 0.3623 - accuracy: 0.8668\n"
          ],
          "name": "stdout"
        },
        {
          "output_type": "execute_result",
          "data": {
            "text/plain": [
              "[0.3623450994491577, 0.8668000102043152]"
            ]
          },
          "metadata": {
            "tags": []
          },
          "execution_count": 14
        }
      ]
    },
    {
      "cell_type": "code",
      "metadata": {
        "id": "bpqeNKvvGf1K",
        "colab_type": "code",
        "colab": {}
      },
      "source": [
        "\"\"\"保存只有参数的keras模型\"\"\"\n",
        "model.save_weights(os.path.join(logdir, \"fashion_mnist_weights_2.h5\"))"
      ],
      "execution_count": 0,
      "outputs": []
    },
    {
      "cell_type": "code",
      "metadata": {
        "id": "ifT1M9fbGf1R",
        "colab_type": "code",
        "colab": {
          "base_uri": "https://localhost:8080/",
          "height": 54
        },
        "outputId": "aad087f6-0c04-4225-a6a9-6dab4b7dcb06"
      },
      "source": [
        "\"\"\"加载有网络结构的keras模型\"\"\"\n",
        "loaded_model = keras.models.load_model(os.path.join(logdir, \"fashion_mnist_weights.h5\"))\n",
        "loaded_model.evaluate(x_test_scaled, y_test)"
      ],
      "execution_count": 16,
      "outputs": [
        {
          "output_type": "stream",
          "text": [
            "313/313 [==============================] - 1s 2ms/step - loss: 0.3623 - accuracy: 0.8668\n"
          ],
          "name": "stdout"
        },
        {
          "output_type": "execute_result",
          "data": {
            "text/plain": [
              "[0.3623450994491577, 0.8668000102043152]"
            ]
          },
          "metadata": {
            "tags": []
          },
          "execution_count": 16
        }
      ]
    },
    {
      "cell_type": "code",
      "metadata": {
        "id": "BNegFVmEGf1T",
        "colab_type": "code",
        "colab": {
          "base_uri": "https://localhost:8080/",
          "height": 54
        },
        "outputId": "28eea978-dcd6-4b47-bc9f-6246f88994ed"
      },
      "source": [
        "\"\"\"加载只有参数的keras模型\"\"\"\n",
        "model = keras.models.Sequential([\n",
        "    keras.layers.Flatten(input_shape=[28, 28]),\n",
        "    keras.layers.Dense(300, activation='relu'),\n",
        "    keras.layers.Dense(100, activation='relu'),\n",
        "    keras.layers.Dense(10, activation='softmax')\n",
        "])\n",
        "\n",
        "model.compile(loss=\"sparse_categorical_crossentropy\",\n",
        "              optimizer = \"sgd\",\n",
        "              metrics = [\"accuracy\"])\n",
        "\n",
        "# 设置加载参数模型路径\n",
        "logdir = './graph_def_and_weights'\n",
        "if not os.path.exists(logdir):\n",
        "    os.mkdir(logdir)\n",
        "output_model_file = os.path.join(logdir, \"fashion_mnist_weights_2.h5\")\n",
        "# 加载参数\n",
        "model.load_weights(output_model_file)\n",
        "# 衡量模型\n",
        "model.evaluate(x_test_scaled, y_test)"
      ],
      "execution_count": 17,
      "outputs": [
        {
          "output_type": "stream",
          "text": [
            "313/313 [==============================] - 1s 2ms/step - loss: 0.3623 - accuracy: 0.8668\n"
          ],
          "name": "stdout"
        },
        {
          "output_type": "execute_result",
          "data": {
            "text/plain": [
              "[0.3623450994491577, 0.8668000102043152]"
            ]
          },
          "metadata": {
            "tags": []
          },
          "execution_count": 17
        }
      ]
    },
    {
      "cell_type": "markdown",
      "metadata": {
        "id": "Wu52wBCDGf1a",
        "colab_type": "text"
      },
      "source": [
        "## keras转换saved_model"
      ]
    },
    {
      "cell_type": "code",
      "metadata": {
        "id": "NxuSAsEpGf1p",
        "colab_type": "code",
        "colab": {
          "base_uri": "https://localhost:8080/",
          "height": 110
        },
        "outputId": "26d6c163-524a-42c4-a222-99f3077bbf40"
      },
      "source": [
        "# keras转换saved_model\n",
        "tf.saved_model.save(model, \"./keras_saved_graph\")"
      ],
      "execution_count": 18,
      "outputs": [
        {
          "output_type": "stream",
          "text": [
            "WARNING:tensorflow:From /usr/local/lib/python3.6/dist-packages/tensorflow/python/ops/resource_variable_ops.py:1817: calling BaseResourceVariable.__init__ (from tensorflow.python.ops.resource_variable_ops) with constraint is deprecated and will be removed in a future version.\n",
            "Instructions for updating:\n",
            "If using Keras pass *_constraint arguments to layers.\n",
            "INFO:tensorflow:Assets written to: ./keras_saved_graph/assets\n"
          ],
          "name": "stdout"
        }
      ]
    },
    {
      "cell_type": "code",
      "metadata": {
        "id": "9HILg10BGf1t",
        "colab_type": "code",
        "colab": {
          "base_uri": "https://localhost:8080/",
          "height": 1000
        },
        "outputId": "8bb34119-6f50-4a43-f779-014db2765804"
      },
      "source": [
        "# 命令行打印save_model结构\n",
        "!saved_model_cli show --dir ./keras_saved_graph --all"
      ],
      "execution_count": 19,
      "outputs": [
        {
          "output_type": "stream",
          "text": [
            "\n",
            "MetaGraphDef with tag-set: 'serve' contains the following SignatureDefs:\n",
            "\n",
            "signature_def['__saved_model_init_op']:\n",
            "  The given SavedModel SignatureDef contains the following input(s):\n",
            "  The given SavedModel SignatureDef contains the following output(s):\n",
            "    outputs['__saved_model_init_op'] tensor_info:\n",
            "        dtype: DT_INVALID\n",
            "        shape: unknown_rank\n",
            "        name: NoOp\n",
            "  Method name is: \n",
            "\n",
            "signature_def['serving_default']:\n",
            "  The given SavedModel SignatureDef contains the following input(s):\n",
            "    inputs['flatten_1_input'] tensor_info:\n",
            "        dtype: DT_FLOAT\n",
            "        shape: (-1, 28, 28)\n",
            "        name: serving_default_flatten_1_input:0\n",
            "  The given SavedModel SignatureDef contains the following output(s):\n",
            "    outputs['dense_5'] tensor_info:\n",
            "        dtype: DT_FLOAT\n",
            "        shape: (-1, 10)\n",
            "        name: StatefulPartitionedCall:0\n",
            "  Method name is: tensorflow/serving/predict\n",
            "WARNING: Logging before flag parsing goes to stderr.\n",
            "W0601 23:26:52.302783 140691341145984 deprecation.py:506] From /usr/local/lib/python2.7/dist-packages/tensorflow_core/python/ops/resource_variable_ops.py:1786: calling __init__ (from tensorflow.python.ops.resource_variable_ops) with constraint is deprecated and will be removed in a future version.\n",
            "Instructions for updating:\n",
            "If using Keras pass *_constraint arguments to layers.\n",
            "\n",
            "Defined Functions:\n",
            "  Function Name: '__call__'\n",
            "    Option #1\n",
            "      Callable with:\n",
            "        Argument #1\n",
            "          inputs: TensorSpec(shape=(None, 28, 28), dtype=tf.float32, name=u'inputs')\n",
            "        Argument #2\n",
            "          DType: bool\n",
            "          Value: True\n",
            "        Argument #3\n",
            "          DType: NoneType\n",
            "          Value: None\n",
            "    Option #2\n",
            "      Callable with:\n",
            "        Argument #1\n",
            "          flatten_1_input: TensorSpec(shape=(None, 28, 28), dtype=tf.float32, name=u'flatten_1_input')\n",
            "        Argument #2\n",
            "          DType: bool\n",
            "          Value: True\n",
            "        Argument #3\n",
            "          DType: NoneType\n",
            "          Value: None\n",
            "    Option #3\n",
            "      Callable with:\n",
            "        Argument #1\n",
            "          flatten_1_input: TensorSpec(shape=(None, 28, 28), dtype=tf.float32, name=u'flatten_1_input')\n",
            "        Argument #2\n",
            "          DType: bool\n",
            "          Value: False\n",
            "        Argument #3\n",
            "          DType: NoneType\n",
            "          Value: None\n",
            "    Option #4\n",
            "      Callable with:\n",
            "        Argument #1\n",
            "          inputs: TensorSpec(shape=(None, 28, 28), dtype=tf.float32, name=u'inputs')\n",
            "        Argument #2\n",
            "          DType: bool\n",
            "          Value: False\n",
            "        Argument #3\n",
            "          DType: NoneType\n",
            "          Value: None\n",
            "\n",
            "  Function Name: '_default_save_signature'\n",
            "    Option #1\n",
            "      Callable with:\n",
            "        Argument #1\n",
            "          flatten_1_input: TensorSpec(shape=(None, 28, 28), dtype=tf.float32, name=u'flatten_1_input')\n",
            "\n",
            "  Function Name: 'call_and_return_all_conditional_losses'\n",
            "    Option #1\n",
            "      Callable with:\n",
            "        Argument #1\n",
            "          inputs: TensorSpec(shape=(None, 28, 28), dtype=tf.float32, name=u'inputs')\n",
            "        Argument #2\n",
            "          DType: bool\n",
            "          Value: True\n",
            "        Argument #3\n",
            "          DType: NoneType\n",
            "          Value: None\n",
            "    Option #2\n",
            "      Callable with:\n",
            "        Argument #1\n",
            "          flatten_1_input: TensorSpec(shape=(None, 28, 28), dtype=tf.float32, name=u'flatten_1_input')\n",
            "        Argument #2\n",
            "          DType: bool\n",
            "          Value: False\n",
            "        Argument #3\n",
            "          DType: NoneType\n",
            "          Value: None\n",
            "    Option #3\n",
            "      Callable with:\n",
            "        Argument #1\n",
            "          flatten_1_input: TensorSpec(shape=(None, 28, 28), dtype=tf.float32, name=u'flatten_1_input')\n",
            "        Argument #2\n",
            "          DType: bool\n",
            "          Value: True\n",
            "        Argument #3\n",
            "          DType: NoneType\n",
            "          Value: None\n",
            "    Option #4\n",
            "      Callable with:\n",
            "        Argument #1\n",
            "          inputs: TensorSpec(shape=(None, 28, 28), dtype=tf.float32, name=u'inputs')\n",
            "        Argument #2\n",
            "          DType: bool\n",
            "          Value: False\n",
            "        Argument #3\n",
            "          DType: NoneType\n",
            "          Value: None\n"
          ],
          "name": "stdout"
        }
      ]
    },
    {
      "cell_type": "code",
      "metadata": {
        "id": "3FoGP-xwGf1v",
        "colab_type": "code",
        "colab": {
          "base_uri": "https://localhost:8080/",
          "height": 217
        },
        "outputId": "3d008e59-d238-4fb2-e90f-afb8ef146aaa"
      },
      "source": [
        "!saved_model_cli show --dir ./keras_saved_graph \\\n",
        "    --tag_set serve --signature_def serving_default"
      ],
      "execution_count": 20,
      "outputs": [
        {
          "output_type": "stream",
          "text": [
            "The given SavedModel SignatureDef contains the following input(s):\n",
            "  inputs['flatten_1_input'] tensor_info:\n",
            "      dtype: DT_FLOAT\n",
            "      shape: (-1, 28, 28)\n",
            "      name: serving_default_flatten_1_input:0\n",
            "The given SavedModel SignatureDef contains the following output(s):\n",
            "  outputs['dense_5'] tensor_info:\n",
            "      dtype: DT_FLOAT\n",
            "      shape: (-1, 10)\n",
            "      name: StatefulPartitionedCall:0\n",
            "Method name is: tensorflow/serving/predict\n"
          ],
          "name": "stdout"
        }
      ]
    },
    {
      "cell_type": "code",
      "metadata": {
        "id": "p7RTjlj8Gf1x",
        "colab_type": "code",
        "colab": {
          "base_uri": "https://localhost:8080/",
          "height": 310
        },
        "outputId": "862229b8-f6d6-481f-ae84-a99a2c709c0c"
      },
      "source": [
        "# 命令行做预测,  用上面打印的信息\n",
        "!saved_model_cli run --dir ./keras_saved_graph --tag_set serve \\\n",
        "    --signature_def serving_default \\\n",
        "    --input_exprs 'flatten_1_input=np.ones((2, 28, 28))'"
      ],
      "execution_count": 22,
      "outputs": [
        {
          "output_type": "stream",
          "text": [
            "2020-06-01 23:29:23.013343: I tensorflow/stream_executor/platform/default/dso_loader.cc:44] Successfully opened dynamic library libcuda.so.1\n",
            "2020-06-01 23:29:23.016033: E tensorflow/stream_executor/cuda/cuda_driver.cc:351] failed call to cuInit: CUDA_ERROR_NO_DEVICE: no CUDA-capable device is detected\n",
            "2020-06-01 23:29:23.016107: I tensorflow/stream_executor/cuda/cuda_diagnostics.cc:156] kernel driver does not appear to be running on this host (3f81888b9c22): /proc/driver/nvidia/version does not exist\n",
            "2020-06-01 23:29:23.043489: I tensorflow/core/platform/profile_utils/cpu_utils.cc:94] CPU Frequency: 2200000000 Hz\n",
            "2020-06-01 23:29:23.044066: I tensorflow/compiler/xla/service/service.cc:168] XLA service 0x55cd1593a840 initialized for platform Host (this does not guarantee that XLA will be used). Devices:\n",
            "2020-06-01 23:29:23.044131: I tensorflow/compiler/xla/service/service.cc:176]   StreamExecutor device (0): Host, Default Version\n",
            "WARNING: Logging before flag parsing goes to stderr.\n",
            "W0601 23:29:23.051908 140065325549440 deprecation.py:323] From /usr/local/lib/python2.7/dist-packages/tensorflow_core/python/tools/saved_model_cli.py:420: load (from tensorflow.python.saved_model.loader_impl) is deprecated and will be removed in a future version.\n",
            "Instructions for updating:\n",
            "This function will only be available through the v1 compatibility library as tf.compat.v1.saved_model.loader.load or tf.compat.v1.saved_model.load. There will be a new function for importing SavedModels in Tensorflow 2.0.\n",
            "Result for output key dense_5:\n",
            "[[0.19649196 0.04624213 0.06946056 0.05645237 0.04555376 0.02107765\n",
            "  0.07102708 0.01042284 0.45968488 0.02358678]\n",
            " [0.19649196 0.04624213 0.06946056 0.05645237 0.04555376 0.02107765\n",
            "  0.07102708 0.01042284 0.45968488 0.02358678]]\n"
          ],
          "name": "stdout"
        }
      ]
    },
    {
      "cell_type": "code",
      "metadata": {
        "id": "pT37eF3TGf10",
        "colab_type": "code",
        "colab": {
          "base_uri": "https://localhost:8080/",
          "height": 35
        },
        "outputId": "f403d8f9-e7de-4d56-9e87-f14083771bab"
      },
      "source": [
        "# python做预测\n",
        "loaded_saved_model = tf.saved_model.load('./keras_saved_graph')\n",
        "print(list(loaded_saved_model.signatures.keys()))"
      ],
      "execution_count": 23,
      "outputs": [
        {
          "output_type": "stream",
          "text": [
            "['serving_default']\n"
          ],
          "name": "stdout"
        }
      ]
    },
    {
      "cell_type": "code",
      "metadata": {
        "id": "-87Elx55Gf12",
        "colab_type": "code",
        "colab": {
          "base_uri": "https://localhost:8080/",
          "height": 35
        },
        "outputId": "4144e1dd-ddb3-40e7-fcc4-6faecaccecdc"
      },
      "source": [
        "inference = loaded_saved_model.signatures['serving_default']\n",
        "print(inference)"
      ],
      "execution_count": 24,
      "outputs": [
        {
          "output_type": "stream",
          "text": [
            "<tensorflow.python.saved_model.load._WrapperFunction object at 0x7fdcdd7aa470>\n"
          ],
          "name": "stdout"
        }
      ]
    },
    {
      "cell_type": "code",
      "metadata": {
        "id": "G_bWFijRGf14",
        "colab_type": "code",
        "colab": {
          "base_uri": "https://localhost:8080/",
          "height": 35
        },
        "outputId": "81545a12-2348-4748-ac25-cf3e15a49f03"
      },
      "source": [
        "print(inference.structured_outputs)"
      ],
      "execution_count": 25,
      "outputs": [
        {
          "output_type": "stream",
          "text": [
            "{'dense_5': TensorSpec(shape=(None, 10), dtype=tf.float32, name='dense_5')}\n"
          ],
          "name": "stdout"
        }
      ]
    },
    {
      "cell_type": "code",
      "metadata": {
        "id": "qtKi1MqtGf17",
        "colab_type": "code",
        "colab": {
          "base_uri": "https://localhost:8080/",
          "height": 72
        },
        "outputId": "dd26e6bd-d937-40f2-e5fc-5c152de9f5ee"
      },
      "source": [
        "results = inference(tf.constant(x_test_scaled[0:1]))\n",
        "print(results['dense_5'])"
      ],
      "execution_count": 27,
      "outputs": [
        {
          "output_type": "stream",
          "text": [
            "tf.Tensor(\n",
            "[[7.1393069e-06 6.6101006e-06 7.0064234e-06 4.0687082e-06 7.8821331e-06\n",
            "  1.8722540e-02 2.4624796e-05 2.8391231e-02 5.0716382e-04 9.5232177e-01]], shape=(1, 10), dtype=float32)\n"
          ],
          "name": "stdout"
        }
      ]
    },
    {
      "cell_type": "markdown",
      "metadata": {
        "colab_type": "text",
        "id": "WO7m6tPhOtbK"
      },
      "source": [
        "## 签名函数转save_model"
      ]
    },
    {
      "cell_type": "code",
      "metadata": {
        "colab_type": "code",
        "id": "GPRIe5DpOtbN",
        "colab": {
          "base_uri": "https://localhost:8080/",
          "height": 54
        },
        "outputId": "17e8e2ec-6408-464a-c35c-8863eb353c6d"
      },
      "source": [
        "# 生成带签名的函数\n",
        "@tf.function(input_signature=[tf.TensorSpec([None], tf.int32, name='x')])\n",
        "def cube(z):\n",
        "    return tf.pow(z, 3)\n",
        "# 将带签名的函数转成concreate function\n",
        "cube_func_int32 = cube.get_concrete_function(tf.TensorSpec([None], tf.int32))\n",
        "\n",
        "print(cube_func_int32)\n",
        "print(cube(tf.constant([1, 2, 3])))"
      ],
      "execution_count": 28,
      "outputs": [
        {
          "output_type": "stream",
          "text": [
            "<tensorflow.python.eager.function.ConcreteFunction object at 0x7fdcdd450c18>\n",
            "tf.Tensor([ 1  8 27], shape=(3,), dtype=int32)\n"
          ],
          "name": "stdout"
        }
      ]
    },
    {
      "cell_type": "code",
      "metadata": {
        "colab_type": "code",
        "id": "YDU6n82bOtbU",
        "colab": {
          "base_uri": "https://localhost:8080/",
          "height": 35
        },
        "outputId": "011f18d8-14aa-4382-d202-42e0495c027f"
      },
      "source": [
        "to_export = tf.Module()\n",
        "# 加一个成员变量cube\n",
        "to_export.cube = cube\n",
        "tf.saved_model.save(to_export, \"./signature_to_saved_model\")"
      ],
      "execution_count": 29,
      "outputs": [
        {
          "output_type": "stream",
          "text": [
            "INFO:tensorflow:Assets written to: ./signature_to_saved_model/assets\n"
          ],
          "name": "stdout"
        }
      ]
    },
    {
      "cell_type": "code",
      "metadata": {
        "colab_type": "code",
        "outputId": "3114a907-e0ae-4eec-eac1-a2400e2ccf59",
        "id": "sM9jzw1aOtbV",
        "colab": {
          "base_uri": "https://localhost:8080/",
          "height": 581
        }
      },
      "source": [
        "!saved_model_cli show --dir ./signature_to_saved_model --all"
      ],
      "execution_count": 30,
      "outputs": [
        {
          "output_type": "stream",
          "text": [
            "\n",
            "MetaGraphDef with tag-set: 'serve' contains the following SignatureDefs:\n",
            "\n",
            "signature_def['__saved_model_init_op']:\n",
            "  The given SavedModel SignatureDef contains the following input(s):\n",
            "  The given SavedModel SignatureDef contains the following output(s):\n",
            "    outputs['__saved_model_init_op'] tensor_info:\n",
            "        dtype: DT_INVALID\n",
            "        shape: unknown_rank\n",
            "        name: NoOp\n",
            "  Method name is: \n",
            "\n",
            "signature_def['serving_default']:\n",
            "  The given SavedModel SignatureDef contains the following input(s):\n",
            "    inputs['x'] tensor_info:\n",
            "        dtype: DT_INT32\n",
            "        shape: (-1)\n",
            "        name: serving_default_x:0\n",
            "  The given SavedModel SignatureDef contains the following output(s):\n",
            "    outputs['output_0'] tensor_info:\n",
            "        dtype: DT_INT32\n",
            "        shape: (-1)\n",
            "        name: PartitionedCall:0\n",
            "  Method name is: tensorflow/serving/predict\n",
            "\n",
            "Defined Functions:\n",
            "  Function Name: 'cube'\n",
            "    Option #1\n",
            "      Callable with:\n",
            "        Argument #1\n",
            "          x: TensorSpec(shape=(None,), dtype=tf.int32, name=u'x')\n"
          ],
          "name": "stdout"
        }
      ]
    },
    {
      "cell_type": "code",
      "metadata": {
        "colab_type": "code",
        "outputId": "d912ce1a-4b05-4b0e-981f-5c61ee725cca",
        "id": "qae387BfOtbX",
        "colab": {
          "base_uri": "https://localhost:8080/",
          "height": 35
        }
      },
      "source": [
        "imported = tf.saved_model.load('./signature_to_saved_model')\n",
        "imported.cube(tf.constant([2]))"
      ],
      "execution_count": 31,
      "outputs": [
        {
          "output_type": "execute_result",
          "data": {
            "text/plain": [
              "<tf.Tensor: shape=(1,), dtype=int32, numpy=array([8], dtype=int32)>"
            ]
          },
          "metadata": {
            "tags": []
          },
          "execution_count": 31
        }
      ]
    },
    {
      "cell_type": "markdown",
      "metadata": {
        "id": "ryJft2e_Gf2p",
        "colab_type": "text"
      },
      "source": [
        "## TensorflowJS"
      ]
    },
    {
      "cell_type": "markdown",
      "metadata": {
        "id": "joqceMO2blK3",
        "colab_type": "text"
      },
      "source": [
        "https://www.tensorflow.org/js/tutorials/conversion/import_keras"
      ]
    },
    {
      "cell_type": "markdown",
      "metadata": {
        "id": "JqiDNg5Lbn1M",
        "colab_type": "text"
      },
      "source": [
        "## Tensorflow安卓"
      ]
    },
    {
      "cell_type": "markdown",
      "metadata": {
        "id": "27acMjkoGf3J",
        "colab_type": "text"
      },
      "source": [
        "## 读取TFLite"
      ]
    },
    {
      "cell_type": "code",
      "metadata": {
        "id": "uqqL4GvTGf3L",
        "colab_type": "code",
        "colab": {}
      },
      "source": [
        "with open('/content/tflite_models/keras_tflite', 'rb') as f:\n",
        "    concrete_func_tflite = f.read()\n",
        "    \n",
        "interpreter = tf.lite.Interpreter(model_content = concrete_func_tflite)\n",
        "# 允许分配内存\n",
        "interpreter.allocate_tensors()"
      ],
      "execution_count": 0,
      "outputs": []
    },
    {
      "cell_type": "code",
      "metadata": {
        "id": "sYVbJgmnGf3Q",
        "colab_type": "code",
        "colab": {
          "base_uri": "https://localhost:8080/",
          "height": 74
        },
        "outputId": "bb3d1279-9493-46bd-a856-aaff8b86d52f"
      },
      "source": [
        "# 获得输入和输出\n",
        "input_details = interpreter.get_input_details()\n",
        "output_details = interpreter.get_output_details()\n",
        "\n",
        "print(input_details)\n",
        "print(output_details)"
      ],
      "execution_count": 48,
      "outputs": [
        {
          "output_type": "stream",
          "text": [
            "[{'name': 'flatten_input', 'index': 0, 'shape': array([ 1, 28, 28], dtype=int32), 'shape_signature': array([ 1, 28, 28], dtype=int32), 'dtype': <class 'numpy.float32'>, 'quantization': (0.0, 0), 'quantization_parameters': {'scales': array([], dtype=float32), 'zero_points': array([], dtype=int32), 'quantized_dimension': 0}, 'sparsity_parameters': {}}]\n",
            "[{'name': 'Identity', 'index': 12, 'shape': array([ 1, 10], dtype=int32), 'shape_signature': array([ 1, 10], dtype=int32), 'dtype': <class 'numpy.float32'>, 'quantization': (0.0, 0), 'quantization_parameters': {'scales': array([], dtype=float32), 'zero_points': array([], dtype=int32), 'quantized_dimension': 0}, 'sparsity_parameters': {}}]\n"
          ],
          "name": "stdout"
        }
      ]
    },
    {
      "cell_type": "code",
      "metadata": {
        "id": "-063RZ9mGf3R",
        "colab_type": "code",
        "colab": {
          "base_uri": "https://localhost:8080/",
          "height": 54
        },
        "outputId": "585d5e87-0a46-4e0e-d1ba-8366ed79bfef"
      },
      "source": [
        "# 生成输入数据\n",
        "input_data = tf.constant(np.ones(input_details[0]['shape'], dtype=np.float32))\n",
        "# 将输入数据塞给input_details[0]['index']\n",
        "interpreter.set_tensor(input_details[0]['index'], input_data)\n",
        "# 启动interpreter\n",
        "interpreter.invoke()\n",
        "# 获得输出\n",
        "output_results = interpreter.get_tensor(output_details[0]['index'])\n",
        "print(output_results)"
      ],
      "execution_count": 49,
      "outputs": [
        {
          "output_type": "stream",
          "text": [
            "[[0.19649196 0.04624215 0.06946057 0.05645237 0.04555378 0.02107765\n",
            "  0.07102709 0.01042284 0.45968488 0.02358679]]\n"
          ],
          "name": "stdout"
        }
      ]
    },
    {
      "cell_type": "markdown",
      "metadata": {
        "id": "vbdSLwA8Gf3V",
        "colab_type": "text"
      },
      "source": [
        "## keras转concrete_function"
      ]
    },
    {
      "cell_type": "code",
      "metadata": {
        "id": "q4Ml8rkMGf3X",
        "colab_type": "code",
        "colab": {
          "base_uri": "https://localhost:8080/",
          "height": 90
        },
        "outputId": "23c3af1d-236e-47e3-be24-91715eb4b568"
      },
      "source": [
        "loaded_keras_model = keras.models.load_model(\n",
        "    '/content/graph_def_and_weights/fashion_mnist_weights.h5')\n",
        "loaded_keras_model(np.ones((1, 28, 28)))"
      ],
      "execution_count": 33,
      "outputs": [
        {
          "output_type": "execute_result",
          "data": {
            "text/plain": [
              "<tf.Tensor: shape=(1, 10), dtype=float32, numpy=\n",
              "array([[0.19649196, 0.04624216, 0.06946056, 0.0564524 , 0.04555378,\n",
              "        0.02107765, 0.0710271 , 0.01042284, 0.45968476, 0.0235868 ]],\n",
              "      dtype=float32)>"
            ]
          },
          "metadata": {
            "tags": []
          },
          "execution_count": 33
        }
      ]
    },
    {
      "cell_type": "code",
      "metadata": {
        "id": "s761sbUEGf3Y",
        "colab_type": "code",
        "colab": {}
      },
      "source": [
        "run_model = tf.function(lambda x : loaded_keras_model(x))\n",
        "keras_concrete_func = run_model.get_concrete_function(\n",
        "    tf.TensorSpec(loaded_keras_model.inputs[0].shape,\n",
        "                  loaded_keras_model.inputs[0].dtype))"
      ],
      "execution_count": 0,
      "outputs": []
    },
    {
      "cell_type": "code",
      "metadata": {
        "id": "7pVxcMBvGf3a",
        "colab_type": "code",
        "colab": {
          "base_uri": "https://localhost:8080/",
          "height": 90
        },
        "outputId": "87a15b74-ade8-41d1-af99-6f9d90aa91ad"
      },
      "source": [
        "keras_concrete_func(tf.constant(np.ones((1, 28, 28), dtype=np.float32)))"
      ],
      "execution_count": 35,
      "outputs": [
        {
          "output_type": "execute_result",
          "data": {
            "text/plain": [
              "<tf.Tensor: shape=(1, 10), dtype=float32, numpy=\n",
              "array([[0.19649196, 0.04624216, 0.06946056, 0.0564524 , 0.04555378,\n",
              "        0.02107765, 0.0710271 , 0.01042284, 0.45968476, 0.0235868 ]],\n",
              "      dtype=float32)>"
            ]
          },
          "metadata": {
            "tags": []
          },
          "execution_count": 35
        }
      ]
    },
    {
      "cell_type": "markdown",
      "metadata": {
        "id": "nkGnhkKDSBfd",
        "colab_type": "text"
      },
      "source": [
        "## save_model转concrete_function"
      ]
    },
    {
      "cell_type": "code",
      "metadata": {
        "id": "5fLjpVnQSE8Z",
        "colab_type": "code",
        "colab": {}
      },
      "source": [
        "inference = loaded_saved_model.signatures['serving_default']"
      ],
      "execution_count": 0,
      "outputs": []
    },
    {
      "cell_type": "markdown",
      "metadata": {
        "id": "68u48UCVGf3f",
        "colab_type": "text"
      },
      "source": [
        "## TFLite量化"
      ]
    },
    {
      "cell_type": "code",
      "metadata": {
        "id": "KYosTo7JGf3h",
        "colab_type": "code",
        "colab": {}
      },
      "source": [
        "\"\"\"Keras模型量化\"\"\"\n",
        "loaded_keras_model = keras.models.load_model('/content/graph_def_and_weights/fashion_mnist_weights.h5')\n",
        "keras_to_tflite_converter = tf.lite.TFLiteConverter.from_keras_model(loaded_keras_model)\n",
        "# 设置量化, 转成8位\n",
        "keras_to_tflite_converter.optimizations = [tf.lite.Optimize.OPTIMIZE_FOR_SIZE]\n",
        "keras_tflite = keras_to_tflite_converter.convert()\n",
        "# 生成量化过的TFLite\n",
        "if not os.path.exists('./tflite_models'):\n",
        "    os.mkdir('./tflite_models')\n",
        "with open('./tflite_models/quantized_keras_tflite', 'wb') as f:\n",
        "    f.write(keras_tflite)"
      ],
      "execution_count": 0,
      "outputs": []
    },
    {
      "cell_type": "code",
      "metadata": {
        "id": "CiOyezMYGf3o",
        "colab_type": "code",
        "colab": {}
      },
      "source": [
        "\"\"\"concreate function 量化\"\"\"\n",
        "# kearas 转 concreate func\n",
        "run_model = tf.function(lambda x : loaded_keras_model(x))\n",
        "keras_concrete_func = run_model.get_concrete_function(\n",
        "    tf.TensorSpec(loaded_keras_model.inputs[0].shape,\n",
        "                  loaded_keras_model.inputs[0].dtype))\n",
        "keras_concrete_func(tf.constant(np.ones((1, 28, 28), dtype=np.float32)))\n",
        "# 量化\n",
        "concrete_func_to_tflite_converter = tf.lite.TFLiteConverter.from_concrete_functions([keras_concrete_func])\n",
        "concrete_func_to_tflite_converter.optimizations = [tf.lite.Optimize.OPTIMIZE_FOR_SIZE]\n",
        "concrete_func_tflite = concrete_func_to_tflite_converter.convert()\n",
        "# 写入\n",
        "with open('./tflite_models/quantized_concrete_func_tflite', 'wb') as f:\n",
        "    f.write(concrete_func_tflite)"
      ],
      "execution_count": 0,
      "outputs": []
    },
    {
      "cell_type": "code",
      "metadata": {
        "id": "-xCyHtHQGf3y",
        "colab_type": "code",
        "colab": {}
      },
      "source": [
        "\"\"\"save_model量化\"\"\"\n",
        "saved_model_to_tflite_converter = tf.lite.TFLiteConverter.from_saved_model('/content/keras_saved_graph')\n",
        "saved_model_to_tflite_converter.optimizations = [tf.lite.Optimize.OPTIMIZE_FOR_SIZE]\n",
        "saved_model_tflite = saved_model_to_tflite_converter.convert()\n",
        "\n",
        "with open('./tflite_models/quantized_saved_model_tflite', 'wb') as f:\n",
        "    f.write(saved_model_tflite)"
      ],
      "execution_count": 0,
      "outputs": []
    },
    {
      "cell_type": "markdown",
      "metadata": {
        "id": "kjLCSwp9Gf36",
        "colab_type": "text"
      },
      "source": [
        "## 各种模型转成TFLite"
      ]
    },
    {
      "cell_type": "code",
      "metadata": {
        "id": "CVWwg9xCGf37",
        "colab_type": "code",
        "colab": {
          "base_uri": "https://localhost:8080/",
          "height": 35
        },
        "outputId": "ac03dfbc-b288-45f1-b4ea-ec3c1afa46b2"
      },
      "source": [
        "\"\"\"转换 SavedModel 格式模型\"\"\"\n",
        "\n",
        "# 建立一个简单的模型。\n",
        "root = tf.train.Checkpoint()\n",
        "root.v1 = tf.Variable(3.)\n",
        "root.v2 = tf.Variable(2.)\n",
        "root.f = tf.function(lambda x: root.v1 * root.v2 * x)\n",
        "\n",
        "# 保存模型。\n",
        "export_dir = \"/tmp/test_saved_model\"\n",
        "input_data = tf.constant(1., shape=[1, 1])\n",
        "to_save = root.f.get_concrete_function(input_data)\n",
        "tf.saved_model.save(root, export_dir, to_save)\n",
        "\n",
        "# 转换模型。\n",
        "converter = tf.lite.TFLiteConverter.from_saved_model(export_dir)\n",
        "tflite_model = converter.convert()"
      ],
      "execution_count": 36,
      "outputs": [
        {
          "output_type": "stream",
          "text": [
            "INFO:tensorflow:Assets written to: /tmp/test_saved_model/assets\n"
          ],
          "name": "stdout"
        }
      ]
    },
    {
      "cell_type": "code",
      "metadata": {
        "id": "RkfuATlNGf38",
        "colab_type": "code",
        "colab": {}
      },
      "source": [
        "\"\"\"转换 Keras 模型\"\"\"\n",
        "\n",
        "# 创建一个简单的 Keras 模型。\n",
        "x = [-1, 0, 1, 2, 3, 4]\n",
        "y = [-3, -1, 1, 3, 5, 7]\n",
        "\n",
        "model = tf.keras.models.load_model(\"/content/graph_def_and_weights/fashion_mnist_weights.h5\")\n",
        "\n",
        "# 转换模型。\n",
        "converter = tf.lite.TFLiteConverter.from_keras_model(model)\n",
        "tflite_model = converter.convert()\n",
        "\n",
        "# 写入模型\n",
        "if not os.path.exists('./tflite_models'):\n",
        "    os.mkdir('./tflite_models')\n",
        "with open('./tflite_models/keras_tflite', 'wb') as f:\n",
        "    f.write(tflite_model)"
      ],
      "execution_count": 0,
      "outputs": []
    },
    {
      "cell_type": "code",
      "metadata": {
        "id": "3K0OVLzpGf39",
        "colab_type": "code",
        "colab": {}
      },
      "source": [
        "\"\"\"\"转换 concrete function \"\"\"\n",
        "# 以下示例展示了如何将 TensorFlow 中的 concrete function 转换为TensorFlow Lite 中的 FlatBuffer 格式。\n",
        "\n",
        "# 建立一个模型。\n",
        "root = tf.train.Checkpoint()\n",
        "root.v1 = tf.Variable(3.)\n",
        "root.v2 = tf.Variable(2.)\n",
        "root.f = tf.function(lambda x: root.v1 * root.v2 * x)\n",
        "\n",
        "# 生成 concrete function。\n",
        "input_data = tf.constant(1., shape=[1, 1])\n",
        "concrete_func = root.f.get_concrete_function(input_data)\n",
        "\n",
        "# 转换模型。\n",
        "#\n",
        "# `from_concrete_function` 的传入参数被设计为一个一个 concrete function 的列表，然而\n",
        "# 现阶段仅支持每次调用时仅接受一个concrete function。\n",
        "# 同时转换多个concrete function的功能正在开发中。\n",
        "converter = tf.lite.TFLiteConverter.from_concrete_functions([concrete_func])\n",
        "tflite_model = converter.convert()"
      ],
      "execution_count": 0,
      "outputs": []
    },
    {
      "cell_type": "code",
      "metadata": {
        "id": "5fCBgJt9Gf4O",
        "colab_type": "code",
        "colab": {}
      },
      "source": [
        ""
      ],
      "execution_count": 0,
      "outputs": []
    }
  ]
}