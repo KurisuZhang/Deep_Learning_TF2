{
  "nbformat": 4,
  "nbformat_minor": 0,
  "metadata": {
    "kernelspec": {
      "display_name": "Python 3",
      "language": "python",
      "name": "python3"
    },
    "language_info": {
      "codemirror_mode": {
        "name": "ipython",
        "version": 3
      },
      "file_extension": ".py",
      "mimetype": "text/x-python",
      "name": "python",
      "nbconvert_exporter": "python",
      "pygments_lexer": "ipython3",
      "version": "3.7.3"
    },
    "toc": {
      "base_numbering": 1,
      "nav_menu": {},
      "number_sections": true,
      "sideBar": true,
      "skip_h1_title": false,
      "title_cell": "Table of Contents",
      "title_sidebar": "Contents",
      "toc_cell": false,
      "toc_position": {},
      "toc_section_display": true,
      "toc_window_display": false
    },
    "varInspector": {
      "cols": {
        "lenName": 16,
        "lenType": 16,
        "lenVar": 40
      },
      "kernels_config": {
        "python": {
          "delete_cmd_postfix": "",
          "delete_cmd_prefix": "del ",
          "library": "var_list.py",
          "varRefreshCmd": "print(var_dic_list())"
        },
        "r": {
          "delete_cmd_postfix": ") ",
          "delete_cmd_prefix": "rm(",
          "library": "var_list.r",
          "varRefreshCmd": "cat(var_dic_list()) "
        }
      },
      "types_to_exclude": [
        "module",
        "function",
        "builtin_function_or_method",
        "instance",
        "_Feature"
      ],
      "window_display": false
    },
    "colab": {
      "name": "分布式GPU.ipynb",
      "provenance": [],
      "collapsed_sections": [],
      "toc_visible": true,
      "include_colab_link": true
    }
  },
  "cells": [
    {
      "cell_type": "markdown",
      "metadata": {
        "id": "view-in-github",
        "colab_type": "text"
      },
      "source": [
        "<a href=\"https://colab.research.google.com/github/LinCheungS/Deep_Learning_TF2/blob/master/%E5%88%86%E5%B8%83%E5%BC%8FGPU.ipynb\" target=\"_parent\"><img src=\"https://colab.research.google.com/assets/colab-badge.svg\" alt=\"Open In Colab\"/></a>"
      ]
    },
    {
      "cell_type": "markdown",
      "metadata": {
        "id": "4v0jYeBuXEBk",
        "colab_type": "text"
      },
      "source": [
        "# 分布式GPU"
      ]
    },
    {
      "cell_type": "code",
      "metadata": {
        "id": "Wb4ZbOL3W3WJ",
        "colab_type": "code",
        "colab": {}
      },
      "source": [
        "import matplotlib as mpl\n",
        "import matplotlib.pyplot as plt\n",
        "import numpy as np\n",
        "import sklearn\n",
        "import pandas as pd\n",
        "import os\n",
        "import sys\n",
        "import time\n",
        "import tensorflow as tf\n",
        "from tensorflow import keras"
      ],
      "execution_count": 0,
      "outputs": []
    },
    {
      "cell_type": "markdown",
      "metadata": {
        "id": "419XyvaCZkh1",
        "colab_type": "text"
      },
      "source": [
        "```\n",
        "// 查看gpu状态  \n",
        "nvidia-smi  \n",
        "// 定时刷新  \n",
        "watch -n 0.1 -x nvidia-smi  \n",
        "```"
      ]
    },
    {
      "cell_type": "markdown",
      "metadata": {
        "id": "ExyiOFdOW3Wt",
        "colab_type": "text"
      },
      "source": [
        "## 设置某个物理GPU可用"
      ]
    },
    {
      "cell_type": "code",
      "metadata": {
        "id": "9uJHS64eW3Wx",
        "colab_type": "code",
        "outputId": "e3fb8db3-b527-49a6-e863-a6384552373f",
        "colab": {}
      },
      "source": [
        "# 打印接下来的代码,变量在模型的分布\n",
        "tf.debugging.set_log_device_placement(True)\n",
        "# 列出所有的物理GPU\n",
        "gpus = tf.config.experimental.list_physical_devices('GPU')\n",
        "# 设置哪个GPU可用\n",
        "tf.config.experimental.set_visible_devices(gpus[3], 'GPU')\n",
        "# 设置需要多少显存,用多少显存\n",
        "for gpu in gpus:\n",
        "    tf.config.experimental.set_memory_growth(gpu, True)\n",
        "# 列出所有的逻辑GPU\n",
        "logical_gpus = tf.config.experimental.list_logical_devices('GPU')\n",
        "\n",
        "print(len(gpus))\n",
        "print(len(logical_gpus))"
      ],
      "execution_count": 0,
      "outputs": [
        {
          "output_type": "stream",
          "text": [
            "4\n",
            "1\n"
          ],
          "name": "stdout"
        }
      ]
    },
    {
      "cell_type": "markdown",
      "metadata": {
        "id": "iE0uhV8sW3XM",
        "colab_type": "text"
      },
      "source": [
        "## 划分逻辑上的GPU"
      ]
    },
    {
      "cell_type": "code",
      "metadata": {
        "id": "DNeE7IdvW3XQ",
        "colab_type": "code",
        "outputId": "30198f1e-5681-4837-ffb4-604726693c4a",
        "colab": {}
      },
      "source": [
        "tf.debugging.set_log_device_placement(True)\n",
        "gpus = tf.config.experimental.list_physical_devices('GPU')\n",
        "tf.config.experimental.set_visible_devices(gpus[1], 'GPU')\n",
        "# 设置逻辑上的GPU\n",
        "tf.config.experimental.set_virtual_device_configuration(\n",
        "    gpus[1],\n",
        "    [tf.config.experimental.VirtualDeviceConfiguration(memory_limit=3072),\n",
        "     tf.config.experimental.VirtualDeviceConfiguration(memory_limit=3072)])\n",
        "logical_gpus = tf.config.experimental.list_logical_devices('GPU')\n",
        "\n",
        "print(len(gpus))\n",
        "print(len(logical_gpus))\n"
      ],
      "execution_count": 0,
      "outputs": [
        {
          "output_type": "stream",
          "text": [
            "4\n",
            "2\n"
          ],
          "name": "stdout"
        }
      ]
    },
    {
      "cell_type": "markdown",
      "metadata": {
        "id": "lVY7-inEW3Xm",
        "colab_type": "text"
      },
      "source": [
        "## 某操作指定特定GPU"
      ]
    },
    {
      "cell_type": "code",
      "metadata": {
        "id": "zaqpurMxW3Xp",
        "colab_type": "code",
        "outputId": "9b08b9e8-ec28-44b4-8168-cd57d72d66b1",
        "colab": {}
      },
      "source": [
        "tf.debugging.set_log_device_placement(True)\n",
        "tf.config.set_soft_device_placement(True)\n",
        "gpus = tf.config.experimental.list_physical_devices('GPU')\n",
        "for gpu in gpus:\n",
        "    tf.config.experimental.set_memory_growth(gpu, True)\n",
        "print(len(gpus))\n",
        "logical_gpus = tf.config.experimental.list_logical_devices('GPU')\n",
        "print(len(logical_gpus))\n"
      ],
      "execution_count": 0,
      "outputs": [
        {
          "output_type": "stream",
          "text": [
            "4\n",
            "4\n"
          ],
          "name": "stdout"
        }
      ]
    },
    {
      "cell_type": "code",
      "metadata": {
        "id": "wegnaCvDW3Xs",
        "colab_type": "code",
        "outputId": "015c3ed5-d032-42f3-c940-3941d70e1690",
        "colab": {}
      },
      "source": [
        "c = []\n",
        "for gpu in logical_gpus:\n",
        "    print(gpu.name)\n",
        "    with tf.device(gpu.name):\n",
        "        a = tf.constant([[1.0, 2.0, 3.0], [4.0, 5.0, 6.0]])\n",
        "        b = tf.constant([[1.0, 2.0], [3.0, 4.0], [5.0, 6.0]])\n",
        "        c.append(tf.matmul(a, b))\n",
        "with tf.device('/CPU:0'):\n",
        "    matmul_sum = tf.add_n(c)\n",
        "\n",
        "print(matmul_sum)"
      ],
      "execution_count": 0,
      "outputs": [
        {
          "output_type": "stream",
          "text": [
            "/job:localhost/replica:0/task:0/device:GPU:0\n",
            "Executing op MatMul in device /job:localhost/replica:0/task:0/device:GPU:0\n",
            "/job:localhost/replica:0/task:0/device:GPU:1\n",
            "Executing op MatMul in device /job:localhost/replica:0/task:0/device:GPU:1\n",
            "/job:localhost/replica:0/task:0/device:GPU:2\n",
            "Executing op MatMul in device /job:localhost/replica:0/task:0/device:GPU:2\n",
            "/job:localhost/replica:0/task:0/device:GPU:3\n",
            "Executing op MatMul in device /job:localhost/replica:0/task:0/device:GPU:3\n",
            "Executing op AddN in device /job:localhost/replica:0/task:0/device:CPU:0\n",
            "tf.Tensor(\n",
            "[[ 88. 112.]\n",
            " [196. 256.]], shape=(2, 2), dtype=float32)\n"
          ],
          "name": "stdout"
        }
      ]
    },
    {
      "cell_type": "code",
      "metadata": {
        "id": "H6xqXKuLW3X8",
        "colab_type": "code",
        "outputId": "88e04ef5-22b1-40c7-b4b9-b18749740fc5",
        "colab": {}
      },
      "source": [
        "\"\"\"例子\"\"\"\n",
        "fashion_mnist = keras.datasets.fashion_mnist\n",
        "(x_train_all, y_train_all), (x_test, y_test) = fashion_mnist.load_data()\n",
        "x_valid, x_train = x_train_all[:5000], x_train_all[5000:]\n",
        "y_valid, y_train = y_train_all[:5000], y_train_all[5000:]\n",
        "\n",
        "print(x_valid.shape, y_valid.shape)\n",
        "print(x_train.shape, y_train.shape)\n",
        "print(x_test.shape, y_test.shape)\n",
        "\n",
        "from sklearn.preprocessing import StandardScaler\n",
        "\n",
        "scaler = StandardScaler()\n",
        "x_train_scaled = scaler.fit_transform(\n",
        "    x_train.astype(np.float32).reshape(-1, 1)).reshape(-1, 28, 28, 1)\n",
        "x_valid_scaled = scaler.transform(\n",
        "    x_valid.astype(np.float32).reshape(-1, 1)).reshape(-1, 28, 28, 1)\n",
        "x_test_scaled = scaler.transform(\n",
        "    x_test.astype(np.float32).reshape(-1, 1)).reshape(-1, 28, 28, 1)\n",
        "\n",
        "def make_dataset(images, labels, epochs, batch_size, shuffle=True):\n",
        "    dataset = tf.data.Dataset.from_tensor_slices((images, labels))\n",
        "    if shuffle:\n",
        "        dataset = dataset.shuffle(10000)\n",
        "    dataset = dataset.repeat(epochs).batch(batch_size).prefetch(50)\n",
        "    return dataset\n",
        "\n",
        "batch_size = 128\n",
        "epochs = 100\n",
        "train_dataset = make_dataset(x_train_scaled, y_train, epochs, batch_size)"
      ],
      "execution_count": 0,
      "outputs": [
        {
          "output_type": "stream",
          "text": [
            "(5000, 28, 28) (5000,)\n",
            "(55000, 28, 28) (55000,)\n",
            "(10000, 28, 28) (10000,)\n"
          ],
          "name": "stdout"
        }
      ]
    },
    {
      "cell_type": "code",
      "metadata": {
        "id": "-maT949mW3YC",
        "colab_type": "code",
        "outputId": "3479356b-38d5-4852-92b2-66c3837470c9",
        "colab": {}
      },
      "source": [
        "model = keras.models.Sequential()\n",
        "with tf.device(logical_gpus[0].name):\n",
        "    model.add(keras.layers.Conv2D(filters=32, kernel_size=3,\n",
        "                                  padding='same',\n",
        "                                  activation='relu',\n",
        "                                  input_shape=(28, 28, 1)))\n",
        "    model.add(keras.layers.Conv2D(filters=32, kernel_size=3,\n",
        "                                  padding='same',\n",
        "                                  activation='relu'))\n",
        "    model.add(keras.layers.MaxPool2D(pool_size=2))\n",
        "    model.add(keras.layers.Conv2D(filters=64, kernel_size=3,\n",
        "                                  padding='same',\n",
        "                                  activation='relu'))\n",
        "    model.add(keras.layers.Conv2D(filters=64, kernel_size=3,\n",
        "                                  padding='same',\n",
        "                                  activation='relu'))\n",
        "    model.add(keras.layers.MaxPool2D(pool_size=2))\n",
        "\n",
        "with tf.device(logical_gpus[1].name):\n",
        "    model.add(keras.layers.Conv2D(filters=128, kernel_size=3,\n",
        "                                  padding='same',\n",
        "                                  activation='relu'))\n",
        "    model.add(keras.layers.Conv2D(filters=128, kernel_size=3,\n",
        "                                  padding='same',\n",
        "                                  activation='relu'))\n",
        "    model.add(keras.layers.MaxPool2D(pool_size=2))\n",
        "    model.add(keras.layers.Flatten())\n",
        "\n",
        "with tf.device(logical_gpus[2].name):\n",
        "    model.add(keras.layers.Dense(128, activation='relu'))\n",
        "    model.add(keras.layers.Dense(10, activation=\"softmax\"))\n",
        "\n",
        "model.compile(loss=\"sparse_categorical_crossentropy\",\n",
        "              optimizer = \"sgd\",\n",
        "              metrics = [\"accuracy\"])"
      ],
      "execution_count": 0,
      "outputs": [
        {
          "output_type": "stream",
          "text": [
            "Executing op RandomUniform in device /job:localhost/replica:0/task:0/device:GPU:0\n",
            "Executing op Sub in device /job:localhost/replica:0/task:0/device:GPU:0\n",
            "Executing op Mul in device /job:localhost/replica:0/task:0/device:GPU:0\n",
            "Executing op Add in device /job:localhost/replica:0/task:0/device:GPU:0\n",
            "Executing op VarHandleOp in device /job:localhost/replica:0/task:0/device:GPU:0\n",
            "Executing op VarIsInitializedOp in device /job:localhost/replica:0/task:0/device:GPU:0\n",
            "Executing op LogicalNot in device /job:localhost/replica:0/task:0/device:GPU:0\n",
            "Executing op Assert in device /job:localhost/replica:0/task:0/device:GPU:0\n",
            "Executing op AssignVariableOp in device /job:localhost/replica:0/task:0/device:GPU:0\n",
            "Executing op Fill in device /job:localhost/replica:0/task:0/device:GPU:0\n",
            "Executing op VarHandleOp in device /job:localhost/replica:0/task:0/device:GPU:0\n",
            "Executing op VarHandleOp in device /job:localhost/replica:0/task:0/device:GPU:0\n",
            "Executing op VarHandleOp in device /job:localhost/replica:0/task:0/device:GPU:0\n",
            "Executing op VarHandleOp in device /job:localhost/replica:0/task:0/device:GPU:0\n",
            "Executing op VarHandleOp in device /job:localhost/replica:0/task:0/device:GPU:0\n",
            "Executing op RandomUniform in device /job:localhost/replica:0/task:0/device:GPU:1\n",
            "Executing op Sub in device /job:localhost/replica:0/task:0/device:GPU:1\n",
            "Executing op Mul in device /job:localhost/replica:0/task:0/device:GPU:1\n",
            "Executing op Add in device /job:localhost/replica:0/task:0/device:GPU:1\n",
            "Executing op VarHandleOp in device /job:localhost/replica:0/task:0/device:GPU:1\n",
            "Executing op VarIsInitializedOp in device /job:localhost/replica:0/task:0/device:GPU:1\n",
            "Executing op LogicalNot in device /job:localhost/replica:0/task:0/device:GPU:1\n",
            "Executing op Assert in device /job:localhost/replica:0/task:0/device:GPU:1\n",
            "Executing op AssignVariableOp in device /job:localhost/replica:0/task:0/device:GPU:1\n",
            "Executing op Fill in device /job:localhost/replica:0/task:0/device:GPU:1\n",
            "Executing op VarHandleOp in device /job:localhost/replica:0/task:0/device:GPU:1\n",
            "Executing op VarHandleOp in device /job:localhost/replica:0/task:0/device:GPU:1\n",
            "Executing op RandomUniform in device /job:localhost/replica:0/task:0/device:GPU:2\n",
            "Executing op Sub in device /job:localhost/replica:0/task:0/device:GPU:2\n",
            "Executing op Mul in device /job:localhost/replica:0/task:0/device:GPU:2\n",
            "Executing op Add in device /job:localhost/replica:0/task:0/device:GPU:2\n",
            "Executing op VarHandleOp in device /job:localhost/replica:0/task:0/device:GPU:2\n",
            "Executing op VarIsInitializedOp in device /job:localhost/replica:0/task:0/device:GPU:2\n",
            "Executing op LogicalNot in device /job:localhost/replica:0/task:0/device:GPU:2\n",
            "Executing op Assert in device /job:localhost/replica:0/task:0/device:GPU:2\n",
            "Executing op AssignVariableOp in device /job:localhost/replica:0/task:0/device:GPU:2\n",
            "Executing op Fill in device /job:localhost/replica:0/task:0/device:GPU:2\n",
            "Executing op VarHandleOp in device /job:localhost/replica:0/task:0/device:GPU:2\n",
            "Executing op VarHandleOp in device /job:localhost/replica:0/task:0/device:GPU:2\n",
            "Executing op VarHandleOp in device /job:localhost/replica:0/task:0/device:GPU:2\n",
            "Executing op VarHandleOp in device /job:localhost/replica:0/task:0/device:GPU:0\n",
            "Executing op LogicalNot in device /job:localhost/replica:0/task:0/device:GPU:0\n",
            "Executing op Assert in device /job:localhost/replica:0/task:0/device:GPU:0\n"
          ],
          "name": "stdout"
        }
      ]
    },
    {
      "cell_type": "code",
      "metadata": {
        "id": "VlrhGo_TW3YF",
        "colab_type": "code",
        "outputId": "f6863137-4124-4a92-fc08-7af6fd271b23",
        "colab": {}
      },
      "source": [
        "history = model.fit(train_dataset,\n",
        "                    steps_per_epoch = x_train_scaled.shape[0] // batch_size,\n",
        "                    epochs=10)"
      ],
      "execution_count": 0,
      "outputs": [
        {
          "output_type": "stream",
          "text": [
            "Executing op OptimizeDataset in device /job:localhost/replica:0/task:0/device:CPU:0\n",
            "Executing op ModelDataset in device /job:localhost/replica:0/task:0/device:CPU:0\n",
            "Executing op AnonymousIteratorV2 in device /job:localhost/replica:0/task:0/device:CPU:0\n",
            "Executing op MakeIterator in device /job:localhost/replica:0/task:0/device:CPU:0\n",
            "Epoch 1/10\n",
            "Executing op IteratorGetNextSync in device /job:localhost/replica:0/task:0/device:CPU:0\n",
            "Executing op ExpandDims in device /job:localhost/replica:0/task:0/device:GPU:0\n"
          ],
          "name": "stdout"
        },
        {
          "output_type": "stream",
          "text": [
            "WARNING: Logging before flag parsing goes to stderr.\n",
            "W0623 04:17:19.839836 139630760539904 deprecation.py:323] From /home/stdcoutzyx/.local/lib/python3.5/site-packages/tensorflow/python/ops/math_grad.py:1250: add_dispatch_support.<locals>.wrapper (from tensorflow.python.ops.array_ops) is deprecated and will be removed in a future version.\n",
            "Instructions for updating:\n",
            "Use tf.where in 2.0, which has the same broadcast rule as np.where\n"
          ],
          "name": "stderr"
        },
        {
          "output_type": "stream",
          "text": [
            "Executing op VarHandleOp in device /job:localhost/replica:0/task:0/device:GPU:0\n",
            "Executing op AssignVariableOp in device /job:localhost/replica:0/task:0/device:GPU:0\n",
            "Executing op Cast in device /job:localhost/replica:0/task:0/device:GPU:0\n",
            "Executing op __inference_keras_scratch_graph_803 in device <unspecified>\n",
            "429/429 [==============================] - 5s 13ms/step - loss: 1.3203 - accuracy: 0.5582\n",
            "Epoch 2/10\n",
            "429/429 [==============================] - 4s 9ms/step - loss: 0.6002 - accuracy: 0.7753\n",
            "Epoch 3/10\n",
            "429/429 [==============================] - 4s 9ms/step - loss: 0.4901 - accuracy: 0.8173\n",
            "Epoch 4/10\n",
            "429/429 [==============================] - 4s 9ms/step - loss: 0.4315 - accuracy: 0.8404\n",
            "Epoch 5/10\n",
            "429/429 [==============================] - 4s 9ms/step - loss: 0.3979 - accuracy: 0.8531\n",
            "Epoch 6/10\n",
            "429/429 [==============================] - 4s 9ms/step - loss: 0.3696 - accuracy: 0.8647\n",
            "Epoch 7/10\n",
            "429/429 [==============================] - 4s 9ms/step - loss: 0.3503 - accuracy: 0.8718\n",
            "Epoch 8/10\n",
            "429/429 [==============================] - 4s 9ms/step - loss: 0.3347 - accuracy: 0.8776\n",
            "Epoch 9/10\n",
            "429/429 [==============================] - 4s 9ms/step - loss: 0.3220 - accuracy: 0.8811\n",
            "Epoch 10/10\n",
            "429/429 [==============================] - 4s 9ms/step - loss: 0.3089 - accuracy: 0.8857\n",
            "Executing op DeleteIterator in device /job:localhost/replica:0/task:0/device:CPU:0\n"
          ],
          "name": "stdout"
        }
      ]
    },
    {
      "cell_type": "markdown",
      "metadata": {
        "id": "gWugrRVbW3YJ",
        "colab_type": "text"
      },
      "source": [
        "## tf_distributed_keras_baseline"
      ]
    },
    {
      "cell_type": "code",
      "metadata": {
        "id": "1RdnQ3AhW3YK",
        "colab_type": "code",
        "outputId": "3d72c906-0371-4233-a8f8-607d008d2a50",
        "colab": {}
      },
      "source": [
        "import matplotlib as mpl\n",
        "import matplotlib.pyplot as plt\n",
        "%matplotlib inline\n",
        "import numpy as np\n",
        "import sklearn\n",
        "import pandas as pd\n",
        "import os\n",
        "import sys\n",
        "import time\n",
        "import tensorflow as tf\n",
        "\n",
        "from tensorflow import keras\n",
        "\n",
        "print(tf.__version__)\n",
        "print(sys.version_info)\n",
        "for module in mpl, np, pd, sklearn, tf, keras:\n",
        "    print(module.__name__, module.__version__)\n"
      ],
      "execution_count": 0,
      "outputs": [
        {
          "output_type": "stream",
          "text": [
            "2.0.0-beta1\n",
            "sys.version_info(major=3, minor=5, micro=3, releaselevel='final', serial=0)\n",
            "matplotlib 3.0.3\n",
            "numpy 1.16.4\n",
            "pandas 0.24.2\n",
            "sklearn 0.21.2\n",
            "tensorflow 2.0.0-beta1\n",
            "tensorflow.python.keras.api._v2.keras 2.2.4-tf\n"
          ],
          "name": "stdout"
        }
      ]
    },
    {
      "cell_type": "code",
      "metadata": {
        "id": "1wDR5w4vW3YN",
        "colab_type": "code",
        "outputId": "7f33af08-13cd-4570-a3b2-6e81aa0a90a5",
        "colab": {}
      },
      "source": [
        "tf.debugging.set_log_device_placement(True)\n",
        "gpus = tf.config.experimental.list_physical_devices('GPU')\n",
        "tf.config.experimental.set_visible_devices(gpus[3], 'GPU')\n",
        "for gpu in gpus:\n",
        "    tf.config.experimental.set_memory_growth(gpu, True)\n",
        "print(len(gpus))\n",
        "logical_gpus = tf.config.experimental.list_logical_devices('GPU')\n",
        "print(len(logical_gpus))\n"
      ],
      "execution_count": 0,
      "outputs": [
        {
          "output_type": "stream",
          "text": [
            "4\n",
            "1\n"
          ],
          "name": "stdout"
        }
      ]
    },
    {
      "cell_type": "code",
      "metadata": {
        "id": "cTfN9xEQW3YP",
        "colab_type": "code",
        "outputId": "ef6739f3-62e7-41a8-cb4e-3ae3de461a74",
        "colab": {}
      },
      "source": [
        "fashion_mnist = keras.datasets.fashion_mnist\n",
        "(x_train_all, y_train_all), (x_test, y_test) = fashion_mnist.load_data()\n",
        "x_valid, x_train = x_train_all[:5000], x_train_all[5000:]\n",
        "y_valid, y_train = y_train_all[:5000], y_train_all[5000:]\n",
        "\n",
        "print(x_valid.shape, y_valid.shape)\n",
        "print(x_train.shape, y_train.shape)\n",
        "print(x_test.shape, y_test.shape)"
      ],
      "execution_count": 0,
      "outputs": [
        {
          "output_type": "stream",
          "text": [
            "(5000, 28, 28) (5000,)\n",
            "(55000, 28, 28) (55000,)\n",
            "(10000, 28, 28) (10000,)\n"
          ],
          "name": "stdout"
        }
      ]
    },
    {
      "cell_type": "code",
      "metadata": {
        "id": "7LG2s-u_W3YS",
        "colab_type": "code",
        "colab": {}
      },
      "source": [
        "from sklearn.preprocessing import StandardScaler\n",
        "\n",
        "scaler = StandardScaler()\n",
        "x_train_scaled = scaler.fit_transform(\n",
        "    x_train.astype(np.float32).reshape(-1, 1)).reshape(-1, 28, 28, 1)\n",
        "x_valid_scaled = scaler.transform(\n",
        "    x_valid.astype(np.float32).reshape(-1, 1)).reshape(-1, 28, 28, 1)\n",
        "x_test_scaled = scaler.transform(\n",
        "    x_test.astype(np.float32).reshape(-1, 1)).reshape(-1, 28, 28, 1)\n"
      ],
      "execution_count": 0,
      "outputs": []
    },
    {
      "cell_type": "code",
      "metadata": {
        "id": "Wp3L0-6zW3YT",
        "colab_type": "code",
        "outputId": "21fd6668-4aae-477e-bfcb-900d63492ee9",
        "colab": {}
      },
      "source": [
        "def make_dataset(images, labels, epochs, batch_size, shuffle=True):\n",
        "    dataset = tf.data.Dataset.from_tensor_slices((images, labels))\n",
        "    if shuffle:\n",
        "        dataset = dataset.shuffle(10000)\n",
        "    dataset = dataset.repeat(epochs).batch(batch_size).prefetch(50)\n",
        "    return dataset\n",
        "\n",
        "batch_size = 256\n",
        "epochs = 100\n",
        "train_dataset = make_dataset(x_train_scaled, y_train, epochs, batch_size)"
      ],
      "execution_count": 0,
      "outputs": [
        {
          "output_type": "stream",
          "text": [
            "Executing op TensorSliceDataset in device /job:localhost/replica:0/task:0/device:CPU:0\n",
            "Executing op ShuffleDataset in device /job:localhost/replica:0/task:0/device:CPU:0\n",
            "Executing op RepeatDataset in device /job:localhost/replica:0/task:0/device:CPU:0\n",
            "Executing op BatchDatasetV2 in device /job:localhost/replica:0/task:0/device:CPU:0\n",
            "Executing op PrefetchDataset in device /job:localhost/replica:0/task:0/device:CPU:0\n"
          ],
          "name": "stdout"
        }
      ]
    },
    {
      "cell_type": "code",
      "metadata": {
        "id": "bJm-Rr2GW3YV",
        "colab_type": "code",
        "outputId": "d42544a4-6e6d-4fc2-bfbb-9741c8cfdfba",
        "colab": {}
      },
      "source": [
        "model = keras.models.Sequential()\n",
        "model.add(keras.layers.Conv2D(filters=128, kernel_size=3,\n",
        "                              padding='same',\n",
        "                              activation='relu',\n",
        "                              input_shape=(28, 28, 1)))\n",
        "model.add(keras.layers.Conv2D(filters=128, kernel_size=3,\n",
        "                              padding='same',\n",
        "                              activation='relu'))\n",
        "model.add(keras.layers.MaxPool2D(pool_size=2))\n",
        "model.add(keras.layers.Conv2D(filters=256, kernel_size=3,\n",
        "                              padding='same',\n",
        "                              activation='relu'))\n",
        "model.add(keras.layers.Conv2D(filters=256, kernel_size=3,\n",
        "                              padding='same',\n",
        "                              activation='relu'))\n",
        "model.add(keras.layers.MaxPool2D(pool_size=2))\n",
        "model.add(keras.layers.Conv2D(filters=512, kernel_size=3,\n",
        "                              padding='same',\n",
        "                              activation='relu'))\n",
        "model.add(keras.layers.Conv2D(filters=512, kernel_size=3,\n",
        "                              padding='same',\n",
        "                              activation='relu'))\n",
        "model.add(keras.layers.MaxPool2D(pool_size=2))\n",
        "model.add(keras.layers.Flatten())\n",
        "model.add(keras.layers.Dense(512, activation='relu'))\n",
        "model.add(keras.layers.Dense(10, activation=\"softmax\"))\n",
        "\n",
        "model.compile(loss=\"sparse_categorical_crossentropy\",\n",
        "              optimizer = \"sgd\",\n",
        "              metrics = [\"accuracy\"])"
      ],
      "execution_count": 0,
      "outputs": [
        {
          "output_type": "stream",
          "text": [
            "Executing op RandomUniform in device /job:localhost/replica:0/task:0/device:GPU:0\n",
            "Executing op Sub in device /job:localhost/replica:0/task:0/device:GPU:0\n",
            "Executing op Mul in device /job:localhost/replica:0/task:0/device:GPU:0\n",
            "Executing op Add in device /job:localhost/replica:0/task:0/device:GPU:0\n",
            "Executing op VarHandleOp in device /job:localhost/replica:0/task:0/device:GPU:0\n",
            "Executing op VarIsInitializedOp in device /job:localhost/replica:0/task:0/device:GPU:0\n",
            "Executing op LogicalNot in device /job:localhost/replica:0/task:0/device:GPU:0\n",
            "Executing op Assert in device /job:localhost/replica:0/task:0/device:GPU:0\n",
            "Executing op AssignVariableOp in device /job:localhost/replica:0/task:0/device:GPU:0\n",
            "Executing op Fill in device /job:localhost/replica:0/task:0/device:GPU:0\n",
            "Executing op VarHandleOp in device /job:localhost/replica:0/task:0/device:GPU:0\n",
            "Executing op VarHandleOp in device /job:localhost/replica:0/task:0/device:GPU:0\n",
            "Executing op VarHandleOp in device /job:localhost/replica:0/task:0/device:GPU:0\n",
            "Executing op VarHandleOp in device /job:localhost/replica:0/task:0/device:GPU:0\n",
            "Executing op VarHandleOp in device /job:localhost/replica:0/task:0/device:GPU:0\n",
            "Executing op VarHandleOp in device /job:localhost/replica:0/task:0/device:GPU:0\n",
            "Executing op VarHandleOp in device /job:localhost/replica:0/task:0/device:GPU:0\n",
            "Executing op VarHandleOp in device /job:localhost/replica:0/task:0/device:GPU:0\n",
            "Executing op VarHandleOp in device /job:localhost/replica:0/task:0/device:GPU:0\n",
            "Executing op VarHandleOp in device /job:localhost/replica:0/task:0/device:GPU:0\n",
            "Executing op VarHandleOp in device /job:localhost/replica:0/task:0/device:GPU:0\n",
            "Executing op VarHandleOp in device /job:localhost/replica:0/task:0/device:GPU:0\n"
          ],
          "name": "stdout"
        }
      ]
    },
    {
      "cell_type": "code",
      "metadata": {
        "id": "W4CMQYVoW3YX",
        "colab_type": "code",
        "outputId": "2e88d98b-6eed-4477-a7e9-b0772668fb14",
        "colab": {}
      },
      "source": [
        "model.summary()"
      ],
      "execution_count": 0,
      "outputs": [
        {
          "output_type": "stream",
          "text": [
            "Model: \"sequential\"\n",
            "_________________________________________________________________\n",
            "Layer (type)                 Output Shape              Param #   \n",
            "=================================================================\n",
            "conv2d (Conv2D)              (None, 28, 28, 128)       1280      \n",
            "_________________________________________________________________\n",
            "conv2d_1 (Conv2D)            (None, 28, 28, 128)       147584    \n",
            "_________________________________________________________________\n",
            "max_pooling2d (MaxPooling2D) (None, 14, 14, 128)       0         \n",
            "_________________________________________________________________\n",
            "conv2d_2 (Conv2D)            (None, 14, 14, 256)       295168    \n",
            "_________________________________________________________________\n",
            "conv2d_3 (Conv2D)            (None, 14, 14, 256)       590080    \n",
            "_________________________________________________________________\n",
            "max_pooling2d_1 (MaxPooling2 (None, 7, 7, 256)         0         \n",
            "_________________________________________________________________\n",
            "conv2d_4 (Conv2D)            (None, 7, 7, 512)         1180160   \n",
            "_________________________________________________________________\n",
            "conv2d_5 (Conv2D)            (None, 7, 7, 512)         2359808   \n",
            "_________________________________________________________________\n",
            "max_pooling2d_2 (MaxPooling2 (None, 3, 3, 512)         0         \n",
            "_________________________________________________________________\n",
            "flatten (Flatten)            (None, 4608)              0         \n",
            "_________________________________________________________________\n",
            "dense (Dense)                (None, 512)               2359808   \n",
            "_________________________________________________________________\n",
            "dense_1 (Dense)              (None, 10)                5130      \n",
            "=================================================================\n",
            "Total params: 6,939,018\n",
            "Trainable params: 6,939,018\n",
            "Non-trainable params: 0\n",
            "_________________________________________________________________\n"
          ],
          "name": "stdout"
        }
      ]
    },
    {
      "cell_type": "code",
      "metadata": {
        "id": "ErlQ1WFTW3YZ",
        "colab_type": "code",
        "outputId": "6c0ac00d-38f2-47c4-8513-bb2c303825f0",
        "colab": {}
      },
      "source": [
        "history = model.fit(train_dataset,\n",
        "                    steps_per_epoch = x_train_scaled.shape[0] // batch_size,\n",
        "                    epochs=10)"
      ],
      "execution_count": 0,
      "outputs": [
        {
          "output_type": "stream",
          "text": [
            "Executing op OptimizeDataset in device /job:localhost/replica:0/task:0/device:CPU:0\n",
            "Executing op ModelDataset in device /job:localhost/replica:0/task:0/device:CPU:0\n",
            "Executing op AnonymousIteratorV2 in device /job:localhost/replica:0/task:0/device:CPU:0\n",
            "Executing op MakeIterator in device /job:localhost/replica:0/task:0/device:CPU:0\n",
            "Epoch 1/10\n",
            "Executing op IteratorGetNextSync in device /job:localhost/replica:0/task:0/device:CPU:0\n",
            "Executing op ExpandDims in device /job:localhost/replica:0/task:0/device:GPU:0\n"
          ],
          "name": "stdout"
        },
        {
          "output_type": "stream",
          "text": [
            "WARNING: Logging before flag parsing goes to stderr.\n",
            "W0623 05:06:51.280887 140309845284608 deprecation.py:323] From /home/stdcoutzyx/.local/lib/python3.5/site-packages/tensorflow/python/ops/math_grad.py:1250: add_dispatch_support.<locals>.wrapper (from tensorflow.python.ops.array_ops) is deprecated and will be removed in a future version.\n",
            "Instructions for updating:\n",
            "Use tf.where in 2.0, which has the same broadcast rule as np.where\n"
          ],
          "name": "stderr"
        },
        {
          "output_type": "stream",
          "text": [
            "Executing op VarHandleOp in device /job:localhost/replica:0/task:0/device:GPU:0\n",
            "Executing op AssignVariableOp in device /job:localhost/replica:0/task:0/device:GPU:0\n",
            "Executing op Cast in device /job:localhost/replica:0/task:0/device:GPU:0\n",
            "Executing op __inference_keras_scratch_graph_803 in device <unspecified>\n",
            "214/214 [==============================] - 14s 67ms/step - loss: 1.7043 - accuracy: 0.4798\n",
            "Epoch 2/10\n",
            "214/214 [==============================] - 12s 54ms/step - loss: 0.7882 - accuracy: 0.7140\n",
            "Epoch 3/10\n",
            "214/214 [==============================] - 12s 54ms/step - loss: 0.6476 - accuracy: 0.7617\n",
            "Epoch 4/10\n",
            "214/214 [==============================] - 12s 54ms/step - loss: 0.5602 - accuracy: 0.7950\n",
            "Epoch 5/10\n",
            "214/214 [==============================] - 12s 54ms/step - loss: 0.5023 - accuracy: 0.8144\n",
            "Epoch 6/10\n",
            "214/214 [==============================] - 12s 54ms/step - loss: 0.4545 - accuracy: 0.8338\n",
            "Epoch 7/10\n",
            "214/214 [==============================] - 12s 54ms/step - loss: 0.4262 - accuracy: 0.8439\n",
            "Epoch 8/10\n",
            "214/214 [==============================] - 12s 54ms/step - loss: 0.4020 - accuracy: 0.8526\n",
            "Epoch 9/10\n",
            "214/214 [==============================] - 12s 54ms/step - loss: 0.3845 - accuracy: 0.8586\n",
            "Epoch 10/10\n",
            "214/214 [==============================] - 12s 54ms/step - loss: 0.3669 - accuracy: 0.8657\n",
            "Executing op DeleteIterator in device /job:localhost/replica:0/task:0/device:CPU:0\n"
          ],
          "name": "stdout"
        }
      ]
    },
    {
      "cell_type": "code",
      "metadata": {
        "id": "11L97ewCW3Ya",
        "colab_type": "code",
        "colab": {}
      },
      "source": [
        ""
      ],
      "execution_count": 0,
      "outputs": []
    },
    {
      "cell_type": "markdown",
      "metadata": {
        "id": "WSlK5_tBW3Yc",
        "colab_type": "text"
      },
      "source": [
        "## tf_distributed_keras"
      ]
    },
    {
      "cell_type": "code",
      "metadata": {
        "id": "DQM6-RF9W3Yc",
        "colab_type": "code",
        "outputId": "350ec99c-c50d-4e30-9ee1-649e2260d6a8",
        "colab": {}
      },
      "source": [
        "import matplotlib as mpl\n",
        "import matplotlib.pyplot as plt\n",
        "%matplotlib inline\n",
        "import numpy as np\n",
        "import sklearn\n",
        "import pandas as pd\n",
        "import os\n",
        "import sys\n",
        "import time\n",
        "import tensorflow as tf\n",
        "\n",
        "from tensorflow import keras\n",
        "\n",
        "print(tf.__version__)\n",
        "print(sys.version_info)\n",
        "for module in mpl, np, pd, sklearn, tf, keras:\n",
        "    print(module.__name__, module.__version__)\n"
      ],
      "execution_count": 0,
      "outputs": [
        {
          "output_type": "stream",
          "text": [
            "2.0.0-beta1\n",
            "sys.version_info(major=3, minor=5, micro=3, releaselevel='final', serial=0)\n",
            "matplotlib 3.0.3\n",
            "numpy 1.16.4\n",
            "pandas 0.24.2\n",
            "sklearn 0.21.2\n",
            "tensorflow 2.0.0-beta1\n",
            "tensorflow.python.keras.api._v2.keras 2.2.4-tf\n"
          ],
          "name": "stdout"
        }
      ]
    },
    {
      "cell_type": "code",
      "metadata": {
        "id": "SxDHeS6WW3Ye",
        "colab_type": "code",
        "outputId": "fd257d8c-a981-46f4-8a23-f83dd64c152c",
        "colab": {}
      },
      "source": [
        "tf.debugging.set_log_device_placement(True)\n",
        "gpus = tf.config.experimental.list_physical_devices('GPU')\n",
        "for gpu in gpus:\n",
        "    tf.config.experimental.set_memory_growth(gpu, True)\n",
        "print(len(gpus))\n",
        "logical_gpus = tf.config.experimental.list_logical_devices('GPU')\n",
        "print(len(logical_gpus))\n"
      ],
      "execution_count": 0,
      "outputs": [
        {
          "output_type": "stream",
          "text": [
            "4\n",
            "4\n"
          ],
          "name": "stdout"
        }
      ]
    },
    {
      "cell_type": "code",
      "metadata": {
        "id": "8LNYVDRNW3Yg",
        "colab_type": "code",
        "outputId": "5c81fb16-f9b4-4291-92a5-d2da61c4771c",
        "colab": {}
      },
      "source": [
        "fashion_mnist = keras.datasets.fashion_mnist\n",
        "(x_train_all, y_train_all), (x_test, y_test) = fashion_mnist.load_data()\n",
        "x_valid, x_train = x_train_all[:5000], x_train_all[5000:]\n",
        "y_valid, y_train = y_train_all[:5000], y_train_all[5000:]\n",
        "\n",
        "print(x_valid.shape, y_valid.shape)\n",
        "print(x_train.shape, y_train.shape)\n",
        "print(x_test.shape, y_test.shape)"
      ],
      "execution_count": 0,
      "outputs": [
        {
          "output_type": "stream",
          "text": [
            "(5000, 28, 28) (5000,)\n",
            "(55000, 28, 28) (55000,)\n",
            "(10000, 28, 28) (10000,)\n"
          ],
          "name": "stdout"
        }
      ]
    },
    {
      "cell_type": "code",
      "metadata": {
        "id": "1rNCtpovW3Yj",
        "colab_type": "code",
        "colab": {}
      },
      "source": [
        "from sklearn.preprocessing import StandardScaler\n",
        "\n",
        "scaler = StandardScaler()\n",
        "x_train_scaled = scaler.fit_transform(\n",
        "    x_train.astype(np.float32).reshape(-1, 1)).reshape(-1, 28, 28, 1)\n",
        "x_valid_scaled = scaler.transform(\n",
        "    x_valid.astype(np.float32).reshape(-1, 1)).reshape(-1, 28, 28, 1)\n",
        "x_test_scaled = scaler.transform(\n",
        "    x_test.astype(np.float32).reshape(-1, 1)).reshape(-1, 28, 28, 1)\n"
      ],
      "execution_count": 0,
      "outputs": []
    },
    {
      "cell_type": "code",
      "metadata": {
        "id": "MpIQv4CnW3Ym",
        "colab_type": "code",
        "outputId": "e170472e-e15d-4734-ec14-36603a74bb1b",
        "colab": {}
      },
      "source": [
        "def make_dataset(images, labels, epochs, batch_size, shuffle=True):\n",
        "    dataset = tf.data.Dataset.from_tensor_slices((images, labels))\n",
        "    if shuffle:\n",
        "        dataset = dataset.shuffle(10000)\n",
        "    dataset = dataset.repeat(epochs).batch(batch_size).prefetch(50)\n",
        "    return dataset\n",
        "\n",
        "# batch_size_per_replica = 256\n",
        "# batch_size = batch_size_per_replica * len(logical_gpus)\n",
        "batch_size = 256\n",
        "epochs = 100\n",
        "train_dataset = make_dataset(x_train_scaled, y_train, epochs, batch_size)"
      ],
      "execution_count": 0,
      "outputs": [
        {
          "output_type": "stream",
          "text": [
            "Executing op TensorSliceDataset in device /job:localhost/replica:0/task:0/device:CPU:0\n",
            "Executing op ShuffleDataset in device /job:localhost/replica:0/task:0/device:CPU:0\n",
            "Executing op RepeatDataset in device /job:localhost/replica:0/task:0/device:CPU:0\n",
            "Executing op BatchDatasetV2 in device /job:localhost/replica:0/task:0/device:CPU:0\n",
            "Executing op PrefetchDataset in device /job:localhost/replica:0/task:0/device:CPU:0\n"
          ],
          "name": "stdout"
        }
      ]
    },
    {
      "cell_type": "code",
      "metadata": {
        "id": "L-gHKixLW3Yn",
        "colab_type": "code",
        "outputId": "d7c83135-4a30-4cfc-fe6d-cecba7fd0ef1",
        "colab": {}
      },
      "source": [
        "strategy = tf.distribute.MirroredStrategy()\n",
        "\n",
        "with strategy.scope():\n",
        "    model = keras.models.Sequential()\n",
        "    model.add(keras.layers.Conv2D(filters=128, kernel_size=3,\n",
        "                                  padding='same',\n",
        "                                  activation='relu',\n",
        "                                  input_shape=(28, 28, 1)))\n",
        "    model.add(keras.layers.Conv2D(filters=128, kernel_size=3,\n",
        "                                  padding='same',\n",
        "                                  activation='relu'))\n",
        "    model.add(keras.layers.MaxPool2D(pool_size=2))\n",
        "    model.add(keras.layers.Conv2D(filters=256, kernel_size=3,\n",
        "                                  padding='same',\n",
        "                                  activation='relu'))\n",
        "    model.add(keras.layers.Conv2D(filters=256, kernel_size=3,\n",
        "                                  padding='same',\n",
        "                                  activation='relu'))\n",
        "    model.add(keras.layers.MaxPool2D(pool_size=2))\n",
        "    model.add(keras.layers.Conv2D(filters=512, kernel_size=3,\n",
        "                                  padding='same',\n",
        "                                  activation='relu'))\n",
        "    model.add(keras.layers.Conv2D(filters=512, kernel_size=3,\n",
        "                                  padding='same',\n",
        "                                  activation='relu'))\n",
        "    model.add(keras.layers.MaxPool2D(pool_size=2))\n",
        "    model.add(keras.layers.Flatten())\n",
        "    model.add(keras.layers.Dense(512, activation='relu'))\n",
        "    model.add(keras.layers.Dense(10, activation=\"softmax\"))\n",
        "\n",
        "    model.compile(loss=\"sparse_categorical_crossentropy\",\n",
        "                  optimizer = \"sgd\",\n",
        "                  metrics = [\"accuracy\"])"
      ],
      "execution_count": 0,
      "outputs": [
        {
          "output_type": "stream",
          "text": [
            "Executing op RandomUniform in device /job:localhost/replica:0/task:0/device:GPU:0\n",
            "Executing op Sub in device /job:localhost/replica:0/task:0/device:GPU:0\n",
            "Executing op Mul in device /job:localhost/replica:0/task:0/device:GPU:0\n",
            "Executing op Add in device /job:localhost/replica:0/task:0/device:GPU:0\n",
            "Executing op VarHandleOp in device /job:localhost/replica:0/task:0/device:GPU:0\n",
            "Executing op VarIsInitializedOp in device /job:localhost/replica:0/task:0/device:GPU:0\n",
            "Executing op LogicalNot in device /job:localhost/replica:0/task:0/device:GPU:0\n",
            "Executing op Assert in device /job:localhost/replica:0/task:0/device:GPU:0\n",
            "Executing op AssignVariableOp in device /job:localhost/replica:0/task:0/device:GPU:0\n",
            "Executing op ReadVariableOp in device /job:localhost/replica:0/task:0/device:GPU:0\n",
            "Executing op VarHandleOp in device /job:localhost/replica:0/task:0/device:GPU:1\n",
            "Executing op VarIsInitializedOp in device /job:localhost/replica:0/task:0/device:GPU:1\n",
            "Executing op LogicalNot in device /job:localhost/replica:0/task:0/device:GPU:1\n",
            "Executing op Assert in device /job:localhost/replica:0/task:0/device:GPU:1\n",
            "Executing op AssignVariableOp in device /job:localhost/replica:0/task:0/device:GPU:1\n",
            "Executing op VarHandleOp in device /job:localhost/replica:0/task:0/device:GPU:2\n",
            "Executing op VarIsInitializedOp in device /job:localhost/replica:0/task:0/device:GPU:2\n",
            "Executing op LogicalNot in device /job:localhost/replica:0/task:0/device:GPU:2\n",
            "Executing op Assert in device /job:localhost/replica:0/task:0/device:GPU:2\n",
            "Executing op AssignVariableOp in device /job:localhost/replica:0/task:0/device:GPU:2\n",
            "Executing op VarHandleOp in device /job:localhost/replica:0/task:0/device:GPU:3\n",
            "Executing op VarIsInitializedOp in device /job:localhost/replica:0/task:0/device:GPU:3\n",
            "Executing op LogicalNot in device /job:localhost/replica:0/task:0/device:GPU:3\n",
            "Executing op Assert in device /job:localhost/replica:0/task:0/device:GPU:3\n",
            "Executing op AssignVariableOp in device /job:localhost/replica:0/task:0/device:GPU:3\n",
            "Executing op Fill in device /job:localhost/replica:0/task:0/device:GPU:0\n",
            "Executing op VarHandleOp in device /job:localhost/replica:0/task:0/device:GPU:0\n",
            "Executing op VarHandleOp in device /job:localhost/replica:0/task:0/device:GPU:1\n",
            "Executing op VarHandleOp in device /job:localhost/replica:0/task:0/device:GPU:2\n",
            "Executing op VarHandleOp in device /job:localhost/replica:0/task:0/device:GPU:3\n",
            "Executing op VarHandleOp in device /job:localhost/replica:0/task:0/device:GPU:0\n",
            "Executing op VarHandleOp in device /job:localhost/replica:0/task:0/device:GPU:1\n",
            "Executing op VarHandleOp in device /job:localhost/replica:0/task:0/device:GPU:2\n",
            "Executing op VarHandleOp in device /job:localhost/replica:0/task:0/device:GPU:3\n",
            "Executing op VarHandleOp in device /job:localhost/replica:0/task:0/device:GPU:0\n",
            "Executing op VarHandleOp in device /job:localhost/replica:0/task:0/device:GPU:1\n",
            "Executing op VarHandleOp in device /job:localhost/replica:0/task:0/device:GPU:2\n",
            "Executing op VarHandleOp in device /job:localhost/replica:0/task:0/device:GPU:3\n",
            "Executing op VarHandleOp in device /job:localhost/replica:0/task:0/device:GPU:0\n",
            "Executing op VarHandleOp in device /job:localhost/replica:0/task:0/device:GPU:1\n",
            "Executing op VarHandleOp in device /job:localhost/replica:0/task:0/device:GPU:2\n",
            "Executing op VarHandleOp in device /job:localhost/replica:0/task:0/device:GPU:3\n",
            "Executing op VarHandleOp in device /job:localhost/replica:0/task:0/device:GPU:0\n",
            "Executing op VarHandleOp in device /job:localhost/replica:0/task:0/device:GPU:1\n",
            "Executing op VarHandleOp in device /job:localhost/replica:0/task:0/device:GPU:2\n",
            "Executing op VarHandleOp in device /job:localhost/replica:0/task:0/device:GPU:3\n",
            "Executing op VarHandleOp in device /job:localhost/replica:0/task:0/device:GPU:0\n",
            "Executing op VarHandleOp in device /job:localhost/replica:0/task:0/device:GPU:1\n",
            "Executing op VarHandleOp in device /job:localhost/replica:0/task:0/device:GPU:2\n",
            "Executing op VarHandleOp in device /job:localhost/replica:0/task:0/device:GPU:3\n",
            "Executing op VarHandleOp in device /job:localhost/replica:0/task:0/device:GPU:0\n",
            "Executing op VarHandleOp in device /job:localhost/replica:0/task:0/device:GPU:1\n",
            "Executing op VarHandleOp in device /job:localhost/replica:0/task:0/device:GPU:2\n",
            "Executing op VarHandleOp in device /job:localhost/replica:0/task:0/device:GPU:3\n",
            "Executing op VarHandleOp in device /job:localhost/replica:0/task:0/device:GPU:0\n",
            "Executing op VarHandleOp in device /job:localhost/replica:0/task:0/device:GPU:1\n",
            "Executing op VarHandleOp in device /job:localhost/replica:0/task:0/device:GPU:2\n",
            "Executing op VarHandleOp in device /job:localhost/replica:0/task:0/device:GPU:3\n",
            "Executing op VarHandleOp in device /job:localhost/replica:0/task:0/device:GPU:0\n",
            "Executing op VarHandleOp in device /job:localhost/replica:0/task:0/device:GPU:1\n",
            "Executing op VarHandleOp in device /job:localhost/replica:0/task:0/device:GPU:2\n",
            "Executing op VarHandleOp in device /job:localhost/replica:0/task:0/device:GPU:3\n",
            "Executing op VarHandleOp in device /job:localhost/replica:0/task:0/device:GPU:0\n",
            "Executing op VarHandleOp in device /job:localhost/replica:0/task:0/device:GPU:1\n",
            "Executing op VarHandleOp in device /job:localhost/replica:0/task:0/device:GPU:2\n",
            "Executing op VarHandleOp in device /job:localhost/replica:0/task:0/device:GPU:3\n",
            "Executing op VarHandleOp in device /job:localhost/replica:0/task:0/device:GPU:0\n",
            "Executing op VarHandleOp in device /job:localhost/replica:0/task:0/device:GPU:1\n",
            "Executing op VarHandleOp in device /job:localhost/replica:0/task:0/device:GPU:2\n",
            "Executing op VarHandleOp in device /job:localhost/replica:0/task:0/device:GPU:3\n",
            "Executing op VarHandleOp in device /job:localhost/replica:0/task:0/device:GPU:0\n",
            "Executing op VarHandleOp in device /job:localhost/replica:0/task:0/device:GPU:1\n",
            "Executing op VarHandleOp in device /job:localhost/replica:0/task:0/device:GPU:2\n",
            "Executing op VarHandleOp in device /job:localhost/replica:0/task:0/device:GPU:3\n"
          ],
          "name": "stdout"
        }
      ]
    },
    {
      "cell_type": "code",
      "metadata": {
        "id": "JHq1Fr6-W3Yp",
        "colab_type": "code",
        "outputId": "7ae430b7-34f5-4bb0-f1c4-f0d13f6c121c",
        "colab": {}
      },
      "source": [
        "model.summary()"
      ],
      "execution_count": 0,
      "outputs": [
        {
          "output_type": "stream",
          "text": [
            "Model: \"sequential\"\n",
            "_________________________________________________________________\n",
            "Layer (type)                 Output Shape              Param #   \n",
            "=================================================================\n",
            "conv2d (Conv2D)              (None, 28, 28, 128)       1280      \n",
            "_________________________________________________________________\n",
            "conv2d_1 (Conv2D)            (None, 28, 28, 128)       147584    \n",
            "_________________________________________________________________\n",
            "max_pooling2d (MaxPooling2D) (None, 14, 14, 128)       0         \n",
            "_________________________________________________________________\n",
            "conv2d_2 (Conv2D)            (None, 14, 14, 256)       295168    \n",
            "_________________________________________________________________\n",
            "conv2d_3 (Conv2D)            (None, 14, 14, 256)       590080    \n",
            "_________________________________________________________________\n",
            "max_pooling2d_1 (MaxPooling2 (None, 7, 7, 256)         0         \n",
            "_________________________________________________________________\n",
            "conv2d_4 (Conv2D)            (None, 7, 7, 512)         1180160   \n",
            "_________________________________________________________________\n",
            "conv2d_5 (Conv2D)            (None, 7, 7, 512)         2359808   \n",
            "_________________________________________________________________\n",
            "max_pooling2d_2 (MaxPooling2 (None, 3, 3, 512)         0         \n",
            "_________________________________________________________________\n",
            "flatten (Flatten)            (None, 4608)              0         \n",
            "_________________________________________________________________\n",
            "dense (Dense)                (None, 512)               2359808   \n",
            "_________________________________________________________________\n",
            "dense_1 (Dense)              (None, 10)                5130      \n",
            "=================================================================\n",
            "Total params: 6,939,018\n",
            "Trainable params: 6,939,018\n",
            "Non-trainable params: 0\n",
            "_________________________________________________________________\n"
          ],
          "name": "stdout"
        }
      ]
    },
    {
      "cell_type": "code",
      "metadata": {
        "id": "UjIO3JehW3Ys",
        "colab_type": "code",
        "outputId": "a819863a-d3f3-4480-af89-2189633a1bc0",
        "colab": {}
      },
      "source": [
        "history = model.fit(train_dataset,\n",
        "                    steps_per_epoch = x_train_scaled.shape[0] // batch_size,\n",
        "                    epochs=10)"
      ],
      "execution_count": 0,
      "outputs": [
        {
          "output_type": "stream",
          "text": [
            "Executing op ExperimentalRebatchDataset in device /job:localhost/replica:0/task:0/device:CPU:0\n",
            "Executing op ExperimentalAutoShardDataset in device /job:localhost/replica:0/task:0/device:CPU:0\n",
            "Executing op OptimizeDataset in device /job:localhost/replica:0/task:0/device:CPU:0\n",
            "Executing op ModelDataset in device /job:localhost/replica:0/task:0/device:CPU:0\n",
            "Executing op MultiDeviceIterator in device /job:localhost/replica:0/task:0/device:CPU:0\n",
            "Executing op MultiDeviceIteratorInit in device /job:localhost/replica:0/task:0/device:CPU:0\n",
            "Executing op MultiDeviceIteratorToStringHandle in device /job:localhost/replica:0/task:0/device:CPU:0\n",
            "Executing op GeneratorDataset in device /job:localhost/replica:0/task:0/device:GPU:0\n",
            "Executing op GeneratorDataset in device /job:localhost/replica:0/task:0/device:GPU:1\n",
            "Executing op GeneratorDataset in device /job:localhost/replica:0/task:0/device:GPU:2\n",
            "Executing op GeneratorDataset in device /job:localhost/replica:0/task:0/device:GPU:3\n",
            "Executing op PrefetchDataset in device /job:localhost/replica:0/task:0/device:GPU:0\n",
            "Executing op AnonymousIteratorV2 in device /job:localhost/replica:0/task:0/device:GPU:0\n",
            "Executing op MakeIterator in device /job:localhost/replica:0/task:0/device:GPU:0\n",
            "Executing op PrefetchDataset in device /job:localhost/replica:0/task:0/device:GPU:1\n",
            "Executing op AnonymousIteratorV2 in device /job:localhost/replica:0/task:0/device:GPU:1\n",
            "Executing op MakeIterator in device /job:localhost/replica:0/task:0/device:GPU:1\n",
            "Executing op PrefetchDataset in device /job:localhost/replica:0/task:0/device:GPU:2\n",
            "Executing op AnonymousIteratorV2 in device /job:localhost/replica:0/task:0/device:GPU:2\n",
            "Executing op MakeIterator in device /job:localhost/replica:0/task:0/device:GPU:2\n",
            "Executing op PrefetchDataset in device /job:localhost/replica:0/task:0/device:GPU:3\n",
            "Executing op AnonymousIteratorV2 in device /job:localhost/replica:0/task:0/device:GPU:3\n",
            "Executing op MakeIterator in device /job:localhost/replica:0/task:0/device:GPU:3\n",
            "Train on 214 steps\n",
            "Epoch 1/10\n",
            "Executing op VarHandleOp in device /job:localhost/replica:0/task:0/device:GPU:0\n",
            "Executing op AssignVariableOp in device /job:localhost/replica:0/task:0/device:GPU:0\n",
            "Executing op ReadVariableOp in device /job:localhost/replica:0/task:0/device:GPU:0\n",
            "Executing op VarHandleOp in device /job:localhost/replica:0/task:0/device:GPU:1\n",
            "Executing op AssignVariableOp in device /job:localhost/replica:0/task:0/device:GPU:1\n",
            "Executing op VarHandleOp in device /job:localhost/replica:0/task:0/device:GPU:2\n",
            "Executing op AssignVariableOp in device /job:localhost/replica:0/task:0/device:GPU:2\n",
            "Executing op VarHandleOp in device /job:localhost/replica:0/task:0/device:GPU:3\n",
            "Executing op AssignVariableOp in device /job:localhost/replica:0/task:0/device:GPU:3\n",
            "Executing op VarHandleOp in device /job:localhost/replica:0/task:0/device:GPU:0\n",
            "Executing op VarHandleOp in device /job:localhost/replica:0/task:0/device:GPU:1\n",
            "Executing op VarHandleOp in device /job:localhost/replica:0/task:0/device:GPU:2\n",
            "Executing op VarHandleOp in device /job:localhost/replica:0/task:0/device:GPU:3\n",
            "Executing op VarHandleOp in device /job:localhost/replica:0/task:0/device:GPU:0\n",
            "Executing op VarHandleOp in device /job:localhost/replica:0/task:0/device:GPU:1\n",
            "Executing op VarHandleOp in device /job:localhost/replica:0/task:0/device:GPU:2\n",
            "Executing op VarHandleOp in device /job:localhost/replica:0/task:0/device:GPU:3\n",
            "Executing op VarHandleOp in device /job:localhost/replica:0/task:0/device:GPU:0\n",
            "Executing op VarHandleOp in device /job:localhost/replica:0/task:0/device:GPU:1\n",
            "Executing op VarHandleOp in device /job:localhost/replica:0/task:0/device:GPU:2\n",
            "Executing op VarHandleOp in device /job:localhost/replica:0/task:0/device:GPU:3\n",
            "Executing op __inference_initialize_variables_2831 in device <unspecified>\n",
            "Executing op __inference_distributed_function_4215 in device <unspecified>\n",
            "214/214 [==============================] - 47s 221ms/step - loss: 1.8203 - accuracy: 0.4841\n",
            "Epoch 2/10\n",
            "214/214 [==============================] - 7s 33ms/step - loss: 0.7559 - accuracy: 0.7126\n",
            "Epoch 3/10\n",
            "214/214 [==============================] - 7s 33ms/step - loss: 0.6088 - accuracy: 0.7705\n",
            "Epoch 4/10\n",
            "214/214 [==============================] - 7s 33ms/step - loss: 0.5282 - accuracy: 0.8030\n",
            "Epoch 5/10\n",
            "214/214 [==============================] - 7s 33ms/step - loss: 0.4780 - accuracy: 0.8218\n",
            "Epoch 6/10\n",
            "214/214 [==============================] - 7s 33ms/step - loss: 0.4450 - accuracy: 0.8354\n",
            "Epoch 7/10\n",
            "214/214 [==============================] - 7s 33ms/step - loss: 0.4133 - accuracy: 0.8486\n",
            "Epoch 8/10\n",
            "214/214 [==============================] - 7s 33ms/step - loss: 0.3924 - accuracy: 0.8551\n",
            "Epoch 9/10\n",
            "214/214 [==============================] - 7s 33ms/step - loss: 0.3760 - accuracy: 0.8617\n",
            "Epoch 10/10\n",
            "214/214 [==============================] - 7s 33ms/step - loss: 0.3577 - accuracy: 0.8700\n",
            "Executing op DestroyResourceOp in device /job:localhost/replica:0/task:0/device:CPU:0\n",
            "Executing op DeleteIterator in device /job:localhost/replica:0/task:0/device:GPU:3\n",
            "Executing op DeleteIterator in device /job:localhost/replica:0/task:0/device:GPU:2\n",
            "Executing op DeleteIterator in device /job:localhost/replica:0/task:0/device:GPU:1\n",
            "Executing op DeleteIterator in device /job:localhost/replica:0/task:0/device:GPU:0\n"
          ],
          "name": "stdout"
        }
      ]
    },
    {
      "cell_type": "code",
      "metadata": {
        "id": "fGbg_Lw6W3Yt",
        "colab_type": "code",
        "colab": {}
      },
      "source": [
        ""
      ],
      "execution_count": 0,
      "outputs": []
    },
    {
      "cell_type": "markdown",
      "metadata": {
        "id": "2NoL7w2iW3Yv",
        "colab_type": "text"
      },
      "source": [
        "## tf_distributed_estimator_baseline"
      ]
    },
    {
      "cell_type": "code",
      "metadata": {
        "id": "obkXufxVW3Yw",
        "colab_type": "code",
        "outputId": "e42891ab-73b7-4aeb-d385-a5deecdf8640",
        "colab": {}
      },
      "source": [
        "import matplotlib as mpl\n",
        "import matplotlib.pyplot as plt\n",
        "%matplotlib inline\n",
        "import numpy as np\n",
        "import sklearn\n",
        "import pandas as pd\n",
        "import os\n",
        "import sys\n",
        "import time\n",
        "import tensorflow as tf\n",
        "\n",
        "from tensorflow import keras\n",
        "\n",
        "print(tf.__version__)\n",
        "print(sys.version_info)\n",
        "for module in mpl, np, pd, sklearn, tf, keras:\n",
        "    print(module.__name__, module.__version__)\n"
      ],
      "execution_count": 0,
      "outputs": [
        {
          "output_type": "stream",
          "text": [
            "2.0.0-beta1\n",
            "sys.version_info(major=3, minor=5, micro=3, releaselevel='final', serial=0)\n",
            "matplotlib 3.0.3\n",
            "numpy 1.16.4\n",
            "pandas 0.24.2\n",
            "sklearn 0.21.2\n",
            "tensorflow 2.0.0-beta1\n",
            "tensorflow.python.keras.api._v2.keras 2.2.4-tf\n"
          ],
          "name": "stdout"
        }
      ]
    },
    {
      "cell_type": "code",
      "metadata": {
        "id": "-Uw2PrVOW3Yx",
        "colab_type": "code",
        "outputId": "7dd1f428-ec0e-43ac-a92e-b62a22ef367f",
        "colab": {}
      },
      "source": [
        "tf.debugging.set_log_device_placement(True)\n",
        "gpus = tf.config.experimental.list_physical_devices('GPU')\n",
        "for gpu in gpus:\n",
        "    tf.config.experimental.set_memory_growth(gpu, True)\n",
        "print(len(gpus))\n",
        "logical_gpus = tf.config.experimental.list_logical_devices('GPU')\n",
        "print(len(logical_gpus))\n"
      ],
      "execution_count": 0,
      "outputs": [
        {
          "output_type": "stream",
          "text": [
            "4\n",
            "4\n"
          ],
          "name": "stdout"
        }
      ]
    },
    {
      "cell_type": "code",
      "metadata": {
        "id": "MviIMoQIW3Yz",
        "colab_type": "code",
        "outputId": "52cb6850-7469-4dfa-d885-f0309bb175a9",
        "colab": {}
      },
      "source": [
        "fashion_mnist = keras.datasets.fashion_mnist\n",
        "(x_train_all, y_train_all), (x_test, y_test) = fashion_mnist.load_data()\n",
        "x_valid, x_train = x_train_all[:5000], x_train_all[5000:]\n",
        "y_valid, y_train = y_train_all[:5000], y_train_all[5000:]\n",
        "\n",
        "print(x_valid.shape, y_valid.shape)\n",
        "print(x_train.shape, y_train.shape)\n",
        "print(x_test.shape, y_test.shape)"
      ],
      "execution_count": 0,
      "outputs": [
        {
          "output_type": "stream",
          "text": [
            "(5000, 28, 28) (5000,)\n",
            "(55000, 28, 28) (55000,)\n",
            "(10000, 28, 28) (10000,)\n"
          ],
          "name": "stdout"
        }
      ]
    },
    {
      "cell_type": "code",
      "metadata": {
        "id": "83xUAxhhW3Y1",
        "colab_type": "code",
        "colab": {}
      },
      "source": [
        "from sklearn.preprocessing import StandardScaler\n",
        "\n",
        "scaler = StandardScaler()\n",
        "x_train_scaled = scaler.fit_transform(\n",
        "    x_train.astype(np.float32).reshape(-1, 1)).reshape(-1, 28, 28, 1)\n",
        "x_valid_scaled = scaler.transform(\n",
        "    x_valid.astype(np.float32).reshape(-1, 1)).reshape(-1, 28, 28, 1)\n",
        "x_test_scaled = scaler.transform(\n",
        "    x_test.astype(np.float32).reshape(-1, 1)).reshape(-1, 28, 28, 1)\n"
      ],
      "execution_count": 0,
      "outputs": []
    },
    {
      "cell_type": "code",
      "metadata": {
        "id": "2UczS6tmW3Y2",
        "colab_type": "code",
        "outputId": "c2e60747-493a-435b-ae40-6bb9bf932c61",
        "colab": {}
      },
      "source": [
        "def make_dataset(images, labels, epochs, batch_size, shuffle=True):\n",
        "    dataset = tf.data.Dataset.from_tensor_slices((images, labels))\n",
        "    if shuffle:\n",
        "        dataset = dataset.shuffle(10000)\n",
        "    dataset = dataset.repeat(epochs).batch(batch_size).prefetch(50)\n",
        "    return dataset\n",
        "\n",
        "batch_size = 256\n",
        "epochs = 100\n",
        "train_dataset = make_dataset(x_train_scaled, y_train, epochs, batch_size)"
      ],
      "execution_count": 0,
      "outputs": [
        {
          "output_type": "stream",
          "text": [
            "Executing op TensorSliceDataset in device /job:localhost/replica:0/task:0/device:CPU:0\n",
            "Executing op ShuffleDataset in device /job:localhost/replica:0/task:0/device:CPU:0\n",
            "Executing op RepeatDataset in device /job:localhost/replica:0/task:0/device:CPU:0\n",
            "Executing op BatchDatasetV2 in device /job:localhost/replica:0/task:0/device:CPU:0\n",
            "Executing op PrefetchDataset in device /job:localhost/replica:0/task:0/device:CPU:0\n"
          ],
          "name": "stdout"
        }
      ]
    },
    {
      "cell_type": "code",
      "metadata": {
        "id": "DSLkyeBpW3Y4",
        "colab_type": "code",
        "outputId": "3962c7de-b186-405b-9660-4fb75db1d812",
        "colab": {}
      },
      "source": [
        "model = keras.models.Sequential()\n",
        "model.add(keras.layers.Conv2D(filters=128, kernel_size=3,\n",
        "                              padding='same',\n",
        "                              activation='relu',\n",
        "                              input_shape=(28, 28, 1)))\n",
        "model.add(keras.layers.Conv2D(filters=128, kernel_size=3,\n",
        "                              padding='same',\n",
        "                              activation='relu'))\n",
        "model.add(keras.layers.MaxPool2D(pool_size=2))\n",
        "model.add(keras.layers.Conv2D(filters=256, kernel_size=3,\n",
        "                              padding='same',\n",
        "                              activation='relu'))\n",
        "model.add(keras.layers.Conv2D(filters=256, kernel_size=3,\n",
        "                              padding='same',\n",
        "                              activation='relu'))\n",
        "model.add(keras.layers.MaxPool2D(pool_size=2))\n",
        "model.add(keras.layers.Conv2D(filters=512, kernel_size=3,\n",
        "                              padding='same',\n",
        "                              activation='relu'))\n",
        "model.add(keras.layers.Conv2D(filters=512, kernel_size=3,\n",
        "                              padding='same',\n",
        "                              activation='relu'))\n",
        "model.add(keras.layers.MaxPool2D(pool_size=2))\n",
        "model.add(keras.layers.Flatten())\n",
        "model.add(keras.layers.Dense(512, activation='relu'))\n",
        "model.add(keras.layers.Dense(10, activation=\"softmax\"))\n",
        "\n",
        "model.compile(loss=\"sparse_categorical_crossentropy\",\n",
        "              optimizer = \"sgd\",\n",
        "              metrics = [\"accuracy\"])\n",
        "\n",
        "estimator = keras.estimator.model_to_estimator(model)"
      ],
      "execution_count": 0,
      "outputs": [
        {
          "output_type": "stream",
          "text": [
            "Executing op RandomUniform in device /job:localhost/replica:0/task:0/device:GPU:0\n",
            "Executing op Sub in device /job:localhost/replica:0/task:0/device:GPU:0\n",
            "Executing op Mul in device /job:localhost/replica:0/task:0/device:GPU:0\n",
            "Executing op Add in device /job:localhost/replica:0/task:0/device:GPU:0\n",
            "Executing op VarHandleOp in device /job:localhost/replica:0/task:0/device:GPU:0\n",
            "Executing op VarIsInitializedOp in device /job:localhost/replica:0/task:0/device:GPU:0\n",
            "Executing op LogicalNot in device /job:localhost/replica:0/task:0/device:GPU:0\n",
            "Executing op Assert in device /job:localhost/replica:0/task:0/device:GPU:0\n",
            "Executing op AssignVariableOp in device /job:localhost/replica:0/task:0/device:GPU:0\n",
            "Executing op Fill in device /job:localhost/replica:0/task:0/device:GPU:0\n",
            "Executing op VarHandleOp in device /job:localhost/replica:0/task:0/device:GPU:0\n",
            "Executing op VarHandleOp in device /job:localhost/replica:0/task:0/device:GPU:0\n",
            "Executing op VarHandleOp in device /job:localhost/replica:0/task:0/device:GPU:0\n",
            "Executing op VarHandleOp in device /job:localhost/replica:0/task:0/device:GPU:0\n",
            "Executing op VarHandleOp in device /job:localhost/replica:0/task:0/device:GPU:0\n",
            "Executing op VarHandleOp in device /job:localhost/replica:0/task:0/device:GPU:0\n",
            "Executing op VarHandleOp in device /job:localhost/replica:0/task:0/device:GPU:0\n",
            "Executing op VarHandleOp in device /job:localhost/replica:0/task:0/device:GPU:0\n",
            "Executing op VarHandleOp in device /job:localhost/replica:0/task:0/device:GPU:0\n",
            "Executing op VarHandleOp in device /job:localhost/replica:0/task:0/device:GPU:0\n",
            "Executing op VarHandleOp in device /job:localhost/replica:0/task:0/device:GPU:0\n",
            "Executing op VarHandleOp in device /job:localhost/replica:0/task:0/device:GPU:0\n"
          ],
          "name": "stdout"
        },
        {
          "output_type": "stream",
          "text": [
            "WARNING: Logging before flag parsing goes to stderr.\n",
            "W0623 08:25:13.505529 139775272032000 estimator.py:1811] Using temporary folder as model directory: /tmp/tmpaqy1qljv\n"
          ],
          "name": "stderr"
        },
        {
          "output_type": "stream",
          "text": [
            "Executing op ReadVariableOp in device /job:localhost/replica:0/task:0/device:GPU:0\n"
          ],
          "name": "stdout"
        }
      ]
    },
    {
      "cell_type": "code",
      "metadata": {
        "id": "mT0bFDnrW3Y5",
        "colab_type": "code",
        "outputId": "b2264895-46ed-42eb-8964-d80cc52dca28",
        "colab": {}
      },
      "source": [
        "model.summary()"
      ],
      "execution_count": 0,
      "outputs": [
        {
          "output_type": "stream",
          "text": [
            "Model: \"sequential\"\n",
            "_________________________________________________________________\n",
            "Layer (type)                 Output Shape              Param #   \n",
            "=================================================================\n",
            "conv2d (Conv2D)              (None, 28, 28, 128)       1280      \n",
            "_________________________________________________________________\n",
            "conv2d_1 (Conv2D)            (None, 28, 28, 128)       147584    \n",
            "_________________________________________________________________\n",
            "max_pooling2d (MaxPooling2D) (None, 14, 14, 128)       0         \n",
            "_________________________________________________________________\n",
            "conv2d_2 (Conv2D)            (None, 14, 14, 256)       295168    \n",
            "_________________________________________________________________\n",
            "conv2d_3 (Conv2D)            (None, 14, 14, 256)       590080    \n",
            "_________________________________________________________________\n",
            "max_pooling2d_1 (MaxPooling2 (None, 7, 7, 256)         0         \n",
            "_________________________________________________________________\n",
            "conv2d_4 (Conv2D)            (None, 7, 7, 512)         1180160   \n",
            "_________________________________________________________________\n",
            "conv2d_5 (Conv2D)            (None, 7, 7, 512)         2359808   \n",
            "_________________________________________________________________\n",
            "max_pooling2d_2 (MaxPooling2 (None, 3, 3, 512)         0         \n",
            "_________________________________________________________________\n",
            "flatten (Flatten)            (None, 4608)              0         \n",
            "_________________________________________________________________\n",
            "dense (Dense)                (None, 512)               2359808   \n",
            "_________________________________________________________________\n",
            "dense_1 (Dense)              (None, 10)                5130      \n",
            "=================================================================\n",
            "Total params: 6,939,018\n",
            "Trainable params: 6,939,018\n",
            "Non-trainable params: 0\n",
            "_________________________________________________________________\n"
          ],
          "name": "stdout"
        }
      ]
    },
    {
      "cell_type": "code",
      "metadata": {
        "id": "c6EyGtavW3Y7",
        "colab_type": "code",
        "outputId": "f6b9c353-b23e-4f47-802d-aad6b0f12453",
        "colab": {}
      },
      "source": [
        "estimator.train(\n",
        "    input_fn = lambda : make_dataset(\n",
        "        x_train_scaled, y_train, epochs, batch_size),\n",
        "    max_steps = 5000)"
      ],
      "execution_count": 0,
      "outputs": [
        {
          "output_type": "stream",
          "text": [
            "W0623 08:27:29.854499 139775272032000 deprecation.py:323] From /home/stdcoutzyx/.local/lib/python3.5/site-packages/tensorflow/python/training/training_util.py:236: Variable.initialized_value (from tensorflow.python.ops.variables) is deprecated and will be removed in a future version.\n",
            "Instructions for updating:\n",
            "Use Variable.read_value. Variables in 2.X are initialized automatically both in eager and graph (inside tf.defun) contexts.\n",
            "W0623 08:27:33.361842 139775272032000 deprecation.py:323] From /home/stdcoutzyx/.local/lib/python3.5/site-packages/tensorflow/python/ops/array_ops.py:1340: add_dispatch_support.<locals>.wrapper (from tensorflow.python.ops.array_ops) is deprecated and will be removed in a future version.\n",
            "Instructions for updating:\n",
            "Use tf.where in 2.0, which has the same broadcast rule as np.where\n"
          ],
          "name": "stderr"
        },
        {
          "output_type": "execute_result",
          "data": {
            "text/plain": [
              "<tensorflow_estimator.python.estimator.estimator.Estimator at 0x7f1e2c073c50>"
            ]
          },
          "metadata": {
            "tags": []
          },
          "execution_count": 8
        }
      ]
    },
    {
      "cell_type": "code",
      "metadata": {
        "id": "tidXfVQlW3Y8",
        "colab_type": "code",
        "colab": {}
      },
      "source": [
        ""
      ],
      "execution_count": 0,
      "outputs": []
    },
    {
      "cell_type": "markdown",
      "metadata": {
        "id": "YlA3XQC4W3Y9",
        "colab_type": "text"
      },
      "source": [
        "## tf_distributed_estimator"
      ]
    },
    {
      "cell_type": "code",
      "metadata": {
        "id": "3G20e1ncW3Y9",
        "colab_type": "code",
        "outputId": "ec5f9759-a7b9-4c13-d384-79a51243b3f1",
        "colab": {}
      },
      "source": [
        "import matplotlib as mpl\n",
        "import matplotlib.pyplot as plt\n",
        "%matplotlib inline\n",
        "import numpy as np\n",
        "import sklearn\n",
        "import pandas as pd\n",
        "import os\n",
        "import sys\n",
        "import time\n",
        "import tensorflow as tf\n",
        "\n",
        "from tensorflow import keras\n",
        "\n",
        "print(tf.__version__)\n",
        "print(sys.version_info)\n",
        "for module in mpl, np, pd, sklearn, tf, keras:\n",
        "    print(module.__name__, module.__version__)\n"
      ],
      "execution_count": 0,
      "outputs": [
        {
          "output_type": "stream",
          "text": [
            "2.0.0-beta1\n",
            "sys.version_info(major=3, minor=5, micro=3, releaselevel='final', serial=0)\n",
            "matplotlib 3.0.3\n",
            "numpy 1.16.4\n",
            "pandas 0.24.2\n",
            "sklearn 0.21.2\n",
            "tensorflow 2.0.0-beta1\n",
            "tensorflow.python.keras.api._v2.keras 2.2.4-tf\n"
          ],
          "name": "stdout"
        }
      ]
    },
    {
      "cell_type": "code",
      "metadata": {
        "id": "CB12Q7-OW3Y_",
        "colab_type": "code",
        "outputId": "69e72187-e69b-407c-8bc6-39b67b5a0185",
        "colab": {}
      },
      "source": [
        "tf.debugging.set_log_device_placement(True)\n",
        "gpus = tf.config.experimental.list_physical_devices('GPU')\n",
        "for gpu in gpus:\n",
        "    tf.config.experimental.set_memory_growth(gpu, True)\n",
        "print(len(gpus))\n",
        "logical_gpus = tf.config.experimental.list_logical_devices('GPU')\n",
        "print(len(logical_gpus))\n"
      ],
      "execution_count": 0,
      "outputs": [
        {
          "output_type": "stream",
          "text": [
            "4\n",
            "4\n"
          ],
          "name": "stdout"
        }
      ]
    },
    {
      "cell_type": "code",
      "metadata": {
        "id": "5JjUoqcHW3ZB",
        "colab_type": "code",
        "outputId": "0c7061d6-6377-45d8-d41e-fd307de05c75",
        "colab": {}
      },
      "source": [
        "fashion_mnist = keras.datasets.fashion_mnist\n",
        "(x_train_all, y_train_all), (x_test, y_test) = fashion_mnist.load_data()\n",
        "x_valid, x_train = x_train_all[:5000], x_train_all[5000:]\n",
        "y_valid, y_train = y_train_all[:5000], y_train_all[5000:]\n",
        "\n",
        "print(x_valid.shape, y_valid.shape)\n",
        "print(x_train.shape, y_train.shape)\n",
        "print(x_test.shape, y_test.shape)"
      ],
      "execution_count": 0,
      "outputs": [
        {
          "output_type": "stream",
          "text": [
            "(5000, 28, 28) (5000,)\n",
            "(55000, 28, 28) (55000,)\n",
            "(10000, 28, 28) (10000,)\n"
          ],
          "name": "stdout"
        }
      ]
    },
    {
      "cell_type": "code",
      "metadata": {
        "id": "7AUW5UyPW3ZD",
        "colab_type": "code",
        "colab": {}
      },
      "source": [
        "from sklearn.preprocessing import StandardScaler\n",
        "\n",
        "scaler = StandardScaler()\n",
        "x_train_scaled = scaler.fit_transform(\n",
        "    x_train.astype(np.float32).reshape(-1, 1)).reshape(-1, 28, 28, 1)\n",
        "x_valid_scaled = scaler.transform(\n",
        "    x_valid.astype(np.float32).reshape(-1, 1)).reshape(-1, 28, 28, 1)\n",
        "x_test_scaled = scaler.transform(\n",
        "    x_test.astype(np.float32).reshape(-1, 1)).reshape(-1, 28, 28, 1)\n"
      ],
      "execution_count": 0,
      "outputs": []
    },
    {
      "cell_type": "code",
      "metadata": {
        "id": "ZhW887UIW3ZE",
        "colab_type": "code",
        "outputId": "64af90c9-8dc6-472a-87d7-3c72f64fd8a2",
        "colab": {}
      },
      "source": [
        "def make_dataset(images, labels, epochs, batch_size, shuffle=True):\n",
        "    dataset = tf.data.Dataset.from_tensor_slices((images, labels))\n",
        "    if shuffle:\n",
        "        dataset = dataset.shuffle(10000)\n",
        "    dataset = dataset.repeat(epochs).batch(batch_size).prefetch(50)\n",
        "    return dataset\n",
        "\n",
        "batch_size = 256\n",
        "epochs = 100\n",
        "train_dataset = make_dataset(x_train_scaled, y_train, epochs, batch_size)"
      ],
      "execution_count": 0,
      "outputs": [
        {
          "output_type": "stream",
          "text": [
            "Executing op TensorSliceDataset in device /job:localhost/replica:0/task:0/device:CPU:0\n",
            "Executing op ShuffleDataset in device /job:localhost/replica:0/task:0/device:CPU:0\n",
            "Executing op RepeatDataset in device /job:localhost/replica:0/task:0/device:CPU:0\n",
            "Executing op BatchDatasetV2 in device /job:localhost/replica:0/task:0/device:CPU:0\n",
            "Executing op PrefetchDataset in device /job:localhost/replica:0/task:0/device:CPU:0\n"
          ],
          "name": "stdout"
        }
      ]
    },
    {
      "cell_type": "code",
      "metadata": {
        "id": "-wnG0ou5W3ZG",
        "colab_type": "code",
        "outputId": "311f523a-736f-4fd3-8809-7cfb71e84dda",
        "colab": {}
      },
      "source": [
        "model = keras.models.Sequential()\n",
        "model.add(keras.layers.Conv2D(filters=128, kernel_size=3,\n",
        "                              padding='same',\n",
        "                              activation='relu',\n",
        "                              input_shape=(28, 28, 1)))\n",
        "model.add(keras.layers.Conv2D(filters=128, kernel_size=3,\n",
        "                              padding='same',\n",
        "                              activation='relu'))\n",
        "model.add(keras.layers.MaxPool2D(pool_size=2))\n",
        "model.add(keras.layers.Conv2D(filters=256, kernel_size=3,\n",
        "                              padding='same',\n",
        "                              activation='relu'))\n",
        "model.add(keras.layers.Conv2D(filters=256, kernel_size=3,\n",
        "                              padding='same',\n",
        "                              activation='relu'))\n",
        "model.add(keras.layers.MaxPool2D(pool_size=2))\n",
        "model.add(keras.layers.Conv2D(filters=512, kernel_size=3,\n",
        "                              padding='same',\n",
        "                              activation='relu'))\n",
        "model.add(keras.layers.Conv2D(filters=512, kernel_size=3,\n",
        "                              padding='same',\n",
        "                              activation='relu'))\n",
        "model.add(keras.layers.MaxPool2D(pool_size=2))\n",
        "model.add(keras.layers.Flatten())\n",
        "model.add(keras.layers.Dense(512, activation='relu'))\n",
        "model.add(keras.layers.Dense(10, activation=\"softmax\"))\n",
        "\n",
        "model.compile(loss=\"sparse_categorical_crossentropy\",\n",
        "              optimizer = \"sgd\",\n",
        "              metrics = [\"accuracy\"])\n",
        "\n",
        "strategy = tf.distribute.MirroredStrategy()\n",
        "config = tf.estimator.RunConfig(\n",
        "    train_distribute = strategy)\n",
        "estimator = keras.estimator.model_to_estimator(model, config=config)"
      ],
      "execution_count": 0,
      "outputs": [
        {
          "output_type": "stream",
          "text": [
            "Executing op RandomUniform in device /job:localhost/replica:0/task:0/device:GPU:0\n",
            "Executing op Sub in device /job:localhost/replica:0/task:0/device:GPU:0\n",
            "Executing op Mul in device /job:localhost/replica:0/task:0/device:GPU:0\n",
            "Executing op Add in device /job:localhost/replica:0/task:0/device:GPU:0\n",
            "Executing op VarHandleOp in device /job:localhost/replica:0/task:0/device:GPU:0\n",
            "Executing op VarIsInitializedOp in device /job:localhost/replica:0/task:0/device:GPU:0\n",
            "Executing op LogicalNot in device /job:localhost/replica:0/task:0/device:GPU:0\n",
            "Executing op Assert in device /job:localhost/replica:0/task:0/device:GPU:0\n",
            "Executing op AssignVariableOp in device /job:localhost/replica:0/task:0/device:GPU:0\n",
            "Executing op Fill in device /job:localhost/replica:0/task:0/device:GPU:0\n",
            "Executing op VarHandleOp in device /job:localhost/replica:0/task:0/device:GPU:0\n",
            "Executing op VarHandleOp in device /job:localhost/replica:0/task:0/device:GPU:0\n",
            "Executing op VarHandleOp in device /job:localhost/replica:0/task:0/device:GPU:0\n",
            "Executing op VarHandleOp in device /job:localhost/replica:0/task:0/device:GPU:0\n",
            "Executing op VarHandleOp in device /job:localhost/replica:0/task:0/device:GPU:0\n",
            "Executing op VarHandleOp in device /job:localhost/replica:0/task:0/device:GPU:0\n",
            "Executing op VarHandleOp in device /job:localhost/replica:0/task:0/device:GPU:0\n",
            "Executing op VarHandleOp in device /job:localhost/replica:0/task:0/device:GPU:0\n",
            "Executing op VarHandleOp in device /job:localhost/replica:0/task:0/device:GPU:0\n",
            "Executing op VarHandleOp in device /job:localhost/replica:0/task:0/device:GPU:0\n",
            "Executing op VarHandleOp in device /job:localhost/replica:0/task:0/device:GPU:0\n",
            "Executing op VarHandleOp in device /job:localhost/replica:0/task:0/device:GPU:0\n"
          ],
          "name": "stdout"
        },
        {
          "output_type": "stream",
          "text": [
            "WARNING: Logging before flag parsing goes to stderr.\n",
            "W0623 08:37:41.591645 140542749157120 estimator.py:1811] Using temporary folder as model directory: /tmp/tmp10f6oikm\n"
          ],
          "name": "stderr"
        },
        {
          "output_type": "stream",
          "text": [
            "Executing op ReadVariableOp in device /job:localhost/replica:0/task:0/device:GPU:0\n"
          ],
          "name": "stdout"
        }
      ]
    },
    {
      "cell_type": "code",
      "metadata": {
        "id": "MRV87le8W3ZH",
        "colab_type": "code",
        "outputId": "7fbaa238-61fc-41e4-cf12-882fa04ee1e8",
        "colab": {}
      },
      "source": [
        "model.summary()"
      ],
      "execution_count": 0,
      "outputs": [
        {
          "output_type": "stream",
          "text": [
            "Model: \"sequential\"\n",
            "_________________________________________________________________\n",
            "Layer (type)                 Output Shape              Param #   \n",
            "=================================================================\n",
            "conv2d (Conv2D)              (None, 28, 28, 128)       1280      \n",
            "_________________________________________________________________\n",
            "conv2d_1 (Conv2D)            (None, 28, 28, 128)       147584    \n",
            "_________________________________________________________________\n",
            "max_pooling2d (MaxPooling2D) (None, 14, 14, 128)       0         \n",
            "_________________________________________________________________\n",
            "conv2d_2 (Conv2D)            (None, 14, 14, 256)       295168    \n",
            "_________________________________________________________________\n",
            "conv2d_3 (Conv2D)            (None, 14, 14, 256)       590080    \n",
            "_________________________________________________________________\n",
            "max_pooling2d_1 (MaxPooling2 (None, 7, 7, 256)         0         \n",
            "_________________________________________________________________\n",
            "conv2d_4 (Conv2D)            (None, 7, 7, 512)         1180160   \n",
            "_________________________________________________________________\n",
            "conv2d_5 (Conv2D)            (None, 7, 7, 512)         2359808   \n",
            "_________________________________________________________________\n",
            "max_pooling2d_2 (MaxPooling2 (None, 3, 3, 512)         0         \n",
            "_________________________________________________________________\n",
            "flatten (Flatten)            (None, 4608)              0         \n",
            "_________________________________________________________________\n",
            "dense (Dense)                (None, 512)               2359808   \n",
            "_________________________________________________________________\n",
            "dense_1 (Dense)              (None, 10)                5130      \n",
            "=================================================================\n",
            "Total params: 6,939,018\n",
            "Trainable params: 6,939,018\n",
            "Non-trainable params: 0\n",
            "_________________________________________________________________\n"
          ],
          "name": "stdout"
        }
      ]
    },
    {
      "cell_type": "code",
      "metadata": {
        "id": "9JM_1dvfW3ZJ",
        "colab_type": "code",
        "outputId": "3c2329d0-416f-4818-8a14-99e777ffea46",
        "colab": {}
      },
      "source": [
        "estimator.train(\n",
        "    input_fn = lambda : make_dataset(\n",
        "        x_train_scaled, y_train, epochs, batch_size),\n",
        "    max_steps = 5000)"
      ],
      "execution_count": 0,
      "outputs": [
        {
          "output_type": "stream",
          "text": [
            "W0623 08:37:56.337134 140534117127936 deprecation.py:323] From /home/stdcoutzyx/.local/lib/python3.5/site-packages/tensorflow/python/ops/array_ops.py:1340: add_dispatch_support.<locals>.wrapper (from tensorflow.python.ops.array_ops) is deprecated and will be removed in a future version.\n",
            "Instructions for updating:\n",
            "Use tf.where in 2.0, which has the same broadcast rule as np.where\n"
          ],
          "name": "stderr"
        },
        {
          "output_type": "execute_result",
          "data": {
            "text/plain": [
              "<tensorflow_estimator.python.estimator.estimator.Estimator at 0x7fd178164d30>"
            ]
          },
          "metadata": {
            "tags": []
          },
          "execution_count": 8
        }
      ]
    },
    {
      "cell_type": "code",
      "metadata": {
        "id": "4jE5x8b5W3ZK",
        "colab_type": "code",
        "colab": {}
      },
      "source": [
        ""
      ],
      "execution_count": 0,
      "outputs": []
    },
    {
      "cell_type": "markdown",
      "metadata": {
        "id": "4d_claEZW3ZM",
        "colab_type": "text"
      },
      "source": [
        "## tf_customized_training_baseline"
      ]
    },
    {
      "cell_type": "code",
      "metadata": {
        "id": "XuCoJ98PW3ZM",
        "colab_type": "code",
        "outputId": "6d5487d5-febc-41c4-e4ff-c94b94c582f9",
        "colab": {}
      },
      "source": [
        "import matplotlib as mpl\n",
        "import matplotlib.pyplot as plt\n",
        "%matplotlib inline\n",
        "import numpy as np\n",
        "import sklearn\n",
        "import pandas as pd\n",
        "import os\n",
        "import sys\n",
        "import time\n",
        "import tensorflow as tf\n",
        "\n",
        "from tensorflow import keras\n",
        "\n",
        "print(tf.__version__)\n",
        "print(sys.version_info)\n",
        "for module in mpl, np, pd, sklearn, tf, keras:\n",
        "    print(module.__name__, module.__version__)\n"
      ],
      "execution_count": 0,
      "outputs": [
        {
          "output_type": "stream",
          "text": [
            "2.0.0-beta1\n",
            "sys.version_info(major=3, minor=5, micro=3, releaselevel='final', serial=0)\n",
            "matplotlib 3.0.3\n",
            "numpy 1.16.4\n",
            "pandas 0.24.2\n",
            "sklearn 0.21.2\n",
            "tensorflow 2.0.0-beta1\n",
            "tensorflow.python.keras.api._v2.keras 2.2.4-tf\n"
          ],
          "name": "stdout"
        }
      ]
    },
    {
      "cell_type": "code",
      "metadata": {
        "id": "ykRcI-cJW3ZN",
        "colab_type": "code",
        "outputId": "ee7d0ce0-6a18-47f6-fee0-9ad1d32531b1",
        "colab": {}
      },
      "source": [
        "tf.debugging.set_log_device_placement(True)\n",
        "gpus = tf.config.experimental.list_physical_devices('GPU')\n",
        "tf.config.experimental.set_visible_devices(gpus[3], 'GPU')\n",
        "for gpu in gpus:\n",
        "    tf.config.experimental.set_memory_growth(gpu, True)\n",
        "print(len(gpus))\n",
        "logical_gpus = tf.config.experimental.list_logical_devices('GPU')\n",
        "print(len(logical_gpus))\n"
      ],
      "execution_count": 0,
      "outputs": [
        {
          "output_type": "stream",
          "text": [
            "4\n",
            "1\n"
          ],
          "name": "stdout"
        }
      ]
    },
    {
      "cell_type": "code",
      "metadata": {
        "id": "2Xn9N3yBW3ZP",
        "colab_type": "code",
        "outputId": "e839f3b1-21a5-48e4-a349-7baaa268174f",
        "colab": {}
      },
      "source": [
        "fashion_mnist = keras.datasets.fashion_mnist\n",
        "(x_train_all, y_train_all), (x_test, y_test) = fashion_mnist.load_data()\n",
        "x_valid, x_train = x_train_all[:5000], x_train_all[5000:]\n",
        "y_valid, y_train = y_train_all[:5000], y_train_all[5000:]\n",
        "\n",
        "print(x_valid.shape, y_valid.shape)\n",
        "print(x_train.shape, y_train.shape)\n",
        "print(x_test.shape, y_test.shape)"
      ],
      "execution_count": 0,
      "outputs": [
        {
          "output_type": "stream",
          "text": [
            "(5000, 28, 28) (5000,)\n",
            "(55000, 28, 28) (55000,)\n",
            "(10000, 28, 28) (10000,)\n"
          ],
          "name": "stdout"
        }
      ]
    },
    {
      "cell_type": "code",
      "metadata": {
        "id": "Hj_AU6YsW3ZR",
        "colab_type": "code",
        "colab": {}
      },
      "source": [
        "from sklearn.preprocessing import StandardScaler\n",
        "\n",
        "scaler = StandardScaler()\n",
        "x_train_scaled = scaler.fit_transform(\n",
        "    x_train.astype(np.float32).reshape(-1, 1)).reshape(-1, 28, 28, 1)\n",
        "x_valid_scaled = scaler.transform(\n",
        "    x_valid.astype(np.float32).reshape(-1, 1)).reshape(-1, 28, 28, 1)\n",
        "x_test_scaled = scaler.transform(\n",
        "    x_test.astype(np.float32).reshape(-1, 1)).reshape(-1, 28, 28, 1)\n"
      ],
      "execution_count": 0,
      "outputs": []
    },
    {
      "cell_type": "code",
      "metadata": {
        "id": "bd_BzTaQW3ZS",
        "colab_type": "code",
        "outputId": "a9b2f5a2-1b31-4201-e482-4bfb401ed1da",
        "colab": {}
      },
      "source": [
        "def make_dataset(images, labels, epochs, batch_size, shuffle=True):\n",
        "    dataset = tf.data.Dataset.from_tensor_slices((images, labels))\n",
        "    if shuffle:\n",
        "        dataset = dataset.shuffle(10000)\n",
        "    dataset = dataset.repeat(epochs).batch(batch_size).prefetch(50)\n",
        "    return dataset\n",
        "\n",
        "batch_size = 256\n",
        "train_dataset = make_dataset(x_train_scaled, y_train, 1, batch_size)\n",
        "valid_dataset = make_dataset(x_valid_scaled, y_valid, 1, batch_size)"
      ],
      "execution_count": 0,
      "outputs": [
        {
          "output_type": "stream",
          "text": [
            "Executing op TensorSliceDataset in device /job:localhost/replica:0/task:0/device:CPU:0\n",
            "Executing op ShuffleDataset in device /job:localhost/replica:0/task:0/device:CPU:0\n",
            "Executing op RepeatDataset in device /job:localhost/replica:0/task:0/device:CPU:0\n",
            "Executing op BatchDatasetV2 in device /job:localhost/replica:0/task:0/device:CPU:0\n",
            "Executing op PrefetchDataset in device /job:localhost/replica:0/task:0/device:CPU:0\n"
          ],
          "name": "stdout"
        }
      ]
    },
    {
      "cell_type": "code",
      "metadata": {
        "id": "QNAfyh74W3ZV",
        "colab_type": "code",
        "outputId": "51d9097b-ba1b-4d2c-e4b6-3d6388dbab1b",
        "colab": {}
      },
      "source": [
        "model = keras.models.Sequential()\n",
        "model.add(keras.layers.Conv2D(filters=128, kernel_size=3,\n",
        "                              padding='same',\n",
        "                              activation='relu',\n",
        "                              input_shape=(28, 28, 1)))\n",
        "model.add(keras.layers.Conv2D(filters=128, kernel_size=3,\n",
        "                              padding='same',\n",
        "                              activation='relu'))\n",
        "model.add(keras.layers.MaxPool2D(pool_size=2))\n",
        "model.add(keras.layers.Conv2D(filters=256, kernel_size=3,\n",
        "                              padding='same',\n",
        "                              activation='relu'))\n",
        "model.add(keras.layers.Conv2D(filters=256, kernel_size=3,\n",
        "                              padding='same',\n",
        "                              activation='relu'))\n",
        "model.add(keras.layers.MaxPool2D(pool_size=2))\n",
        "model.add(keras.layers.Conv2D(filters=512, kernel_size=3,\n",
        "                              padding='same',\n",
        "                              activation='relu'))\n",
        "model.add(keras.layers.Conv2D(filters=512, kernel_size=3,\n",
        "                              padding='same',\n",
        "                              activation='relu'))\n",
        "model.add(keras.layers.MaxPool2D(pool_size=2))\n",
        "model.add(keras.layers.Flatten())\n",
        "model.add(keras.layers.Dense(512, activation='relu'))\n",
        "model.add(keras.layers.Dense(10, activation=\"softmax\"))"
      ],
      "execution_count": 0,
      "outputs": [
        {
          "output_type": "stream",
          "text": [
            "Executing op RandomUniform in device /job:localhost/replica:0/task:0/device:GPU:0\n",
            "Executing op Sub in device /job:localhost/replica:0/task:0/device:GPU:0\n",
            "Executing op Mul in device /job:localhost/replica:0/task:0/device:GPU:0\n",
            "Executing op Add in device /job:localhost/replica:0/task:0/device:GPU:0\n",
            "Executing op VarHandleOp in device /job:localhost/replica:0/task:0/device:GPU:0\n",
            "Executing op VarIsInitializedOp in device /job:localhost/replica:0/task:0/device:GPU:0\n",
            "Executing op LogicalNot in device /job:localhost/replica:0/task:0/device:GPU:0\n",
            "Executing op Assert in device /job:localhost/replica:0/task:0/device:GPU:0\n",
            "Executing op AssignVariableOp in device /job:localhost/replica:0/task:0/device:GPU:0\n",
            "Executing op Fill in device /job:localhost/replica:0/task:0/device:GPU:0\n",
            "Executing op VarHandleOp in device /job:localhost/replica:0/task:0/device:GPU:0\n",
            "Executing op VarHandleOp in device /job:localhost/replica:0/task:0/device:GPU:0\n",
            "Executing op VarHandleOp in device /job:localhost/replica:0/task:0/device:GPU:0\n",
            "Executing op VarHandleOp in device /job:localhost/replica:0/task:0/device:GPU:0\n",
            "Executing op VarHandleOp in device /job:localhost/replica:0/task:0/device:GPU:0\n",
            "Executing op VarHandleOp in device /job:localhost/replica:0/task:0/device:GPU:0\n",
            "Executing op VarHandleOp in device /job:localhost/replica:0/task:0/device:GPU:0\n",
            "Executing op VarHandleOp in device /job:localhost/replica:0/task:0/device:GPU:0\n",
            "Executing op VarHandleOp in device /job:localhost/replica:0/task:0/device:GPU:0\n",
            "Executing op VarHandleOp in device /job:localhost/replica:0/task:0/device:GPU:0\n",
            "Executing op VarHandleOp in device /job:localhost/replica:0/task:0/device:GPU:0\n"
          ],
          "name": "stdout"
        }
      ]
    },
    {
      "cell_type": "code",
      "metadata": {
        "id": "EJxGvwJqW3ZW",
        "colab_type": "code",
        "outputId": "6a5eaa05-e6a7-4efb-a916-d6c5741d242e",
        "colab": {}
      },
      "source": [
        "model.summary()"
      ],
      "execution_count": 0,
      "outputs": [
        {
          "output_type": "stream",
          "text": [
            "Model: \"sequential\"\n",
            "_________________________________________________________________\n",
            "Layer (type)                 Output Shape              Param #   \n",
            "=================================================================\n",
            "conv2d (Conv2D)              (None, 28, 28, 128)       1280      \n",
            "_________________________________________________________________\n",
            "conv2d_1 (Conv2D)            (None, 28, 28, 128)       147584    \n",
            "_________________________________________________________________\n",
            "max_pooling2d (MaxPooling2D) (None, 14, 14, 128)       0         \n",
            "_________________________________________________________________\n",
            "conv2d_2 (Conv2D)            (None, 14, 14, 256)       295168    \n",
            "_________________________________________________________________\n",
            "conv2d_3 (Conv2D)            (None, 14, 14, 256)       590080    \n",
            "_________________________________________________________________\n",
            "max_pooling2d_1 (MaxPooling2 (None, 7, 7, 256)         0         \n",
            "_________________________________________________________________\n",
            "conv2d_4 (Conv2D)            (None, 7, 7, 512)         1180160   \n",
            "_________________________________________________________________\n",
            "conv2d_5 (Conv2D)            (None, 7, 7, 512)         2359808   \n",
            "_________________________________________________________________\n",
            "max_pooling2d_2 (MaxPooling2 (None, 3, 3, 512)         0         \n",
            "_________________________________________________________________\n",
            "flatten (Flatten)            (None, 4608)              0         \n",
            "_________________________________________________________________\n",
            "dense (Dense)                (None, 512)               2359808   \n",
            "_________________________________________________________________\n",
            "dense_1 (Dense)              (None, 10)                5130      \n",
            "=================================================================\n",
            "Total params: 6,939,018\n",
            "Trainable params: 6,939,018\n",
            "Non-trainable params: 0\n",
            "_________________________________________________________________\n"
          ],
          "name": "stdout"
        }
      ]
    },
    {
      "cell_type": "code",
      "metadata": {
        "id": "0kMIwnXXW3ZY",
        "colab_type": "code",
        "outputId": "b537a3b1-5ee9-4330-9cdb-f2b73a84811a",
        "colab": {}
      },
      "source": [
        "# customized training loop.\n",
        "# 1. define losses functions\n",
        "# 2. define function train_step\n",
        "# 3. define function test_step\n",
        "# 4. for-loop training loop\n",
        "\n",
        "loss_func = keras.losses.SparseCategoricalCrossentropy(\n",
        "    reduction = keras.losses.Reduction.SUM_OVER_BATCH_SIZE)\n",
        "test_loss = keras.metrics.Mean(name = \"test_loss\")\n",
        "train_accuracy = keras.metrics.SparseCategoricalAccuracy(\n",
        "    name = 'train_accuracy')\n",
        "test_accuracy = keras.metrics.SparseCategoricalAccuracy(\n",
        "    name = 'test_accuracy')\n",
        "\n",
        "optimizer = keras.optimizers.SGD(lr=0.01)\n",
        "\n",
        "@tf.function\n",
        "def train_step(inputs):\n",
        "    images, labels = inputs\n",
        "    with tf.GradientTape() as tape:\n",
        "        predictions = model(images, training = True)\n",
        "        loss = loss_func(labels, predictions)\n",
        "    gradients = tape.gradient(loss, model.trainable_variables)\n",
        "    optimizer.apply_gradients(zip(gradients, model.trainable_variables))\n",
        "    train_accuracy.update_state(labels, predictions)\n",
        "    return loss\n",
        "\n",
        "@tf.function\n",
        "def test_step(inputs):\n",
        "    images, labels = inputs\n",
        "    predictions = model(images)\n",
        "    t_loss = loss_func(labels, predictions)\n",
        "    test_loss.update_state(t_loss)\n",
        "    test_accuracy.update_state(labels, predictions)\n",
        "    \n",
        "epochs = 10\n",
        "for epoch in range(epochs):\n",
        "    total_loss = 0.0\n",
        "    num_batches = 0\n",
        "    for x in train_dataset:\n",
        "        start_time = time.time()\n",
        "        total_loss += train_step(x)\n",
        "        run_time = time.time() - start_time\n",
        "        num_batches += 1\n",
        "        print('\\rtotal: %3.3f, num_batches: %d, '\n",
        "              'average: %3.3f, time: %3.3f'\n",
        "              % (total_loss, num_batches,\n",
        "                 total_loss / num_batches, run_time),\n",
        "              end = '')\n",
        "    train_loss = total_loss / num_batches\n",
        "    for x in valid_dataset:\n",
        "        test_step(x)\n",
        "    \n",
        "    print('\\rEpoch: %d, Loss: %3.3f, Acc: %3.3f, '\n",
        "          'Val_Loss: %3.3f, Val_Acc: %3.3f'\n",
        "          % (epoch + 1, train_loss, train_accuracy.result(),\n",
        "             test_loss.result(), test_accuracy.result()))\n",
        "    test_loss.reset_states()\n",
        "    train_accuracy.reset_states()\n",
        "    test_accuracy.reset_states()"
      ],
      "execution_count": 0,
      "outputs": [
        {
          "output_type": "stream",
          "text": [
            "Executing op VarHandleOp in device /job:localhost/replica:0/task:0/device:GPU:0\n",
            "Executing op VarHandleOp in device /job:localhost/replica:0/task:0/device:GPU:0\n",
            "Executing op VarHandleOp in device /job:localhost/replica:0/task:0/device:GPU:0\n",
            "Executing op VarHandleOp in device /job:localhost/replica:0/task:0/device:GPU:0\n",
            "Executing op __inference_initialize_variables_611589 in device <unspecified>\n",
            "Executing op __inference_train_step_611784 in device <unspecified>\n",
            "total: 65.034, num_batches: 214, average: 0.304, time: 0.002Executing op __inference_train_step_613692 in device <unspecified>\n",
            "total: 65.272, num_batches: 215, average: 0.304, time: 12.825Executing op __inference_test_step_613813 in device <unspecified>\n",
            "Executing op __inference_test_step_613956 in device <unspecified>\n",
            "Epoch: 1, Loss: 0.304, Acc: 0.889, Val_Loss: 0.300, Val_Acc: 0.892\n",
            "Epoch: 2, Loss: 0.297, Acc: 0.891, Val_Loss: 0.295, Val_Acc: 0.894\n",
            "Epoch: 3, Loss: 0.290, Acc: 0.894, Val_Loss: 0.291, Val_Acc: 0.894\n",
            "Epoch: 4, Loss: 0.284, Acc: 0.896, Val_Loss: 0.289, Val_Acc: 0.895\n",
            "Epoch: 5, Loss: 0.278, Acc: 0.898, Val_Loss: 0.285, Val_Acc: 0.897\n",
            "Epoch: 6, Loss: 0.272, Acc: 0.900, Val_Loss: 0.283, Val_Acc: 0.897\n",
            "Epoch: 7, Loss: 0.266, Acc: 0.902, Val_Loss: 0.280, Val_Acc: 0.898\n",
            "Epoch: 8, Loss: 0.261, Acc: 0.904, Val_Loss: 0.278, Val_Acc: 0.899\n",
            "Epoch: 9, Loss: 0.256, Acc: 0.906, Val_Loss: 0.276, Val_Acc: 0.898\n",
            "Epoch: 10, Loss: 0.251, Acc: 0.908, Val_Loss: 0.274, Val_Acc: 0.899\n"
          ],
          "name": "stdout"
        }
      ]
    },
    {
      "cell_type": "code",
      "metadata": {
        "id": "WenjFa7fW3ZZ",
        "colab_type": "code",
        "colab": {}
      },
      "source": [
        ""
      ],
      "execution_count": 0,
      "outputs": []
    },
    {
      "cell_type": "markdown",
      "metadata": {
        "id": "UVlgHgnqW3Za",
        "colab_type": "text"
      },
      "source": [
        "## tf_distributed_customized_training"
      ]
    },
    {
      "cell_type": "code",
      "metadata": {
        "id": "mghQ85mIW3Za",
        "colab_type": "code",
        "outputId": "3b2061b9-3cb5-4735-b8a4-e734d4da81cb",
        "colab": {}
      },
      "source": [
        "import matplotlib as mpl\n",
        "import matplotlib.pyplot as plt\n",
        "%matplotlib inline\n",
        "import numpy as np\n",
        "import sklearn\n",
        "import pandas as pd\n",
        "import os\n",
        "import sys\n",
        "import time\n",
        "import tensorflow as tf\n",
        "\n",
        "from tensorflow import keras\n",
        "\n",
        "print(tf.__version__)\n",
        "print(sys.version_info)\n",
        "for module in mpl, np, pd, sklearn, tf, keras:\n",
        "    print(module.__name__, module.__version__)\n"
      ],
      "execution_count": 0,
      "outputs": [
        {
          "output_type": "stream",
          "text": [
            "2.0.0-beta1\n",
            "sys.version_info(major=3, minor=5, micro=3, releaselevel='final', serial=0)\n",
            "matplotlib 3.0.3\n",
            "numpy 1.16.4\n",
            "pandas 0.24.2\n",
            "sklearn 0.21.2\n",
            "tensorflow 2.0.0-beta1\n",
            "tensorflow.python.keras.api._v2.keras 2.2.4-tf\n"
          ],
          "name": "stdout"
        }
      ]
    },
    {
      "cell_type": "code",
      "metadata": {
        "id": "_X0RiRdLW3Zc",
        "colab_type": "code",
        "outputId": "1213ea79-9945-4d1b-ac0f-79aa898381b6",
        "colab": {}
      },
      "source": [
        "tf.debugging.set_log_device_placement(True)\n",
        "gpus = tf.config.experimental.list_physical_devices('GPU')\n",
        "for gpu in gpus:\n",
        "    tf.config.experimental.set_memory_growth(gpu, True)\n",
        "print(len(gpus))\n",
        "logical_gpus = tf.config.experimental.list_logical_devices('GPU')\n",
        "print(len(logical_gpus))\n"
      ],
      "execution_count": 0,
      "outputs": [
        {
          "output_type": "stream",
          "text": [
            "4\n",
            "4\n"
          ],
          "name": "stdout"
        }
      ]
    },
    {
      "cell_type": "code",
      "metadata": {
        "id": "8i2cy04FW3Zd",
        "colab_type": "code",
        "outputId": "9f60e471-d1f2-4e9d-fde9-b77c7db15032",
        "colab": {}
      },
      "source": [
        "fashion_mnist = keras.datasets.fashion_mnist\n",
        "(x_train_all, y_train_all), (x_test, y_test) = fashion_mnist.load_data()\n",
        "x_valid, x_train = x_train_all[:5000], x_train_all[5000:]\n",
        "y_valid, y_train = y_train_all[:5000], y_train_all[5000:]\n",
        "\n",
        "print(x_valid.shape, y_valid.shape)\n",
        "print(x_train.shape, y_train.shape)\n",
        "print(x_test.shape, y_test.shape)"
      ],
      "execution_count": 0,
      "outputs": [
        {
          "output_type": "stream",
          "text": [
            "(5000, 28, 28) (5000,)\n",
            "(55000, 28, 28) (55000,)\n",
            "(10000, 28, 28) (10000,)\n"
          ],
          "name": "stdout"
        }
      ]
    },
    {
      "cell_type": "code",
      "metadata": {
        "id": "Pj87YJcTW3Ze",
        "colab_type": "code",
        "colab": {}
      },
      "source": [
        "from sklearn.preprocessing import StandardScaler\n",
        "\n",
        "scaler = StandardScaler()\n",
        "x_train_scaled = scaler.fit_transform(\n",
        "    x_train.astype(np.float32).reshape(-1, 1)).reshape(-1, 28, 28, 1)\n",
        "x_valid_scaled = scaler.transform(\n",
        "    x_valid.astype(np.float32).reshape(-1, 1)).reshape(-1, 28, 28, 1)\n",
        "x_test_scaled = scaler.transform(\n",
        "    x_test.astype(np.float32).reshape(-1, 1)).reshape(-1, 28, 28, 1)\n"
      ],
      "execution_count": 0,
      "outputs": []
    },
    {
      "cell_type": "code",
      "metadata": {
        "id": "KixaA7CNW3Zf",
        "colab_type": "code",
        "outputId": "93524144-b011-424d-d812-2836462f7afd",
        "colab": {}
      },
      "source": [
        "def make_dataset(images, labels, epochs, batch_size, shuffle=True):\n",
        "    dataset = tf.data.Dataset.from_tensor_slices((images, labels))\n",
        "    if shuffle:\n",
        "        dataset = dataset.shuffle(10000)\n",
        "    dataset = dataset.repeat(epochs).batch(batch_size).prefetch(50)\n",
        "    return dataset\n",
        "\n",
        "strategy = tf.distribute.MirroredStrategy()\n",
        "\n",
        "with strategy.scope():\n",
        "    batch_size_per_replica = 256\n",
        "    batch_size = batch_size_per_replica * len(logical_gpus)\n",
        "    train_dataset = make_dataset(x_train_scaled, y_train, 1, batch_size)\n",
        "    valid_dataset = make_dataset(x_valid_scaled, y_valid, 1, batch_size)\n",
        "    train_dataset_distribute = strategy.experimental_distribute_dataset(\n",
        "        train_dataset)\n",
        "    valid_dataset_distribute = strategy.experimental_distribute_dataset(\n",
        "        valid_dataset)"
      ],
      "execution_count": 0,
      "outputs": [
        {
          "output_type": "stream",
          "text": [
            "Executing op TensorSliceDataset in device /job:localhost/replica:0/task:0/device:CPU:0\n",
            "Executing op ShuffleDataset in device /job:localhost/replica:0/task:0/device:CPU:0\n",
            "Executing op RepeatDataset in device /job:localhost/replica:0/task:0/device:CPU:0\n",
            "Executing op BatchDatasetV2 in device /job:localhost/replica:0/task:0/device:CPU:0\n",
            "Executing op PrefetchDataset in device /job:localhost/replica:0/task:0/device:CPU:0\n",
            "Executing op ExperimentalRebatchDataset in device /job:localhost/replica:0/task:0/device:CPU:0\n",
            "Executing op ExperimentalAutoShardDataset in device /job:localhost/replica:0/task:0/device:CPU:0\n"
          ],
          "name": "stdout"
        }
      ]
    },
    {
      "cell_type": "code",
      "metadata": {
        "id": "aaUzd8yqW3Zi",
        "colab_type": "code",
        "outputId": "8c4f9e5f-ce4f-4715-d033-39ac1551dd59",
        "colab": {}
      },
      "source": [
        "with strategy.scope():\n",
        "    model = keras.models.Sequential()\n",
        "    model.add(keras.layers.Conv2D(filters=128, kernel_size=3,\n",
        "                                  padding='same',\n",
        "                                  activation='relu',\n",
        "                                  input_shape=(28, 28, 1)))\n",
        "    model.add(keras.layers.Conv2D(filters=128, kernel_size=3,\n",
        "                                  padding='same',\n",
        "                                  activation='relu'))\n",
        "    model.add(keras.layers.MaxPool2D(pool_size=2))\n",
        "    model.add(keras.layers.Conv2D(filters=256, kernel_size=3,\n",
        "                                  padding='same',\n",
        "                                  activation='relu'))\n",
        "    model.add(keras.layers.Conv2D(filters=256, kernel_size=3,\n",
        "                                  padding='same',\n",
        "                                  activation='relu'))\n",
        "    model.add(keras.layers.MaxPool2D(pool_size=2))\n",
        "    model.add(keras.layers.Conv2D(filters=512, kernel_size=3,\n",
        "                                  padding='same',\n",
        "                                  activation='relu'))\n",
        "    model.add(keras.layers.Conv2D(filters=512, kernel_size=3,\n",
        "                                  padding='same',\n",
        "                                  activation='relu'))\n",
        "    model.add(keras.layers.MaxPool2D(pool_size=2))\n",
        "    model.add(keras.layers.Flatten())\n",
        "    model.add(keras.layers.Dense(512, activation='relu'))\n",
        "    model.add(keras.layers.Dense(10, activation=\"softmax\"))"
      ],
      "execution_count": 0,
      "outputs": [
        {
          "output_type": "stream",
          "text": [
            "Executing op RandomUniform in device /job:localhost/replica:0/task:0/device:GPU:0\n",
            "Executing op Sub in device /job:localhost/replica:0/task:0/device:GPU:0\n",
            "Executing op Mul in device /job:localhost/replica:0/task:0/device:GPU:0\n",
            "Executing op Add in device /job:localhost/replica:0/task:0/device:GPU:0\n",
            "Executing op VarHandleOp in device /job:localhost/replica:0/task:0/device:GPU:0\n",
            "Executing op VarIsInitializedOp in device /job:localhost/replica:0/task:0/device:GPU:0\n",
            "Executing op LogicalNot in device /job:localhost/replica:0/task:0/device:GPU:0\n",
            "Executing op Assert in device /job:localhost/replica:0/task:0/device:GPU:0\n",
            "Executing op AssignVariableOp in device /job:localhost/replica:0/task:0/device:GPU:0\n",
            "Executing op ReadVariableOp in device /job:localhost/replica:0/task:0/device:GPU:0\n",
            "Executing op VarHandleOp in device /job:localhost/replica:0/task:0/device:GPU:1\n",
            "Executing op VarIsInitializedOp in device /job:localhost/replica:0/task:0/device:GPU:1\n",
            "Executing op LogicalNot in device /job:localhost/replica:0/task:0/device:GPU:1\n",
            "Executing op Assert in device /job:localhost/replica:0/task:0/device:GPU:1\n",
            "Executing op AssignVariableOp in device /job:localhost/replica:0/task:0/device:GPU:1\n",
            "Executing op VarHandleOp in device /job:localhost/replica:0/task:0/device:GPU:2\n",
            "Executing op VarIsInitializedOp in device /job:localhost/replica:0/task:0/device:GPU:2\n",
            "Executing op LogicalNot in device /job:localhost/replica:0/task:0/device:GPU:2\n",
            "Executing op Assert in device /job:localhost/replica:0/task:0/device:GPU:2\n",
            "Executing op AssignVariableOp in device /job:localhost/replica:0/task:0/device:GPU:2\n",
            "Executing op VarHandleOp in device /job:localhost/replica:0/task:0/device:GPU:3\n",
            "Executing op VarIsInitializedOp in device /job:localhost/replica:0/task:0/device:GPU:3\n",
            "Executing op LogicalNot in device /job:localhost/replica:0/task:0/device:GPU:3\n",
            "Executing op Assert in device /job:localhost/replica:0/task:0/device:GPU:3\n",
            "Executing op AssignVariableOp in device /job:localhost/replica:0/task:0/device:GPU:3\n",
            "Executing op Fill in device /job:localhost/replica:0/task:0/device:GPU:0\n",
            "Executing op VarHandleOp in device /job:localhost/replica:0/task:0/device:GPU:0\n",
            "Executing op VarHandleOp in device /job:localhost/replica:0/task:0/device:GPU:1\n",
            "Executing op VarHandleOp in device /job:localhost/replica:0/task:0/device:GPU:2\n",
            "Executing op VarHandleOp in device /job:localhost/replica:0/task:0/device:GPU:3\n",
            "Executing op VarHandleOp in device /job:localhost/replica:0/task:0/device:GPU:0\n",
            "Executing op VarHandleOp in device /job:localhost/replica:0/task:0/device:GPU:1\n",
            "Executing op VarHandleOp in device /job:localhost/replica:0/task:0/device:GPU:2\n",
            "Executing op VarHandleOp in device /job:localhost/replica:0/task:0/device:GPU:3\n",
            "Executing op VarHandleOp in device /job:localhost/replica:0/task:0/device:GPU:0\n",
            "Executing op VarHandleOp in device /job:localhost/replica:0/task:0/device:GPU:1\n",
            "Executing op VarHandleOp in device /job:localhost/replica:0/task:0/device:GPU:2\n",
            "Executing op VarHandleOp in device /job:localhost/replica:0/task:0/device:GPU:3\n",
            "Executing op VarHandleOp in device /job:localhost/replica:0/task:0/device:GPU:0\n",
            "Executing op VarHandleOp in device /job:localhost/replica:0/task:0/device:GPU:1\n",
            "Executing op VarHandleOp in device /job:localhost/replica:0/task:0/device:GPU:2\n",
            "Executing op VarHandleOp in device /job:localhost/replica:0/task:0/device:GPU:3\n",
            "Executing op VarHandleOp in device /job:localhost/replica:0/task:0/device:GPU:0\n",
            "Executing op VarHandleOp in device /job:localhost/replica:0/task:0/device:GPU:1\n",
            "Executing op VarHandleOp in device /job:localhost/replica:0/task:0/device:GPU:2\n",
            "Executing op VarHandleOp in device /job:localhost/replica:0/task:0/device:GPU:3\n",
            "Executing op VarHandleOp in device /job:localhost/replica:0/task:0/device:GPU:0\n",
            "Executing op VarHandleOp in device /job:localhost/replica:0/task:0/device:GPU:1\n",
            "Executing op VarHandleOp in device /job:localhost/replica:0/task:0/device:GPU:2\n",
            "Executing op VarHandleOp in device /job:localhost/replica:0/task:0/device:GPU:3\n",
            "Executing op VarHandleOp in device /job:localhost/replica:0/task:0/device:GPU:0\n",
            "Executing op VarHandleOp in device /job:localhost/replica:0/task:0/device:GPU:1\n",
            "Executing op VarHandleOp in device /job:localhost/replica:0/task:0/device:GPU:2\n",
            "Executing op VarHandleOp in device /job:localhost/replica:0/task:0/device:GPU:3\n",
            "Executing op VarHandleOp in device /job:localhost/replica:0/task:0/device:GPU:0\n",
            "Executing op VarHandleOp in device /job:localhost/replica:0/task:0/device:GPU:1\n",
            "Executing op VarHandleOp in device /job:localhost/replica:0/task:0/device:GPU:2\n",
            "Executing op VarHandleOp in device /job:localhost/replica:0/task:0/device:GPU:3\n",
            "Executing op VarHandleOp in device /job:localhost/replica:0/task:0/device:GPU:0\n",
            "Executing op VarHandleOp in device /job:localhost/replica:0/task:0/device:GPU:1\n",
            "Executing op VarHandleOp in device /job:localhost/replica:0/task:0/device:GPU:2\n",
            "Executing op VarHandleOp in device /job:localhost/replica:0/task:0/device:GPU:3\n",
            "Executing op VarHandleOp in device /job:localhost/replica:0/task:0/device:GPU:0\n",
            "Executing op VarHandleOp in device /job:localhost/replica:0/task:0/device:GPU:1\n",
            "Executing op VarHandleOp in device /job:localhost/replica:0/task:0/device:GPU:2\n",
            "Executing op VarHandleOp in device /job:localhost/replica:0/task:0/device:GPU:3\n",
            "Executing op VarHandleOp in device /job:localhost/replica:0/task:0/device:GPU:0\n",
            "Executing op VarHandleOp in device /job:localhost/replica:0/task:0/device:GPU:1\n",
            "Executing op VarHandleOp in device /job:localhost/replica:0/task:0/device:GPU:2\n",
            "Executing op VarHandleOp in device /job:localhost/replica:0/task:0/device:GPU:3\n"
          ],
          "name": "stdout"
        }
      ]
    },
    {
      "cell_type": "code",
      "metadata": {
        "id": "4bMV3FbiW3Zj",
        "colab_type": "code",
        "outputId": "6d195822-b35b-4d72-b8fb-14d977b0042b",
        "colab": {}
      },
      "source": [
        "model.summary()"
      ],
      "execution_count": 0,
      "outputs": [
        {
          "output_type": "stream",
          "text": [
            "Model: \"sequential\"\n",
            "_________________________________________________________________\n",
            "Layer (type)                 Output Shape              Param #   \n",
            "=================================================================\n",
            "conv2d (Conv2D)              (None, 28, 28, 128)       1280      \n",
            "_________________________________________________________________\n",
            "conv2d_1 (Conv2D)            (None, 28, 28, 128)       147584    \n",
            "_________________________________________________________________\n",
            "max_pooling2d (MaxPooling2D) (None, 14, 14, 128)       0         \n",
            "_________________________________________________________________\n",
            "conv2d_2 (Conv2D)            (None, 14, 14, 256)       295168    \n",
            "_________________________________________________________________\n",
            "conv2d_3 (Conv2D)            (None, 14, 14, 256)       590080    \n",
            "_________________________________________________________________\n",
            "max_pooling2d_1 (MaxPooling2 (None, 7, 7, 256)         0         \n",
            "_________________________________________________________________\n",
            "conv2d_4 (Conv2D)            (None, 7, 7, 512)         1180160   \n",
            "_________________________________________________________________\n",
            "conv2d_5 (Conv2D)            (None, 7, 7, 512)         2359808   \n",
            "_________________________________________________________________\n",
            "max_pooling2d_2 (MaxPooling2 (None, 3, 3, 512)         0         \n",
            "_________________________________________________________________\n",
            "flatten (Flatten)            (None, 4608)              0         \n",
            "_________________________________________________________________\n",
            "dense (Dense)                (None, 512)               2359808   \n",
            "_________________________________________________________________\n",
            "dense_1 (Dense)              (None, 10)                5130      \n",
            "=================================================================\n",
            "Total params: 6,939,018\n",
            "Trainable params: 6,939,018\n",
            "Non-trainable params: 0\n",
            "_________________________________________________________________\n"
          ],
          "name": "stdout"
        }
      ]
    },
    {
      "cell_type": "code",
      "metadata": {
        "id": "Jj9jKtpuW3Zl",
        "colab_type": "code",
        "outputId": "e2400b2e-6696-4447-afb6-a564ab3d0abd",
        "colab": {}
      },
      "source": [
        "# customized training loop.\n",
        "# 1. define losses functions\n",
        "# 2. define function train_step\n",
        "# 3. define function test_step\n",
        "# 4. for-loop training loop\n",
        "\n",
        "with strategy.scope():\n",
        "    # batch_size, batch_size / #{gpu}\n",
        "    # eg: 64, gpu: 16\n",
        "    loss_func = keras.losses.SparseCategoricalCrossentropy(\n",
        "        reduction = keras.losses.Reduction.NONE)\n",
        "    def compute_loss(labels, predictions):\n",
        "        per_replica_loss = loss_func(labels, predictions)\n",
        "        return tf.nn.compute_average_loss(per_replica_loss,\n",
        "                                          global_batch_size = batch_size)\n",
        "    \n",
        "    test_loss = keras.metrics.Mean(name = \"test_loss\")\n",
        "    train_accuracy = keras.metrics.SparseCategoricalAccuracy(\n",
        "        name = 'train_accuracy')\n",
        "    test_accuracy = keras.metrics.SparseCategoricalAccuracy(\n",
        "        name = 'test_accuracy')\n",
        "\n",
        "    optimizer = keras.optimizers.SGD(lr=0.01)\n",
        "\n",
        "    def train_step(inputs):\n",
        "        images, labels = inputs\n",
        "        with tf.GradientTape() as tape:\n",
        "            predictions = model(images, training = True)\n",
        "            loss = compute_loss(labels, predictions)\n",
        "        gradients = tape.gradient(loss, model.trainable_variables)\n",
        "        optimizer.apply_gradients(zip(gradients, model.trainable_variables))\n",
        "        train_accuracy.update_state(labels, predictions)\n",
        "        return loss\n",
        "    \n",
        "    @tf.function\n",
        "    def distributed_train_step(inputs):\n",
        "        per_replica_average_loss = strategy.experimental_run_v2(\n",
        "            train_step, args = (inputs,))\n",
        "        return strategy.reduce(tf.distribute.ReduceOp.SUM,\n",
        "                               per_replica_average_loss,\n",
        "                               axis = None)\n",
        "    \n",
        "    def test_step(inputs):\n",
        "        images, labels = inputs\n",
        "        predictions = model(images)\n",
        "        t_loss = loss_func(labels, predictions)\n",
        "        test_loss.update_state(t_loss)\n",
        "        test_accuracy.update_state(labels, predictions)\n",
        "        \n",
        "    @tf.function\n",
        "    def distributed_test_step(inputs):\n",
        "        strategy.experimental_run_v2(\n",
        "            test_step, args = (inputs,))\n",
        "\n",
        "    epochs = 10\n",
        "    for epoch in range(epochs):\n",
        "        total_loss = 0.0\n",
        "        num_batches = 0\n",
        "        for x in train_dataset:\n",
        "            start_time = time.time()\n",
        "            total_loss += distributed_train_step(x)\n",
        "            run_time = time.time() - start_time\n",
        "            num_batches += 1\n",
        "            print('\\rtotal: %3.3f, num_batches: %d, '\n",
        "                  'average: %3.3f, time: %3.3f'\n",
        "                  % (total_loss, num_batches,\n",
        "                     total_loss / num_batches, run_time),\n",
        "                  end = '')\n",
        "        train_loss = total_loss / num_batches\n",
        "        for x in valid_dataset:\n",
        "            distributed_test_step(x)\n",
        "\n",
        "        print('\\rEpoch: %d, Loss: %3.3f, Acc: %3.3f, '\n",
        "              'Val_Loss: %3.3f, Val_Acc: %3.3f'\n",
        "              % (epoch + 1, train_loss, train_accuracy.result(),\n",
        "                 test_loss.result(), test_accuracy.result()))\n",
        "        test_loss.reset_states()\n",
        "        train_accuracy.reset_states()\n",
        "        test_accuracy.reset_states()"
      ],
      "execution_count": 0,
      "outputs": [
        {
          "output_type": "stream",
          "text": [
            "Executing op VarHandleOp in device /job:localhost/replica:0/task:0/device:GPU:0\n",
            "Executing op VarHandleOp in device /job:localhost/replica:0/task:0/device:GPU:1\n",
            "Executing op VarHandleOp in device /job:localhost/replica:0/task:0/device:GPU:2\n",
            "Executing op VarHandleOp in device /job:localhost/replica:0/task:0/device:GPU:3\n",
            "Executing op VarHandleOp in device /job:localhost/replica:0/task:0/device:GPU:0\n",
            "Executing op VarHandleOp in device /job:localhost/replica:0/task:0/device:GPU:1\n",
            "Executing op VarHandleOp in device /job:localhost/replica:0/task:0/device:GPU:2\n",
            "Executing op VarHandleOp in device /job:localhost/replica:0/task:0/device:GPU:3\n",
            "Executing op VarHandleOp in device /job:localhost/replica:0/task:0/device:GPU:0\n",
            "Executing op VarHandleOp in device /job:localhost/replica:0/task:0/device:GPU:1\n",
            "Executing op VarHandleOp in device /job:localhost/replica:0/task:0/device:GPU:2\n",
            "Executing op VarHandleOp in device /job:localhost/replica:0/task:0/device:GPU:3\n",
            "Executing op VarHandleOp in device /job:localhost/replica:0/task:0/device:GPU:0\n",
            "Executing op VarHandleOp in device /job:localhost/replica:0/task:0/device:GPU:1\n",
            "Executing op VarHandleOp in device /job:localhost/replica:0/task:0/device:GPU:2\n",
            "Executing op VarHandleOp in device /job:localhost/replica:0/task:0/device:GPU:3\n",
            "Executing op __inference_initialize_variables_10549 in device <unspecified>\n",
            "Executing op __inference_distributed_train_step_11728 in device <unspecified>\n",
            "total: 107.368, num_batches: 53, average: 2.026, time: 0.203Executing op __inference_distributed_train_step_13332 in device <unspecified>\n",
            "total: 108.739, num_batches: 54, average: 2.014, time: 37.324Executing op __inference_distributed_test_step_13736 in device <unspecified>\n",
            "Executing op __inference_distributed_test_step_14132 in device <unspecified>\n",
            "Epoch: 1, Loss: 2.014, Acc: 0.810, Val_Loss: 0.440, Val_Acc: 0.846\n",
            "Epoch: 2, Loss: 1.872, Acc: 0.823, Val_Loss: 0.411, Val_Acc: 0.857\n",
            "Epoch: 3, Loss: 1.750, Acc: 0.837, Val_Loss: 0.383, Val_Acc: 0.864\n",
            "Epoch: 4, Loss: 1.664, Acc: 0.845, Val_Loss: 0.370, Val_Acc: 0.867\n",
            "Epoch: 5, Loss: 1.585, Acc: 0.852, Val_Loss: 0.357, Val_Acc: 0.870\n",
            "Epoch: 6, Loss: 1.519, Acc: 0.858, Val_Loss: 0.345, Val_Acc: 0.875\n",
            "Epoch: 7, Loss: 1.467, Acc: 0.863, Val_Loss: 0.335, Val_Acc: 0.879\n",
            "Epoch: 8, Loss: 1.409, Acc: 0.869, Val_Loss: 0.325, Val_Acc: 0.883\n",
            "Epoch: 9, Loss: 1.424, Acc: 0.869, Val_Loss: 0.326, Val_Acc: 0.880\n",
            "Epoch: 10, Loss: 1.346, Acc: 0.875, Val_Loss: 0.317, Val_Acc: 0.884\n"
          ],
          "name": "stdout"
        }
      ]
    },
    {
      "cell_type": "code",
      "metadata": {
        "id": "eiY16lZYW3Zm",
        "colab_type": "code",
        "colab": {}
      },
      "source": [
        ""
      ],
      "execution_count": 0,
      "outputs": []
    }
  ]
}